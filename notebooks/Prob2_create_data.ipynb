{
 "cells": [
  {
   "cell_type": "code",
   "execution_count": 1,
   "metadata": {},
   "outputs": [
    {
     "name": "stdout",
     "output_type": "stream",
     "text": [
      "Populating the interactive namespace from numpy and matplotlib\n"
     ]
    }
   ],
   "source": [
    "%pylab inline\n",
    "%matplotlib notebook"
   ]
  },
  {
   "cell_type": "markdown",
   "metadata": {},
   "source": [
    "<hr/>\n",
    "# Prob 2 : Create data from MPI runs\n",
    "<hr/>\n",
    "\n",
    "Run the following code for 1,2,4 and 8 processors. This will create files `trap_1.out`, `trap_2.out` and so on.\n",
    "You may need to modify thsi code so it works for your setup.\n",
    "\n",
    "This cell calls your MPI routine, collects the output, and then \"splits\" into a list of string data. This data is written to a text file so that you don't have to rerun the code to re-create plots and tables below.  This version assumes your output from your program looks like\n",
    "\n",
    "    Processor [0] :       1024   1.8725924894828205   1.8725929572658386   4.67783018e-07\n",
    "\n",
    "Feel free to modify the Python code below to match your output. If you improve it, please let know!"
   ]
  },
  {
   "cell_type": "code",
   "execution_count": 2,
   "metadata": {
    "collapsed": true
   },
   "outputs": [],
   "source": [
    "file_prefix = 'trap_'\n",
    "\n",
    "nprocs = 8   # set to 1,2,4, and 8\n",
    "filename = file_prefix + '{:02d}'.format(nprocs) + '.out'"
   ]
  },
  {
   "cell_type": "code",
   "execution_count": 5,
   "metadata": {},
   "outputs": [
    {
     "name": "stdout",
     "output_type": "stream",
     "text": [
      "65.8 ms ± 1.15 ms per loop (mean ± std. dev. of 5 runs, 5 loops each)\n",
      "66.5 ms ± 1.54 ms per loop (mean ± std. dev. of 5 runs, 5 loops each)\n",
      "63.9 ms ± 173 µs per loop (mean ± std. dev. of 5 runs, 5 loops each)\n",
      "66.4 ms ± 3.84 ms per loop (mean ± std. dev. of 5 runs, 5 loops each)\n",
      "73.6 ms ± 3.26 ms per loop (mean ± std. dev. of 5 runs, 5 loops each)\n",
      "69.4 ms ± 5.69 ms per loop (mean ± std. dev. of 5 runs, 5 loops each)\n",
      "64.8 ms ± 206 µs per loop (mean ± std. dev. of 5 runs, 5 loops each)\n",
      "65.5 ms ± 726 µs per loop (mean ± std. dev. of 5 runs, 5 loops each)\n",
      "65.7 ms ± 508 µs per loop (mean ± std. dev. of 5 runs, 5 loops each)\n",
      "67 ms ± 541 µs per loop (mean ± std. dev. of 5 runs, 5 loops each)\n",
      "72.5 ms ± 5.49 ms per loop (mean ± std. dev. of 5 runs, 5 loops each)\n",
      "72.5 ms ± 1e+03 µs per loop (mean ± std. dev. of 5 runs, 5 loops each)\n",
      "81.9 ms ± 851 µs per loop (mean ± std. dev. of 5 runs, 5 loops each)\n",
      "133 ms ± 28.4 ms per loop (mean ± std. dev. of 5 runs, 5 loops each)\n",
      "177 ms ± 12.1 ms per loop (mean ± std. dev. of 5 runs, 5 loops each)\n",
      "220 ms ± 15.1 ms per loop (mean ± std. dev. of 5 runs, 5 loops each)\n",
      "365 ms ± 18 ms per loop (mean ± std. dev. of 5 runs, 5 loops each)\n",
      "641 ms ± 6.16 ms per loop (mean ± std. dev. of 5 runs, 5 loops each)\n",
      "1.21 s ± 6.46 ms per loop (mean ± std. dev. of 5 runs, 5 loops each)\n"
     ]
    }
   ],
   "source": [
    "import subprocess, sys, time\n",
    "\n",
    "# We write the data to a file so that it doesn't have to be re-run everytime we modify \n",
    "# formatting or plotting\n",
    "\n",
    "f = open(filename,'w')\n",
    "for pv in range(10,29):\n",
    "    arg_list = ['/opt/local/bin/mpirun','-n', str(nprocs), 'demo_trap1','-p',str(pv)]\n",
    "        \n",
    "    # Test to make sure we can run this code\n",
    "    p = subprocess.run(arg_list,stdout=subprocess.PIPE)    \n",
    "    if p.returncode > 0:\n",
    "        print(\"Something went wrong!\")\n",
    "        sys.exit(0)\n",
    "    output = p.stdout.decode(\"utf-8\").split()\n",
    "    \n",
    "    tr = %timeit -n 5 -r 5 -o pass; p = subprocess.run(arg_list,stdout=subprocess.PIPE)\n",
    "    \n",
    "    # Read output\n",
    "    N = int(output[3])\n",
    "    soln = float(output[4])\n",
    "    err = float(output[6])\n",
    "    \n",
    "    f.write(\"{:10d} {:20.16f} {:12.4e} {:12.2e}\\n\".format(N,soln,err,tr.best))\n",
    "    \n",
    "f.close()"
   ]
  },
  {
   "cell_type": "markdown",
   "metadata": {},
   "source": [
    "We can look at the contents of the text file created above using the magic command `%cat`. "
   ]
  },
  {
   "cell_type": "code",
   "execution_count": 6,
   "metadata": {},
   "outputs": [
    {
     "name": "stdout",
     "output_type": "stream",
     "text": [
      "      1024   1.8725924894828205   4.6778e-07     6.36e-02\r\n",
      "      2048   1.8725928403201060   1.1695e-07     6.44e-02\r\n",
      "      4096   1.8725929280294076   2.9236e-08     6.37e-02\r\n",
      "      8192   1.8725929499567309   7.3091e-09     6.35e-02\r\n",
      "     16384   1.8725929554385612   1.8273e-09     6.86e-02\r\n",
      "     32768   1.8725929568090220   4.5682e-10     6.42e-02\r\n",
      "     65536   1.8725929571516300   1.1421e-10     6.45e-02\r\n",
      "    131072   1.8725929572372844   2.8554e-11     6.46e-02\r\n",
      "    262144   1.8725929572587070   7.1316e-12     6.50e-02\r\n",
      "    524288   1.8725929572640536   1.7850e-12     6.60e-02\r\n",
      "   1048576   1.8725929572653954   4.4320e-13     6.83e-02\r\n",
      "   2097152   1.8725929572657170   1.2168e-13     7.15e-02\r\n",
      "   4194304   1.8725929572658022   3.6415e-14     8.10e-02\r\n",
      "   8388608   1.8725929572658848   4.6185e-14     1.16e-01\r\n",
      "  16777216   1.8725929572658842   4.5519e-14     1.60e-01\r\n",
      "  33554432   1.8725929572658264   1.2212e-14     2.07e-01\r\n",
      "  67108864   1.8725929572659596   1.2101e-13     3.55e-01\r\n",
      " 134217728   1.8725929572662121   3.7348e-13     6.35e-01\r\n",
      " 268435456   1.8725929572664519   6.1329e-13     1.20e+00\r\n"
     ]
    }
   ],
   "source": [
    "%cat $filename"
   ]
  },
  {
   "cell_type": "code",
   "execution_count": null,
   "metadata": {
    "collapsed": true
   },
   "outputs": [],
   "source": []
  }
 ],
 "metadata": {
  "kernelspec": {
   "display_name": "Python 3",
   "language": "python",
   "name": "python3"
  },
  "language_info": {
   "codemirror_mode": {
    "name": "ipython",
    "version": 3
   },
   "file_extension": ".py",
   "mimetype": "text/x-python",
   "name": "python",
   "nbconvert_exporter": "python",
   "pygments_lexer": "ipython3",
   "version": "3.6.3"
  }
 },
 "nbformat": 4,
 "nbformat_minor": 2
}
