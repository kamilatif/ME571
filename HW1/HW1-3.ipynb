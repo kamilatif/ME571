{
 "cells": [
  {
   "cell_type": "markdown",
   "metadata": {},
   "source": [
    "# Matrix-vector Multiplication"
   ]
  },
  {
   "cell_type": "code",
   "execution_count": 1,
   "metadata": {},
   "outputs": [
    {
     "name": "stdout",
     "output_type": "stream",
     "text": [
      "Using matplotlib backend: nbAgg\n",
      "Populating the interactive namespace from numpy and matplotlib\n"
     ]
    }
   ],
   "source": [
    "%matplotlib notebook\n",
    "%pylab\n",
    "import numpy as np\n",
    "import multiprocessing as mp\n",
    "from operator import itemgetter\n",
    "import pandas"
   ]
  },
  {
   "cell_type": "code",
   "execution_count": 2,
   "metadata": {
    "scrolled": true
   },
   "outputs": [],
   "source": [
    "NumProcessors = mp.cpu_count()\n",
    "#create a Random Matrix A (assuming A to be square matrix i.e. m==n) of size 2048x2048 \n",
    "A = np.matrix(np.random.rand(1024,1024))\n",
    "#create a Random vector x of size 2048x1 \n",
    "x = np.matrix(np.random.rand(1024,1))"
   ]
  },
  {
   "cell_type": "code",
   "execution_count": 3,
   "metadata": {},
   "outputs": [
    {
     "name": "stdout",
     "output_type": "stream",
     "text": [
      "CPU times: user 4.68 ms, sys: 15.5 ms, total: 20.2 ms\n",
      "Wall time: 6.89 ms\n"
     ]
    }
   ],
   "source": [
    "%%time\n",
    "test_result = (A*x)"
   ]
  },
  {
   "cell_type": "code",
   "execution_count": 4,
   "metadata": {},
   "outputs": [
    {
     "data": {
      "text/plain": [
       "matrix([[262.0912843 ],\n",
       "        [260.63419291],\n",
       "        [241.30988274],\n",
       "        ...,\n",
       "        [253.93432478],\n",
       "        [258.38050117],\n",
       "        [262.25466482]])"
      ]
     },
     "execution_count": 4,
     "metadata": {},
     "output_type": "execute_result"
    }
   ],
   "source": [
    "test_result"
   ]
  },
  {
   "cell_type": "markdown",
   "metadata": {},
   "source": [
    "## Distributing rows of the matrix across processors"
   ]
  },
  {
   "cell_type": "code",
   "execution_count": 5,
   "metadata": {},
   "outputs": [
    {
     "name": "stdout",
     "output_type": "stream",
     "text": [
      "Number of Processors = 4\n"
     ]
    }
   ],
   "source": [
    "print(\"Number of Processors = %i\"%(NumProcessors))\n",
    "rowsplit = np.split(A, NumProcessors, axis = 0)"
   ]
  },
  {
   "cell_type": "code",
   "execution_count": 6,
   "metadata": {},
   "outputs": [],
   "source": [
    "def matrix_mult_row_split(MatrixRows,pos,dotProdQueue):\n",
    "    row_list = MatrixRows.tolist()\n",
    "    for i in range(len(row_list)):\n",
    "        mult = row_list[i]*x\n",
    "        dotProdQueue.put((pos,mult))"
   ]
  },
  {
   "cell_type": "code",
   "execution_count": 7,
   "metadata": {
    "scrolled": false
   },
   "outputs": [
    {
     "name": "stdout",
     "output_type": "stream",
     "text": [
      "CPU times: user 2.22 ms, sys: 13 ms, total: 15.3 ms\n",
      "Wall time: 14.2 ms\n"
     ]
    }
   ],
   "source": [
    "%%time\n",
    "jobs = []\n",
    "results = []\n",
    "dotProdQueue = mp.Queue()\n",
    "for i in range(NumProcessors):\n",
    "    job = mp.Process(target=matrix_mult_row_split,args=[rowsplit[i], i, dotProdQueue])\n",
    "    job.start()\n",
    "    jobs.append(job)\n",
    "    \n",
    "for i in range(NumProcessors):\n",
    "    jobs[i].join"
   ]
  },
  {
   "cell_type": "code",
   "execution_count": 8,
   "metadata": {},
   "outputs": [],
   "source": [
    "results = [dotProdQueue.get() for p in range(len(x))]\n",
    "results = sorted(results,key=itemgetter(0))\n",
    "results = [r[1] for r in results]\n",
    "results = np.row_stack(results)"
   ]
  },
  {
   "cell_type": "markdown",
   "metadata": {},
   "source": [
    "### Checking Results"
   ]
  },
  {
   "cell_type": "code",
   "execution_count": 9,
   "metadata": {},
   "outputs": [
    {
     "data": {
      "text/plain": [
       "matrix([[262.0912843 ],\n",
       "        [260.63419291],\n",
       "        [241.30988274],\n",
       "        ...,\n",
       "        [253.93432478],\n",
       "        [258.38050117],\n",
       "        [262.25466482]])"
      ]
     },
     "execution_count": 9,
     "metadata": {},
     "output_type": "execute_result"
    }
   ],
   "source": [
    "results #Result from Row Distributed Dot-Product"
   ]
  },
  {
   "cell_type": "code",
   "execution_count": 10,
   "metadata": {},
   "outputs": [
    {
     "name": "stdout",
     "output_type": "stream",
     "text": [
      "Results Matched!!!\n"
     ]
    }
   ],
   "source": [
    "error_count = 0\n",
    "for i in range(len(test_result)): # assuming the lists are of the same length\n",
    "    if abs(test_result[i]-results[i]) > (1e-6):\n",
    "                error_count +=1\n",
    "                print(\"Not Matched at Index = %i\" %(i))\n",
    "if(error_count == 0):\n",
    "    print(\"Results Matched!!!\")"
   ]
  },
  {
   "cell_type": "markdown",
   "metadata": {},
   "source": [
    "## Distributing dot product computations"
   ]
  },
  {
   "cell_type": "code",
   "execution_count": 11,
   "metadata": {},
   "outputs": [],
   "source": [
    "def matrix_mult_dotProd(MatrixRows,pos,dotProdQueue):\n",
    "    row_list = MatrixRows.tolist()\n",
    "    for i in range(len(row_list)):\n",
    "        dotProd = 0\n",
    "        for j in range(np.shape(MatrixRows[0])[1]):\n",
    "            dotProd += row_list[i][j]*x[j]\n",
    "        dotProdQueue.put((pos,dotProd))"
   ]
  },
  {
   "cell_type": "code",
   "execution_count": 12,
   "metadata": {},
   "outputs": [
    {
     "name": "stdout",
     "output_type": "stream",
     "text": [
      "CPU times: user 11.2 ms, sys: 5.17 ms, total: 16.3 ms\n",
      "Wall time: 37.5 ms\n"
     ]
    }
   ],
   "source": [
    "%%time\n",
    "jobs = []\n",
    "dp_results = []\n",
    "dotProdQueue = mp.Queue()\n",
    "for i in range(NumProcessors):\n",
    "    job = mp.Process(target=matrix_mult_dotProd,args=[rowsplit[i], i, dotProdQueue])\n",
    "    job.start()\n",
    "    jobs.append(job)\n",
    "    \n",
    "for i in range(NumProcessors):\n",
    "    jobs[i].join"
   ]
  },
  {
   "cell_type": "code",
   "execution_count": 13,
   "metadata": {},
   "outputs": [],
   "source": [
    "dp_results = [dotProdQueue.get() for p in range(len(x))]\n",
    "dp_results = sorted(dp_results,key=itemgetter(0))\n",
    "dp_results = [r[1] for r in dp_results]\n",
    "dp_results = np.row_stack(dp_results)"
   ]
  },
  {
   "cell_type": "markdown",
   "metadata": {},
   "source": [
    "### Checking Results"
   ]
  },
  {
   "cell_type": "code",
   "execution_count": 14,
   "metadata": {},
   "outputs": [
    {
     "data": {
      "text/plain": [
       "matrix([[262.0912843 ],\n",
       "        [260.63419291],\n",
       "        [241.30988274],\n",
       "        ...,\n",
       "        [253.93432478],\n",
       "        [258.38050117],\n",
       "        [262.25466482]])"
      ]
     },
     "execution_count": 14,
     "metadata": {},
     "output_type": "execute_result"
    }
   ],
   "source": [
    "dp_results"
   ]
  },
  {
   "cell_type": "code",
   "execution_count": 15,
   "metadata": {},
   "outputs": [
    {
     "name": "stdout",
     "output_type": "stream",
     "text": [
      "Results Matched!!!\n"
     ]
    }
   ],
   "source": [
    "error_count = 0\n",
    "for i in range(len(test_result)): # assuming the lists are of the same length\n",
    "    if abs(test_result[i]-dp_results[i]) > (1e-6):\n",
    "                error_count +=1\n",
    "                print(\"Not Matched at Index = %i\" %(i))\n",
    "if(error_count == 0):\n",
    "    print(\"Results Matched!!!\")"
   ]
  },
  {
   "cell_type": "markdown",
   "metadata": {},
   "source": [
    "## Performance on Multiple CPU's"
   ]
  },
  {
   "cell_type": "code",
   "execution_count": 16,
   "metadata": {},
   "outputs": [],
   "source": [
    "def row_dist_method(processors):\n",
    "    jobs = []\n",
    "    dp_results = []\n",
    "    dotProdQueue = mp.Queue()\n",
    "    row1 = np.split(A, int(processors), axis = 0)\n",
    "    for i in range(processors):\n",
    "        job = mp.Process(target=matrix_mult_row_split,args=[row1[i], i, dotProdQueue])\n",
    "        job.start()\n",
    "        jobs.append(job)\n",
    "    for i in range(processors):\n",
    "        jobs[i].join\n",
    "        \n",
    "\n",
    "def dotproduct_dist_method(processors):\n",
    "    jobs = []\n",
    "    dp_results = []\n",
    "    dotProdQueue = mp.Queue()\n",
    "    for i in range(NumProcessors):\n",
    "        job = mp.Process(target=matrix_mult_dotProd,args=[rowsplit[i], i, dotProdQueue])\n",
    "        job.start()\n",
    "        jobs.append(job)\n",
    "    \n",
    "    for i in range(NumProcessors):\n",
    "        jobs[i].join"
   ]
  },
  {
   "cell_type": "code",
   "execution_count": 26,
   "metadata": {},
   "outputs": [],
   "source": [
    "procs = 2**(np.arange(0,4))\n",
    "tdata_row_dis = np.empty(procs.shape)\n",
    "tdata_dp_dis = np.empty(procs.shape)\n",
    "for i,numproc in enumerate(procs):\n",
    "    tr_row_dis = %timeit -n 2 -r 5 -q -o pass; row_dist_method(numproc)\n",
    "    tdata_row_dis[i] = tr_row_dis.best\n",
    "\n",
    "for i,numproc in enumerate(procs):\n",
    "    tr_dp_dis = %timeit -n 2 -r 5 -q -o pass; dotproduct_dist_method(numproc)\n",
    "    tdata_dp_dis[i] = tr_dp_dis.best\n",
    "\n",
    "Sp_row = [tdata_row_dis[0]/items for items in tdata_row_dis]\n",
    "Ep_row = [Sp_row[i]/procs[i] for i in range(0,len(Sp_row))]\n",
    "\n",
    "Sp_dp = [tdata_dp_dis[0]/items for items in tdata_dp_dis]\n",
    "Ep_dp = [Sp_dp[i]/procs[i] for i in range(0,len(Sp_dp))]"
   ]
  },
  {
   "cell_type": "code",
   "execution_count": 27,
   "metadata": {},
   "outputs": [
    {
     "data": {
      "text/html": [
       "<style  type=\"text/css\" >\n",
       "</style>  \n",
       "<table id=\"T_f9b6e908_06c7_11e8_8dd4_b8ca3a73597a\" ><caption>Timing Report for Matrix-Vector Multiplication Using Multiple CPUs</caption> \n",
       "<thead>    <tr> \n",
       "        <th class=\"blank level0\" ></th> \n",
       "        <th class=\"col_heading level0 col0\" >Processors</th> \n",
       "        <th class=\"col_heading level0 col1\" >Mult. by Row Dist.(sec)</th> \n",
       "        <th class=\"col_heading level0 col2\" >Ep Row Dist.</th> \n",
       "        <th class=\"col_heading level0 col3\" >Mult. by DP Dist.(sec)</th> \n",
       "        <th class=\"col_heading level0 col4\" >Ep Dot Prod. Dist.</th> \n",
       "    </tr></thead> \n",
       "<tbody>    <tr> \n",
       "        <th id=\"T_f9b6e908_06c7_11e8_8dd4_b8ca3a73597alevel0_row0\" class=\"row_heading level0 row0\" >0</th> \n",
       "        <td id=\"T_f9b6e908_06c7_11e8_8dd4_b8ca3a73597arow0_col0\" class=\"data row0 col0\" >1</td> \n",
       "        <td id=\"T_f9b6e908_06c7_11e8_8dd4_b8ca3a73597arow0_col1\" class=\"data row0 col1\" >0.00609584</td> \n",
       "        <td id=\"T_f9b6e908_06c7_11e8_8dd4_b8ca3a73597arow0_col2\" class=\"data row0 col2\" >1</td> \n",
       "        <td id=\"T_f9b6e908_06c7_11e8_8dd4_b8ca3a73597arow0_col3\" class=\"data row0 col3\" >0.0459096</td> \n",
       "        <td id=\"T_f9b6e908_06c7_11e8_8dd4_b8ca3a73597arow0_col4\" class=\"data row0 col4\" >1</td> \n",
       "    </tr>    <tr> \n",
       "        <th id=\"T_f9b6e908_06c7_11e8_8dd4_b8ca3a73597alevel0_row1\" class=\"row_heading level0 row1\" >1</th> \n",
       "        <td id=\"T_f9b6e908_06c7_11e8_8dd4_b8ca3a73597arow1_col0\" class=\"data row1 col0\" >2</td> \n",
       "        <td id=\"T_f9b6e908_06c7_11e8_8dd4_b8ca3a73597arow1_col1\" class=\"data row1 col1\" >0.0289005</td> \n",
       "        <td id=\"T_f9b6e908_06c7_11e8_8dd4_b8ca3a73597arow1_col2\" class=\"data row1 col2\" >0.105462</td> \n",
       "        <td id=\"T_f9b6e908_06c7_11e8_8dd4_b8ca3a73597arow1_col3\" class=\"data row1 col3\" >0.353179</td> \n",
       "        <td id=\"T_f9b6e908_06c7_11e8_8dd4_b8ca3a73597arow1_col4\" class=\"data row1 col4\" >0.0649947</td> \n",
       "    </tr>    <tr> \n",
       "        <th id=\"T_f9b6e908_06c7_11e8_8dd4_b8ca3a73597alevel0_row2\" class=\"row_heading level0 row2\" >2</th> \n",
       "        <td id=\"T_f9b6e908_06c7_11e8_8dd4_b8ca3a73597arow2_col0\" class=\"data row2 col0\" >4</td> \n",
       "        <td id=\"T_f9b6e908_06c7_11e8_8dd4_b8ca3a73597arow2_col1\" class=\"data row2 col1\" >0.0345528</td> \n",
       "        <td id=\"T_f9b6e908_06c7_11e8_8dd4_b8ca3a73597arow2_col2\" class=\"data row2 col2\" >0.0441053</td> \n",
       "        <td id=\"T_f9b6e908_06c7_11e8_8dd4_b8ca3a73597arow2_col3\" class=\"data row2 col3\" >0.740807</td> \n",
       "        <td id=\"T_f9b6e908_06c7_11e8_8dd4_b8ca3a73597arow2_col4\" class=\"data row2 col4\" >0.0154931</td> \n",
       "    </tr>    <tr> \n",
       "        <th id=\"T_f9b6e908_06c7_11e8_8dd4_b8ca3a73597alevel0_row3\" class=\"row_heading level0 row3\" >3</th> \n",
       "        <td id=\"T_f9b6e908_06c7_11e8_8dd4_b8ca3a73597arow3_col0\" class=\"data row3 col0\" >8</td> \n",
       "        <td id=\"T_f9b6e908_06c7_11e8_8dd4_b8ca3a73597arow3_col1\" class=\"data row3 col1\" >0.0591378</td> \n",
       "        <td id=\"T_f9b6e908_06c7_11e8_8dd4_b8ca3a73597arow3_col2\" class=\"data row3 col2\" >0.0128848</td> \n",
       "        <td id=\"T_f9b6e908_06c7_11e8_8dd4_b8ca3a73597arow3_col3\" class=\"data row3 col3\" >1.42963</td> \n",
       "        <td id=\"T_f9b6e908_06c7_11e8_8dd4_b8ca3a73597arow3_col4\" class=\"data row3 col4\" >0.0040141</td> \n",
       "    </tr></tbody> \n",
       "</table> "
      ],
      "text/plain": [
       "<pandas.io.formats.style.Styler at 0x7f35941e3d30>"
      ]
     },
     "execution_count": 27,
     "metadata": {},
     "output_type": "execute_result"
    }
   ],
   "source": [
    "p = pandas.Series(procs,dtype='d')\n",
    "trow = pandas.Series(tdata_row_dis,dtype='d')\n",
    "tdp = pandas.Series(tdata_dp_dis, dtype='d')\n",
    "\n",
    "df = pandas.DataFrame({'Processors' : p,\n",
    "                       'Mult. by Row Dist.(sec)' : trow,\n",
    "                       'Ep Row Dist.' : Ep_row,\n",
    "                       'Mult. by DP Dist.(sec)' : tdp,\n",
    "                       'Ep Dot Prod. Dist.' : Ep_dp,                       \n",
    "                    })\n",
    "df = df.reindex(['Processors','Mult. by Row Dist.(sec)','Ep Row Dist.',\n",
    "                 'Mult. by DP Dist.(sec)', 'Ep Dot Prod. Dist.'], axis=1)\n",
    "df.style\n",
    "pandas.io.formats.style.Styler(df, caption ='Timing Report for Matrix-Vector Multiplication Using Multiple CPUs')\n"
   ]
  },
  {
   "cell_type": "markdown",
   "metadata": {},
   "source": [
    "The efficieny plot was skipped because of poor efficiency per processor. The result for this problem are obtained on personal computer and not on the Virtual Machine. "
   ]
  }
 ],
 "metadata": {
  "kernelspec": {
   "display_name": "Python 3",
   "language": "python",
   "name": "python3"
  },
  "language_info": {
   "codemirror_mode": {
    "name": "ipython",
    "version": 3
   },
   "file_extension": ".py",
   "mimetype": "text/x-python",
   "name": "python",
   "nbconvert_exporter": "python",
   "pygments_lexer": "ipython3",
   "version": "3.6.3"
  }
 },
 "nbformat": 4,
 "nbformat_minor": 2
}
