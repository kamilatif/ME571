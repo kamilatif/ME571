{
 "cells": [
  {
   "cell_type": "markdown",
   "metadata": {},
   "source": [
    "# Compute the Median"
   ]
  },
  {
   "cell_type": "code",
   "execution_count": 1,
   "metadata": {
    "scrolled": true
   },
   "outputs": [
    {
     "name": "stdout",
     "output_type": "stream",
     "text": [
      "Using matplotlib backend: nbAgg\n",
      "Populating the interactive namespace from numpy and matplotlib\n"
     ]
    }
   ],
   "source": [
    "%matplotlib notebook\n",
    "%pylab\n",
    "import time, multiprocessing\n",
    "import pandas\n",
    "import random"
   ]
  },
  {
   "cell_type": "code",
   "execution_count": 2,
   "metadata": {},
   "outputs": [],
   "source": [
    "array_size =2**12\n",
    "A = random.sample(range(1, array_size*2), array_size)"
   ]
  },
  {
   "cell_type": "markdown",
   "metadata": {},
   "source": [
    "## Meadian Algorithm\n",
    "##### Source : http://www.new-npac.org/users/fox/pdftotal/sccs-0743.pdf"
   ]
  },
  {
   "cell_type": "code",
   "execution_count": 3,
   "metadata": {},
   "outputs": [],
   "source": [
    "def MoM(L, j, q):\n",
    "    if len(L) < 10:\n",
    "        L.sort()\n",
    "        q.put(L[j])\n",
    "        return L[j]\n",
    "    S = []\n",
    "    lIndex = 0\n",
    "    while lIndex+5 < len(L)-1:\n",
    "        S.append(L[lIndex:lIndex+5])\n",
    "        lIndex += 5\n",
    "    S.append(L[lIndex:])\n",
    "    Meds = []\n",
    "    for subList in S:\n",
    "        Meds.append(MoM(subList, int((len(subList)-1)/2) , q))\n",
    "    med = MoM(Meds, int((len(Meds)-1)/2), q)\n",
    "    q.put(med)\n",
    "    L1 = []\n",
    "    L2 = []\n",
    "    L3 = []\n",
    "    for i in L:\n",
    "        if i < med:\n",
    "            L1.append(i)\n",
    "        elif i > med:\n",
    "            L3.append(i)\n",
    "        else:\n",
    "            L2.append(i)\n",
    "    if j < len(L1):\n",
    "        return MoM(L1, j, q)\n",
    "    elif j < len(L2) + len(L1):\n",
    "        return L2[0]\n",
    "    else:\n",
    "        return MoM(L3, j-len(L1)-len(L2), q)"
   ]
  },
  {
   "cell_type": "code",
   "execution_count": 4,
   "metadata": {},
   "outputs": [],
   "source": [
    "def compute_median(np, rank):\n",
    "    N = len(A)\n",
    "    jobs = []\n",
    "    medians = []\n",
    "    q = multiprocessing.Queue()\n",
    "    for i in range(np):\n",
    "        i1 = int(i*N/np)\n",
    "        i2 = int((i+1)*N/np)\n",
    "        job = multiprocessing.Process(target=MoM, args=[A[i1:i2], int((len(A[i1:i2])-1)/2), q])\n",
    "        jobs.append(job)\n",
    "        \n",
    "    for job in jobs:\n",
    "        job.start()\n",
    "    \n",
    "    for job in jobs:\n",
    "        job.join()\n",
    "        \n",
    "    while not q.empty(): \n",
    "        medians.append(q.get())\n",
    "    print(medians[len(medians)-1])"
   ]
  },
  {
   "cell_type": "code",
   "execution_count": 5,
   "metadata": {
    "scrolled": false
   },
   "outputs": [
    {
     "name": "stdout",
     "output_type": "stream",
     "text": [
      "CPU times: user 2 µs, sys: 1 µs, total: 3 µs\n",
      "Wall time: 5.01 µs\n",
      "4044\n"
     ]
    }
   ],
   "source": [
    "%time\n",
    "np = 1\n",
    "rank = int((len(A)-1)/2)\n",
    "compute_median(np,rank)"
   ]
  },
  {
   "cell_type": "code",
   "execution_count": 6,
   "metadata": {},
   "outputs": [
    {
     "name": "stdout",
     "output_type": "stream",
     "text": [
      "CPU times: user 2 µs, sys: 0 ns, total: 2 µs\n",
      "Wall time: 6.44 µs\n"
     ]
    },
    {
     "data": {
      "text/plain": [
       "4044"
      ]
     },
     "execution_count": 6,
     "metadata": {},
     "output_type": "execute_result"
    }
   ],
   "source": [
    "%time\n",
    "B = A\n",
    "B.sort()\n",
    "B[int((len(A)-1)/2)]"
   ]
  },
  {
   "cell_type": "markdown",
   "metadata": {},
   "source": [
    "Median of median (MoM) algorithm outputs the correct answer when single processor is used. This algorithm is implemented using the paper(cited above). However, on multiple CPU's, the MoM returns closer but not accurate result. No load balancing was implemented which in this algorithm is necessary. <br/>\n",
    "\n",
    "The timing results reported above are from the compute_median algorithm and from built-in sort function. The simple sort function (in theory) takes nlogn time. This algorithms will take (n/5)log(n/5) time to find the nth smallest element. "
   ]
  }
 ],
 "metadata": {
  "kernelspec": {
   "display_name": "Python 3",
   "language": "python",
   "name": "python3"
  },
  "language_info": {
   "codemirror_mode": {
    "name": "ipython",
    "version": 3
   },
   "file_extension": ".py",
   "mimetype": "text/x-python",
   "name": "python",
   "nbconvert_exporter": "python",
   "pygments_lexer": "ipython3",
   "version": "3.6.3"
  }
 },
 "nbformat": 4,
 "nbformat_minor": 1
}
