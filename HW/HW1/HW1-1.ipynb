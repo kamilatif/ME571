{
 "cells": [
  {
   "cell_type": "markdown",
   "metadata": {},
   "source": [
    "# Python lists and arrays vs. NumPy arrays"
   ]
  },
  {
   "cell_type": "code",
   "execution_count": 1,
   "metadata": {},
   "outputs": [],
   "source": [
    "import numpy as np\n",
    "import array\n",
    "from math import sin\n",
    "import pandas as pd\n",
    "import matplotlib.pyplot as plt"
   ]
  },
  {
   "cell_type": "markdown",
   "metadata": {},
   "source": [
    "# Python %timeit\n",
    "#### %%timeit command is used to get the time execution for the following Python code blocks\n",
    "%%timeit is executed with following options.<br/>\n",
    "&ensp;&ensp;&ensp;&ensp;&ensp;-n: Execute the given statement n times in a loop.<br/>\n",
    "&ensp;&ensp;&ensp;&ensp;&ensp;-r: repeat the loop iteration times.<br/>\n",
    "&ensp;&ensp;&ensp;&ensp;&ensp;-q: Quiet, do not print result.<br/>\n",
    "&ensp;&ensp;&ensp;&ensp;&ensp;-o: return a TimeitResult that can be stored in a variable to inspect.<br/>\n",
    "&ensp;&ensp;&ensp;&ensp;&ensp;-p: use a precision of digits to display the timing result. Default: 3<br/>"
   ]
  },
  {
   "cell_type": "markdown",
   "metadata": {
    "collapsed": true
   },
   "source": [
    "# 1a) Vector Addition\n",
    "## Using Python Lists"
   ]
  },
  {
   "cell_type": "code",
   "execution_count": 2,
   "metadata": {},
   "outputs": [],
   "source": [
    "N = 10000000\n",
    "v = range(N) #creates a Python list [0 1 2 ---- N-1]\n",
    "list_add_tr = []     # Store timing results in this list"
   ]
  },
  {
   "cell_type": "markdown",
   "metadata": {},
   "source": [
    "### &ensp;&ensp;&ensp;&ensp;&ensp;  i) Loop without pre-allocating result memory"
   ]
  },
  {
   "cell_type": "code",
   "execution_count": 3,
   "metadata": {
    "scrolled": false
   },
   "outputs": [
    {
     "name": "stdout",
     "output_type": "stream",
     "text": [
      "3.43 s ± 9.65 ms per loop (mean ± std. dev. of 3 runs, 3 loops each)\n"
     ]
    },
    {
     "data": {
      "text/plain": [
       "<TimeitResult : 3.43 s ± 9.65 ms per loop (mean ± std. dev. of 3 runs, 3 loops each)>"
      ]
     },
     "execution_count": 3,
     "metadata": {},
     "output_type": "execute_result"
    }
   ],
   "source": [
    "%%timeit -n 3 -r 3 -o -p 3\n",
    "w = [] #creating an empty list \n",
    "#Adding two numbers using loop with list\n",
    "for i in range(len(v)):\n",
    "    w.append(v[i] + v[i])"
   ]
  },
  {
   "cell_type": "code",
   "execution_count": 4,
   "metadata": {},
   "outputs": [],
   "source": [
    "list_add_tr.append(_.best)"
   ]
  },
  {
   "cell_type": "markdown",
   "metadata": {},
   "source": [
    "### &ensp;&ensp;&ensp;&ensp;&ensp; ii) Loop with pre-allocating result memory"
   ]
  },
  {
   "cell_type": "code",
   "execution_count": 5,
   "metadata": {},
   "outputs": [
    {
     "name": "stdout",
     "output_type": "stream",
     "text": [
      "3.03 s ± 64.4 ms per loop (mean ± std. dev. of 3 runs, 3 loops each)\n"
     ]
    },
    {
     "data": {
      "text/plain": [
       "<TimeitResult : 3.03 s ± 64.4 ms per loop (mean ± std. dev. of 3 runs, 3 loops each)>"
      ]
     },
     "execution_count": 5,
     "metadata": {},
     "output_type": "execute_result"
    }
   ],
   "source": [
    "%%timeit -n 3 -r 3 -o -p 3\n",
    "#Adding two number by pre-allocating the memory with list\n",
    "w = len(v)*[0] \n",
    "\n",
    "for i in range(len(v)):\n",
    "    w[i] = v[i] + v[i]"
   ]
  },
  {
   "cell_type": "code",
   "execution_count": 6,
   "metadata": {},
   "outputs": [],
   "source": [
    "list_add_tr.append(_.best)"
   ]
  },
  {
   "cell_type": "markdown",
   "metadata": {},
   "source": [
    "### &ensp;&ensp;&ensp;&ensp;&ensp;iii) Map Function"
   ]
  },
  {
   "cell_type": "code",
   "execution_count": 7,
   "metadata": {},
   "outputs": [
    {
     "name": "stdout",
     "output_type": "stream",
     "text": [
      "1.44 s ± 5.18 ms per loop (mean ± std. dev. of 3 runs, 3 loops each)\n"
     ]
    },
    {
     "data": {
      "text/plain": [
       "<TimeitResult : 1.44 s ± 5.18 ms per loop (mean ± std. dev. of 3 runs, 3 loops each)>"
      ]
     },
     "execution_count": 7,
     "metadata": {},
     "output_type": "execute_result"
    }
   ],
   "source": [
    "%%timeit -n 3 -r 3 -o -p 3\n",
    "#Adding two numbers using map function with list\n",
    "def add_list(x,y):\n",
    "    return x+y\n",
    "\n",
    "w = list(map(add_list, v,v))"
   ]
  },
  {
   "cell_type": "code",
   "execution_count": 8,
   "metadata": {},
   "outputs": [],
   "source": [
    "list_add_tr.append(_.best)"
   ]
  },
  {
   "cell_type": "markdown",
   "metadata": {},
   "source": [
    "## Using Python Arrays"
   ]
  },
  {
   "cell_type": "code",
   "execution_count": 9,
   "metadata": {},
   "outputs": [],
   "source": [
    "v = array.array('d',range(N)) #creates a Python array [0 1 2 ---- N-1]\n",
    "arr_add_tr = []"
   ]
  },
  {
   "cell_type": "markdown",
   "metadata": {},
   "source": [
    "### &ensp;&ensp;&ensp;&ensp;&ensp;  i) Loop without pre-allocating result memory"
   ]
  },
  {
   "cell_type": "code",
   "execution_count": 10,
   "metadata": {},
   "outputs": [
    {
     "name": "stdout",
     "output_type": "stream",
     "text": [
      "2.5 s ± 50.6 ms per loop (mean ± std. dev. of 3 runs, 3 loops each)\n"
     ]
    },
    {
     "data": {
      "text/plain": [
       "<TimeitResult : 2.5 s ± 50.6 ms per loop (mean ± std. dev. of 3 runs, 3 loops each)>"
      ]
     },
     "execution_count": 10,
     "metadata": {},
     "output_type": "execute_result"
    }
   ],
   "source": [
    "%%timeit -n 3 -r 3 -o -p 3\n",
    "w = array.array('d',[]) #creating an empty array\n",
    "#Adding two numbers using loop with array\n",
    "for i in range(len(v)):\n",
    "    w.append(v[i] + v[i])"
   ]
  },
  {
   "cell_type": "code",
   "execution_count": 11,
   "metadata": {},
   "outputs": [],
   "source": [
    "arr_add_tr.append(_.best)"
   ]
  },
  {
   "cell_type": "markdown",
   "metadata": {},
   "source": [
    "### &ensp;&ensp;&ensp;&ensp;&ensp; ii) Loop with pre-allocating result memory"
   ]
  },
  {
   "cell_type": "code",
   "execution_count": 12,
   "metadata": {
    "scrolled": true
   },
   "outputs": [
    {
     "name": "stdout",
     "output_type": "stream",
     "text": [
      "2.2 s ± 29.2 ms per loop (mean ± std. dev. of 3 runs, 3 loops each)\n"
     ]
    },
    {
     "data": {
      "text/plain": [
       "<TimeitResult : 2.2 s ± 29.2 ms per loop (mean ± std. dev. of 3 runs, 3 loops each)>"
      ]
     },
     "execution_count": 12,
     "metadata": {},
     "output_type": "execute_result"
    }
   ],
   "source": [
    "%%timeit -n 3 -r 3 -o -p 3\n",
    "#Adding two number by pre-allocating the memory with array\n",
    "w = array.array('d',[0]*len(v)) \n",
    "\n",
    "for i in range(len(v)):\n",
    "    w[i] = v[i] + v[i]"
   ]
  },
  {
   "cell_type": "code",
   "execution_count": 13,
   "metadata": {},
   "outputs": [],
   "source": [
    "arr_add_tr.append(_.best)"
   ]
  },
  {
   "cell_type": "markdown",
   "metadata": {},
   "source": [
    "### &ensp;&ensp;&ensp;&ensp;&ensp;iii) Map Function"
   ]
  },
  {
   "cell_type": "code",
   "execution_count": 14,
   "metadata": {},
   "outputs": [
    {
     "name": "stdout",
     "output_type": "stream",
     "text": [
      "1.76 s ± 4.38 ms per loop (mean ± std. dev. of 3 runs, 3 loops each)\n"
     ]
    },
    {
     "data": {
      "text/plain": [
       "<TimeitResult : 1.76 s ± 4.38 ms per loop (mean ± std. dev. of 3 runs, 3 loops each)>"
      ]
     },
     "execution_count": 14,
     "metadata": {},
     "output_type": "execute_result"
    }
   ],
   "source": [
    "%%timeit -n 3 -r 3 -o -p 3\n",
    "#Adding two numbers using map function with array\n",
    "def add_array(x,y):\n",
    "    return x+y\n",
    "\n",
    "w = array.array('d',(map(add_array,v,v)))"
   ]
  },
  {
   "cell_type": "code",
   "execution_count": 15,
   "metadata": {},
   "outputs": [],
   "source": [
    "arr_add_tr.append(_.best)"
   ]
  },
  {
   "cell_type": "markdown",
   "metadata": {},
   "source": [
    "## Using Numpy Arrays"
   ]
  },
  {
   "cell_type": "code",
   "execution_count": 16,
   "metadata": {},
   "outputs": [],
   "source": [
    "v = np.arange(N) #creates a numpy array\n",
    "npArr_add_tr = []"
   ]
  },
  {
   "cell_type": "markdown",
   "metadata": {},
   "source": [
    "### &ensp;&ensp;&ensp;&ensp;&ensp;  i) Loop without pre-allocating result memory"
   ]
  },
  {
   "cell_type": "code",
   "execution_count": 17,
   "metadata": {},
   "outputs": [
    {
     "name": "stdout",
     "output_type": "stream",
     "text": [
      "15.9 s ± 143 ms per loop (mean ± std. dev. of 3 runs, 3 loops each)\n"
     ]
    },
    {
     "data": {
      "text/plain": [
       "<TimeitResult : 15.9 s ± 143 ms per loop (mean ± std. dev. of 3 runs, 3 loops each)>"
      ]
     },
     "execution_count": 17,
     "metadata": {},
     "output_type": "execute_result"
    }
   ],
   "source": [
    "%%timeit -n 3 -r 3 -o -p 3\n",
    "#Adding two numbers using loop with numpy array\n",
    "w = np.array([])  # Creating an empty NumPy array\n",
    "for i in range(len(v)):\n",
    "    w.resize(i+1)\n",
    "    w[i] = v[i] + v[i]    "
   ]
  },
  {
   "cell_type": "code",
   "execution_count": 18,
   "metadata": {},
   "outputs": [],
   "source": [
    "npArr_add_tr.append(_.best)"
   ]
  },
  {
   "cell_type": "markdown",
   "metadata": {},
   "source": [
    "### &ensp;&ensp;&ensp;&ensp;&ensp; ii) Loop with pre-allocating result memory"
   ]
  },
  {
   "cell_type": "code",
   "execution_count": 19,
   "metadata": {},
   "outputs": [
    {
     "name": "stdout",
     "output_type": "stream",
     "text": [
      "3.49 s ± 69.4 ms per loop (mean ± std. dev. of 3 runs, 3 loops each)\n"
     ]
    },
    {
     "data": {
      "text/plain": [
       "<TimeitResult : 3.49 s ± 69.4 ms per loop (mean ± std. dev. of 3 runs, 3 loops each)>"
      ]
     },
     "execution_count": 19,
     "metadata": {},
     "output_type": "execute_result"
    }
   ],
   "source": [
    "%%timeit -n 3 -r 3 -o -p 3\n",
    "#Adding two numbers by pre-allocating the memory with numpy array\n",
    "w = np.zeros(len(v))  # Creating an empty NumPy array\n",
    "for i in range(len(v)):\n",
    "    w[i] = v[i] + v[i]"
   ]
  },
  {
   "cell_type": "code",
   "execution_count": 20,
   "metadata": {},
   "outputs": [],
   "source": [
    "npArr_add_tr.append(_.best)"
   ]
  },
  {
   "cell_type": "markdown",
   "metadata": {},
   "source": [
    "### &ensp;&ensp;&ensp;&ensp;&ensp;iii) Numpy Vectorized Operation"
   ]
  },
  {
   "cell_type": "code",
   "execution_count": 21,
   "metadata": {},
   "outputs": [
    {
     "name": "stdout",
     "output_type": "stream",
     "text": [
      "28.7 ms ± 512 µs per loop (mean ± std. dev. of 3 runs, 3 loops each)\n"
     ]
    },
    {
     "data": {
      "text/plain": [
       "<TimeitResult : 28.7 ms ± 512 µs per loop (mean ± std. dev. of 3 runs, 3 loops each)>"
      ]
     },
     "execution_count": 21,
     "metadata": {},
     "output_type": "execute_result"
    }
   ],
   "source": [
    "%%timeit -n 3 -r 3 -o -p 3\n",
    "#Adding two numbers by vectorized method (similar to Matlab) with numpy array\n",
    "w = v + v"
   ]
  },
  {
   "cell_type": "code",
   "execution_count": 22,
   "metadata": {},
   "outputs": [],
   "source": [
    "npArr_add_tr.append(_.best)"
   ]
  },
  {
   "cell_type": "markdown",
   "metadata": {
    "collapsed": true
   },
   "source": [
    "# 1b) Vector Multiplitcation\n",
    "## Using Python Lists"
   ]
  },
  {
   "cell_type": "code",
   "execution_count": 23,
   "metadata": {},
   "outputs": [],
   "source": [
    "v = range(N) #creates a Python list [0 1 2 ---- N-1]\n",
    "list_mult_tr = []     # Store timing results in this list"
   ]
  },
  {
   "cell_type": "markdown",
   "metadata": {},
   "source": [
    "### &ensp;&ensp;&ensp;&ensp;&ensp;  i) Loop without pre-allocating result memory"
   ]
  },
  {
   "cell_type": "code",
   "execution_count": 24,
   "metadata": {},
   "outputs": [
    {
     "name": "stdout",
     "output_type": "stream",
     "text": [
      "3.37 s ± 13.6 ms per loop (mean ± std. dev. of 3 runs, 3 loops each)\n"
     ]
    },
    {
     "data": {
      "text/plain": [
       "<TimeitResult : 3.37 s ± 13.6 ms per loop (mean ± std. dev. of 3 runs, 3 loops each)>"
      ]
     },
     "execution_count": 24,
     "metadata": {},
     "output_type": "execute_result"
    }
   ],
   "source": [
    "%%timeit -n 3 -r 3 -o -p 3\n",
    "w = [] #creating an empty list \n",
    "#Multiplying two numbers using loop with list\n",
    "for i in range(len(v)):\n",
    "    w.append(v[i] * v[i])"
   ]
  },
  {
   "cell_type": "code",
   "execution_count": 25,
   "metadata": {},
   "outputs": [],
   "source": [
    "list_mult_tr.append(_.best)"
   ]
  },
  {
   "cell_type": "markdown",
   "metadata": {},
   "source": [
    "### &ensp;&ensp;&ensp;&ensp;&ensp; ii) Loop with pre-allocating result memory"
   ]
  },
  {
   "cell_type": "code",
   "execution_count": 26,
   "metadata": {},
   "outputs": [
    {
     "name": "stdout",
     "output_type": "stream",
     "text": [
      "2.95 s ± 5.65 ms per loop (mean ± std. dev. of 3 runs, 3 loops each)\n"
     ]
    },
    {
     "data": {
      "text/plain": [
       "<TimeitResult : 2.95 s ± 5.65 ms per loop (mean ± std. dev. of 3 runs, 3 loops each)>"
      ]
     },
     "execution_count": 26,
     "metadata": {},
     "output_type": "execute_result"
    }
   ],
   "source": [
    "%%timeit -n 3 -r 3 -o -p 3\n",
    "#Multiplying two number by pre-allocating the memory with list\n",
    "w = len(v)*[0] \n",
    "\n",
    "for i in range(len(v)):\n",
    "    w[i] = v[i] * v[i]"
   ]
  },
  {
   "cell_type": "code",
   "execution_count": 27,
   "metadata": {},
   "outputs": [],
   "source": [
    "list_mult_tr.append(_.best)"
   ]
  },
  {
   "cell_type": "markdown",
   "metadata": {},
   "source": [
    "### &ensp;&ensp;&ensp;&ensp;&ensp;iii) Map Function"
   ]
  },
  {
   "cell_type": "code",
   "execution_count": 28,
   "metadata": {},
   "outputs": [
    {
     "name": "stdout",
     "output_type": "stream",
     "text": [
      "1.47 s ± 11.1 ms per loop (mean ± std. dev. of 3 runs, 3 loops each)\n"
     ]
    },
    {
     "data": {
      "text/plain": [
       "<TimeitResult : 1.47 s ± 11.1 ms per loop (mean ± std. dev. of 3 runs, 3 loops each)>"
      ]
     },
     "execution_count": 28,
     "metadata": {},
     "output_type": "execute_result"
    }
   ],
   "source": [
    "%%timeit -n 3 -r 3 -o -p 3\n",
    "#Mutliplying two numbers using map function with list\n",
    "def mult_list(x,y):\n",
    "    return x*y\n",
    "\n",
    "w = list(map(mult_list, v,v))"
   ]
  },
  {
   "cell_type": "code",
   "execution_count": 29,
   "metadata": {},
   "outputs": [],
   "source": [
    "list_mult_tr.append(_.best)"
   ]
  },
  {
   "cell_type": "markdown",
   "metadata": {},
   "source": [
    "## Using Python Arrays"
   ]
  },
  {
   "cell_type": "code",
   "execution_count": 30,
   "metadata": {},
   "outputs": [],
   "source": [
    "v = array.array('d',range(N)) #creates a Python array [0 1 2 ---- N-1]\n",
    "arr_mult_tr = []     # Store timing results in this list"
   ]
  },
  {
   "cell_type": "markdown",
   "metadata": {},
   "source": [
    "### &ensp;&ensp;&ensp;&ensp;&ensp;  i) Loop without pre-allocating result memory"
   ]
  },
  {
   "cell_type": "code",
   "execution_count": 31,
   "metadata": {},
   "outputs": [
    {
     "name": "stdout",
     "output_type": "stream",
     "text": [
      "2.46 s ± 32.5 ms per loop (mean ± std. dev. of 3 runs, 3 loops each)\n"
     ]
    },
    {
     "data": {
      "text/plain": [
       "<TimeitResult : 2.46 s ± 32.5 ms per loop (mean ± std. dev. of 3 runs, 3 loops each)>"
      ]
     },
     "execution_count": 31,
     "metadata": {},
     "output_type": "execute_result"
    }
   ],
   "source": [
    "%%timeit -n 3 -r 3 -o -p 3\n",
    "w = array.array('d',[]) #creating an empty array\n",
    "#Multiplying two numbers using loop with array\n",
    "for i in range(len(v)):\n",
    "    w.append(v[i] * v[i])"
   ]
  },
  {
   "cell_type": "code",
   "execution_count": 32,
   "metadata": {},
   "outputs": [],
   "source": [
    "arr_mult_tr.append(_.best)"
   ]
  },
  {
   "cell_type": "markdown",
   "metadata": {},
   "source": [
    "### &ensp;&ensp;&ensp;&ensp;&ensp; ii) Loop with pre-allocating result memory"
   ]
  },
  {
   "cell_type": "code",
   "execution_count": 33,
   "metadata": {},
   "outputs": [
    {
     "name": "stdout",
     "output_type": "stream",
     "text": [
      "2.12 s ± 7.46 ms per loop (mean ± std. dev. of 3 runs, 3 loops each)\n"
     ]
    },
    {
     "data": {
      "text/plain": [
       "<TimeitResult : 2.12 s ± 7.46 ms per loop (mean ± std. dev. of 3 runs, 3 loops each)>"
      ]
     },
     "execution_count": 33,
     "metadata": {},
     "output_type": "execute_result"
    }
   ],
   "source": [
    "%%timeit -n 3 -r 3 -o -p 3\n",
    "#Multiplying two number by pre-allocating the memory with array\n",
    "w = array.array('d',[0]*len(v)) \n",
    "\n",
    "for i in range(len(v)):\n",
    "    w[i] = v[i] * v[i]"
   ]
  },
  {
   "cell_type": "code",
   "execution_count": 34,
   "metadata": {},
   "outputs": [],
   "source": [
    "arr_mult_tr.append(_.best)"
   ]
  },
  {
   "cell_type": "markdown",
   "metadata": {},
   "source": [
    "### &ensp;&ensp;&ensp;&ensp;&ensp;iii) Map Function"
   ]
  },
  {
   "cell_type": "code",
   "execution_count": 35,
   "metadata": {},
   "outputs": [
    {
     "name": "stdout",
     "output_type": "stream",
     "text": [
      "1.76 s ± 15.2 ms per loop (mean ± std. dev. of 3 runs, 3 loops each)\n"
     ]
    },
    {
     "data": {
      "text/plain": [
       "<TimeitResult : 1.76 s ± 15.2 ms per loop (mean ± std. dev. of 3 runs, 3 loops each)>"
      ]
     },
     "execution_count": 35,
     "metadata": {},
     "output_type": "execute_result"
    }
   ],
   "source": [
    "%%timeit -n 3 -r 3 -o -p 3\n",
    "#Multiplying two numbers using map function with array\n",
    "def mult_array(x,y):\n",
    "    return x*y\n",
    "\n",
    "w = array.array('d',(map(mult_array,v,v)))"
   ]
  },
  {
   "cell_type": "code",
   "execution_count": 36,
   "metadata": {},
   "outputs": [],
   "source": [
    "arr_mult_tr.append(_.best)"
   ]
  },
  {
   "cell_type": "markdown",
   "metadata": {},
   "source": [
    "## Using Numpy Arrays"
   ]
  },
  {
   "cell_type": "code",
   "execution_count": 37,
   "metadata": {},
   "outputs": [],
   "source": [
    "v = np.arange(N) #creates a numpy array\n",
    "npArr_mult_tr = []     # Store timing results in this list"
   ]
  },
  {
   "cell_type": "markdown",
   "metadata": {},
   "source": [
    "### &ensp;&ensp;&ensp;&ensp;&ensp;  i) Loop without pre-allocating result memory"
   ]
  },
  {
   "cell_type": "code",
   "execution_count": 38,
   "metadata": {},
   "outputs": [
    {
     "name": "stdout",
     "output_type": "stream",
     "text": [
      "15.6 s ± 88.8 ms per loop (mean ± std. dev. of 3 runs, 3 loops each)\n"
     ]
    },
    {
     "data": {
      "text/plain": [
       "<TimeitResult : 15.6 s ± 88.8 ms per loop (mean ± std. dev. of 3 runs, 3 loops each)>"
      ]
     },
     "execution_count": 38,
     "metadata": {},
     "output_type": "execute_result"
    }
   ],
   "source": [
    "%%timeit -n 3 -r 3 -o -p 3\n",
    "#Multiplying two numbers using loop with numpy array\n",
    "w = np.array([])  # Creating an empty NumPy array\n",
    "for i in range(len(v)):\n",
    "    w.resize(i+1)\n",
    "    w[i] = v[i] * v[i]    "
   ]
  },
  {
   "cell_type": "code",
   "execution_count": 39,
   "metadata": {},
   "outputs": [],
   "source": [
    "npArr_mult_tr.append(_.best)"
   ]
  },
  {
   "cell_type": "markdown",
   "metadata": {},
   "source": [
    "### &ensp;&ensp;&ensp;&ensp;&ensp; ii) Loop with pre-allocating result memory"
   ]
  },
  {
   "cell_type": "code",
   "execution_count": 40,
   "metadata": {},
   "outputs": [
    {
     "name": "stdout",
     "output_type": "stream",
     "text": [
      "3.27 s ± 18.3 ms per loop (mean ± std. dev. of 3 runs, 3 loops each)\n"
     ]
    },
    {
     "data": {
      "text/plain": [
       "<TimeitResult : 3.27 s ± 18.3 ms per loop (mean ± std. dev. of 3 runs, 3 loops each)>"
      ]
     },
     "execution_count": 40,
     "metadata": {},
     "output_type": "execute_result"
    }
   ],
   "source": [
    "%%timeit -n 3 -r 3 -o -p 3\n",
    "#Multiplying two numbers by pre-allocating the memory with numpy array\n",
    "w = np.zeros(len(v))  # Creating an empty NumPy array\n",
    "for i in range(len(v)):\n",
    "    w[i] = v[i] * v[i]"
   ]
  },
  {
   "cell_type": "code",
   "execution_count": 41,
   "metadata": {},
   "outputs": [],
   "source": [
    "npArr_mult_tr.append(_.best)"
   ]
  },
  {
   "cell_type": "markdown",
   "metadata": {},
   "source": [
    "### &ensp;&ensp;&ensp;&ensp;&ensp;iii) Numpy Vectorized Operation"
   ]
  },
  {
   "cell_type": "code",
   "execution_count": 42,
   "metadata": {},
   "outputs": [
    {
     "name": "stdout",
     "output_type": "stream",
     "text": [
      "32.4 ms ± 788 µs per loop (mean ± std. dev. of 3 runs, 3 loops each)\n"
     ]
    },
    {
     "data": {
      "text/plain": [
       "<TimeitResult : 32.4 ms ± 788 µs per loop (mean ± std. dev. of 3 runs, 3 loops each)>"
      ]
     },
     "execution_count": 42,
     "metadata": {},
     "output_type": "execute_result"
    }
   ],
   "source": [
    "%%timeit -n 3 -r 3 -o -p 3\n",
    "#Multiplying two numbers by vectorized method (similar to Matlab) with numpy array\n",
    "w = v * v"
   ]
  },
  {
   "cell_type": "code",
   "execution_count": 43,
   "metadata": {},
   "outputs": [],
   "source": [
    "npArr_mult_tr.append(_.best)"
   ]
  },
  {
   "cell_type": "markdown",
   "metadata": {
    "collapsed": true
   },
   "source": [
    "# 1c) Elementary Function (Sine Function)\n",
    "## Using Python Lists"
   ]
  },
  {
   "cell_type": "code",
   "execution_count": 44,
   "metadata": {},
   "outputs": [],
   "source": [
    "v = range(N) #creates a Python list [0 1 2 ---- N-1]\n",
    "list_sine_tr = []  # Store timing results in this list"
   ]
  },
  {
   "cell_type": "markdown",
   "metadata": {},
   "source": [
    "### &ensp;&ensp;&ensp;&ensp;&ensp;  i) Loop without pre-allocating result memory"
   ]
  },
  {
   "cell_type": "code",
   "execution_count": 45,
   "metadata": {
    "scrolled": true
   },
   "outputs": [
    {
     "name": "stdout",
     "output_type": "stream",
     "text": [
      "3.37 s ± 13.9 ms per loop (mean ± std. dev. of 3 runs, 3 loops each)\n"
     ]
    },
    {
     "data": {
      "text/plain": [
       "<TimeitResult : 3.37 s ± 13.9 ms per loop (mean ± std. dev. of 3 runs, 3 loops each)>"
      ]
     },
     "execution_count": 45,
     "metadata": {},
     "output_type": "execute_result"
    }
   ],
   "source": [
    "%%timeit -n 3 -r 3 -o -p 3\n",
    "w = [] #creating an empty list \n",
    "#Calculating sine for each element using loop with list\n",
    "for i in range(len(v)):\n",
    "    w.append(sin(v[i]))"
   ]
  },
  {
   "cell_type": "code",
   "execution_count": 46,
   "metadata": {},
   "outputs": [],
   "source": [
    "list_sine_tr.append(_.best)"
   ]
  },
  {
   "cell_type": "markdown",
   "metadata": {},
   "source": [
    "### &ensp;&ensp;&ensp;&ensp;&ensp; ii) Loop with pre-allocating result memory"
   ]
  },
  {
   "cell_type": "code",
   "execution_count": 47,
   "metadata": {},
   "outputs": [
    {
     "name": "stdout",
     "output_type": "stream",
     "text": [
      "2.98 s ± 11.5 ms per loop (mean ± std. dev. of 3 runs, 3 loops each)\n"
     ]
    },
    {
     "data": {
      "text/plain": [
       "<TimeitResult : 2.98 s ± 11.5 ms per loop (mean ± std. dev. of 3 runs, 3 loops each)>"
      ]
     },
     "execution_count": 47,
     "metadata": {},
     "output_type": "execute_result"
    }
   ],
   "source": [
    "%%timeit -n 3 -r 3 -o -p 3\n",
    "#Calculating sine for each element by pre-allocating the memory with list\n",
    "w = len(v)*[0] \n",
    "\n",
    "for i in range(len(v)):\n",
    "    w[i] = sin(v[i])"
   ]
  },
  {
   "cell_type": "code",
   "execution_count": 48,
   "metadata": {},
   "outputs": [],
   "source": [
    "list_sine_tr.append(_.best)"
   ]
  },
  {
   "cell_type": "markdown",
   "metadata": {},
   "source": [
    "### &ensp;&ensp;&ensp;&ensp;&ensp;iii) Map Function"
   ]
  },
  {
   "cell_type": "code",
   "execution_count": 49,
   "metadata": {},
   "outputs": [
    {
     "name": "stdout",
     "output_type": "stream",
     "text": [
      "2.09 s ± 28.5 ms per loop (mean ± std. dev. of 3 runs, 3 loops each)\n"
     ]
    },
    {
     "data": {
      "text/plain": [
       "<TimeitResult : 2.09 s ± 28.5 ms per loop (mean ± std. dev. of 3 runs, 3 loops each)>"
      ]
     },
     "execution_count": 49,
     "metadata": {},
     "output_type": "execute_result"
    }
   ],
   "source": [
    "%%timeit -n 3 -r 3 -o -p 3\n",
    "#Calculating sine for each element using map function with list\n",
    "def sine_list(x):\n",
    "    return sin(x)\n",
    "\n",
    "w = list(map(sine_list, v))"
   ]
  },
  {
   "cell_type": "code",
   "execution_count": 50,
   "metadata": {},
   "outputs": [],
   "source": [
    "list_sine_tr.append(_.best)"
   ]
  },
  {
   "cell_type": "markdown",
   "metadata": {},
   "source": [
    "## Using Python Arrays"
   ]
  },
  {
   "cell_type": "code",
   "execution_count": 51,
   "metadata": {},
   "outputs": [],
   "source": [
    "v = array.array('d',range(N)) #creates a Python array [0 1 2 ---- N-1]\n",
    "arr_sine_tr = []"
   ]
  },
  {
   "cell_type": "markdown",
   "metadata": {},
   "source": [
    "### &ensp;&ensp;&ensp;&ensp;&ensp;  i) Loop without pre-allocating result memory"
   ]
  },
  {
   "cell_type": "code",
   "execution_count": 52,
   "metadata": {},
   "outputs": [
    {
     "name": "stdout",
     "output_type": "stream",
     "text": [
      "2.99 s ± 22.8 ms per loop (mean ± std. dev. of 3 runs, 3 loops each)\n"
     ]
    },
    {
     "data": {
      "text/plain": [
       "<TimeitResult : 2.99 s ± 22.8 ms per loop (mean ± std. dev. of 3 runs, 3 loops each)>"
      ]
     },
     "execution_count": 52,
     "metadata": {},
     "output_type": "execute_result"
    }
   ],
   "source": [
    "%%timeit -n 3 -r 3 -o -p 3\n",
    "w = array.array('d',[]) #creating an empty array\n",
    "#Calculating sine for each element using loop with array\n",
    "for i in range(len(v)):\n",
    "    w.append(sin(v[i]))"
   ]
  },
  {
   "cell_type": "code",
   "execution_count": 53,
   "metadata": {},
   "outputs": [],
   "source": [
    "arr_sine_tr.append(_.best)"
   ]
  },
  {
   "cell_type": "markdown",
   "metadata": {},
   "source": [
    "### &ensp;&ensp;&ensp;&ensp;&ensp; ii) Loop with pre-allocating result memory"
   ]
  },
  {
   "cell_type": "code",
   "execution_count": 54,
   "metadata": {},
   "outputs": [
    {
     "name": "stdout",
     "output_type": "stream",
     "text": [
      "2.52 s ± 33.8 ms per loop (mean ± std. dev. of 3 runs, 3 loops each)\n"
     ]
    },
    {
     "data": {
      "text/plain": [
       "<TimeitResult : 2.52 s ± 33.8 ms per loop (mean ± std. dev. of 3 runs, 3 loops each)>"
      ]
     },
     "execution_count": 54,
     "metadata": {},
     "output_type": "execute_result"
    }
   ],
   "source": [
    "%%timeit -n 3 -r 3 -o -p 3\n",
    "#Calculating sine for each element by pre-allocating the memory with array\n",
    "w = array.array('d',[0]*len(v)) \n",
    "\n",
    "for i in range(len(v)):\n",
    "    w[i] = sin(v[i])"
   ]
  },
  {
   "cell_type": "code",
   "execution_count": 55,
   "metadata": {},
   "outputs": [],
   "source": [
    "arr_sine_tr.append(_.best)"
   ]
  },
  {
   "cell_type": "markdown",
   "metadata": {},
   "source": [
    "### &ensp;&ensp;&ensp;&ensp;&ensp;iii) Map Function"
   ]
  },
  {
   "cell_type": "code",
   "execution_count": 56,
   "metadata": {},
   "outputs": [
    {
     "name": "stdout",
     "output_type": "stream",
     "text": [
      "2.36 s ± 12.7 ms per loop (mean ± std. dev. of 3 runs, 3 loops each)\n"
     ]
    },
    {
     "data": {
      "text/plain": [
       "<TimeitResult : 2.36 s ± 12.7 ms per loop (mean ± std. dev. of 3 runs, 3 loops each)>"
      ]
     },
     "execution_count": 56,
     "metadata": {},
     "output_type": "execute_result"
    }
   ],
   "source": [
    "%%timeit -n 3 -r 3 -o -p 3\n",
    "#Calculating sine for each element using map function with array\n",
    "def sine_array(x):\n",
    "    return sin(x)\n",
    "\n",
    "w = array.array('d',(map(sine_array,v)))"
   ]
  },
  {
   "cell_type": "code",
   "execution_count": 57,
   "metadata": {},
   "outputs": [],
   "source": [
    "arr_sine_tr.append(_.best)"
   ]
  },
  {
   "cell_type": "markdown",
   "metadata": {},
   "source": [
    "## Using Numpy Arrays"
   ]
  },
  {
   "cell_type": "code",
   "execution_count": 58,
   "metadata": {},
   "outputs": [],
   "source": [
    "v = np.arange(N) #creates a numpy array\n",
    "npArr_sine_tr = []"
   ]
  },
  {
   "cell_type": "markdown",
   "metadata": {},
   "source": [
    "### &ensp;&ensp;&ensp;&ensp;&ensp;  i) Loop without pre-allocating result memory"
   ]
  },
  {
   "cell_type": "code",
   "execution_count": 59,
   "metadata": {},
   "outputs": [
    {
     "name": "stdout",
     "output_type": "stream",
     "text": [
      "16 s ± 148 ms per loop (mean ± std. dev. of 3 runs, 3 loops each)\n"
     ]
    },
    {
     "data": {
      "text/plain": [
       "<TimeitResult : 16 s ± 148 ms per loop (mean ± std. dev. of 3 runs, 3 loops each)>"
      ]
     },
     "execution_count": 59,
     "metadata": {},
     "output_type": "execute_result"
    }
   ],
   "source": [
    "%%timeit -n 3 -r 3 -o -p 3\n",
    "#Calculating sine for each element using loop with numpy array\n",
    "w = np.array([])  # Creating an empty NumPy array\n",
    "for i in range(len(v)):\n",
    "    w.resize(i+1)\n",
    "    w[i] = sin(v[i])    "
   ]
  },
  {
   "cell_type": "code",
   "execution_count": 60,
   "metadata": {},
   "outputs": [],
   "source": [
    "npArr_sine_tr.append(_.best)"
   ]
  },
  {
   "cell_type": "markdown",
   "metadata": {},
   "source": [
    "### &ensp;&ensp;&ensp;&ensp;&ensp; ii) Loop with pre-allocating result memory"
   ]
  },
  {
   "cell_type": "code",
   "execution_count": 61,
   "metadata": {},
   "outputs": [
    {
     "name": "stdout",
     "output_type": "stream",
     "text": [
      "2.88 s ± 35 ms per loop (mean ± std. dev. of 3 runs, 3 loops each)\n"
     ]
    },
    {
     "data": {
      "text/plain": [
       "<TimeitResult : 2.88 s ± 35 ms per loop (mean ± std. dev. of 3 runs, 3 loops each)>"
      ]
     },
     "execution_count": 61,
     "metadata": {},
     "output_type": "execute_result"
    }
   ],
   "source": [
    "%%timeit -n 3 -r 3 -o -p 3\n",
    "#Calculating sine for each element by pre-allocating the memory with numpy array\n",
    "w = np.zeros(len(v))  # Creating an empty NumPy array\n",
    "for i in range(len(v)):\n",
    "    w[i] = sin(v[i])"
   ]
  },
  {
   "cell_type": "code",
   "execution_count": 62,
   "metadata": {},
   "outputs": [],
   "source": [
    "npArr_sine_tr.append(_.best)"
   ]
  },
  {
   "cell_type": "markdown",
   "metadata": {},
   "source": [
    "### &ensp;&ensp;&ensp;&ensp;&ensp;iii) Numpy Vectorized Operation"
   ]
  },
  {
   "cell_type": "code",
   "execution_count": 63,
   "metadata": {},
   "outputs": [
    {
     "name": "stdout",
     "output_type": "stream",
     "text": [
      "262 ms ± 4.86 ms per loop (mean ± std. dev. of 3 runs, 3 loops each)\n"
     ]
    },
    {
     "data": {
      "text/plain": [
       "<TimeitResult : 262 ms ± 4.86 ms per loop (mean ± std. dev. of 3 runs, 3 loops each)>"
      ]
     },
     "execution_count": 63,
     "metadata": {},
     "output_type": "execute_result"
    }
   ],
   "source": [
    "%%timeit -n 3 -r 3 -o -p 3\n",
    "#Calculating sine for each element by vectorized method (similar to Matlab) with numpy array\n",
    "w = np.sin(v)"
   ]
  },
  {
   "cell_type": "code",
   "execution_count": 64,
   "metadata": {},
   "outputs": [],
   "source": [
    "npArr_sine_tr.append(_.best)"
   ]
  },
  {
   "cell_type": "markdown",
   "metadata": {
    "collapsed": true
   },
   "source": [
    "# Using Pandas\n",
    "#### Results are displayed by formatting Pandas tables and rendering them for display.\n",
    "pandas.Dataframe() is used with following options.<br/>\n",
    "&ensp;&ensp;&ensp;&ensp;&ensp;   data: lists of timing data.<br/>\n",
    "&ensp;&ensp;&ensp;&ensp;&ensp;  index: row labels .<br/>\n",
    "&ensp;&ensp;&ensp;&ensp;&ensp;columns: columns labels.<br/>\n",
    "<br/>\n",
    "Styler.highlight_max() and Styler.highlight_min are used with following options.<br/>\n",
    "&ensp;&ensp;&ensp;&ensp;&ensp;   axis: None (for tablewise).<br/>\n",
    "&ensp;&ensp;&ensp;&ensp;&ensp;  color: red(max) and green(min) .<br/>"
   ]
  },
  {
   "cell_type": "code",
   "execution_count": 65,
   "metadata": {
    "scrolled": true
   },
   "outputs": [
    {
     "data": {
      "text/html": [
       "<style  type=\"text/css\" >\n",
       "    #T_78f6fed8_06e1_11e8_8dd4_b8ca3a73597arow2_col0 {\n",
       "            background-color:  red;\n",
       "            : ;\n",
       "        }    #T_78f6fed8_06e1_11e8_8dd4_b8ca3a73597arow3_col2 {\n",
       "            : ;\n",
       "            background-color:  green;\n",
       "        }</style>  \n",
       "<table id=\"T_78f6fed8_06e1_11e8_8dd4_b8ca3a73597a\" ><caption>Problem 1 : Timing results for vector addition (seconds)</caption> \n",
       "<thead>    <tr> \n",
       "        <th class=\"blank level0\" ></th> \n",
       "        <th class=\"col_heading level0 col0\" >loop</th> \n",
       "        <th class=\"col_heading level0 col1\" >pre-loop</th> \n",
       "        <th class=\"col_heading level0 col2\" >map/vectorize</th> \n",
       "    </tr></thead> \n",
       "<tbody>    <tr> \n",
       "        <th id=\"T_78f6fed8_06e1_11e8_8dd4_b8ca3a73597alevel0_row0\" class=\"row_heading level0 row0\" >list</th> \n",
       "        <td id=\"T_78f6fed8_06e1_11e8_8dd4_b8ca3a73597arow0_col0\" class=\"data row0 col0\" >3.41</td> \n",
       "        <td id=\"T_78f6fed8_06e1_11e8_8dd4_b8ca3a73597arow0_col1\" class=\"data row0 col1\" >2.99</td> \n",
       "        <td id=\"T_78f6fed8_06e1_11e8_8dd4_b8ca3a73597arow0_col2\" class=\"data row0 col2\" >1.43</td> \n",
       "    </tr>    <tr> \n",
       "        <th id=\"T_78f6fed8_06e1_11e8_8dd4_b8ca3a73597alevel0_row1\" class=\"row_heading level0 row1\" >array</th> \n",
       "        <td id=\"T_78f6fed8_06e1_11e8_8dd4_b8ca3a73597arow1_col0\" class=\"data row1 col0\" >2.43</td> \n",
       "        <td id=\"T_78f6fed8_06e1_11e8_8dd4_b8ca3a73597arow1_col1\" class=\"data row1 col1\" >2.17</td> \n",
       "        <td id=\"T_78f6fed8_06e1_11e8_8dd4_b8ca3a73597arow1_col2\" class=\"data row1 col2\" >1.76</td> \n",
       "    </tr>    <tr> \n",
       "        <th id=\"T_78f6fed8_06e1_11e8_8dd4_b8ca3a73597alevel0_row2\" class=\"row_heading level0 row2\" >numpy</th> \n",
       "        <td id=\"T_78f6fed8_06e1_11e8_8dd4_b8ca3a73597arow2_col0\" class=\"data row2 col0\" >15.8</td> \n",
       "        <td id=\"T_78f6fed8_06e1_11e8_8dd4_b8ca3a73597arow2_col1\" class=\"data row2 col1\" >3.44</td> \n",
       "        <td id=\"T_78f6fed8_06e1_11e8_8dd4_b8ca3a73597arow2_col2\" class=\"data row2 col2\" >0.0283</td> \n",
       "    </tr>    <tr> \n",
       "        <th id=\"T_78f6fed8_06e1_11e8_8dd4_b8ca3a73597alevel0_row3\" class=\"row_heading level0 row3\" >Matlab Array</th> \n",
       "        <td id=\"T_78f6fed8_06e1_11e8_8dd4_b8ca3a73597arow3_col0\" class=\"data row3 col0\" >0.901</td> \n",
       "        <td id=\"T_78f6fed8_06e1_11e8_8dd4_b8ca3a73597arow3_col1\" class=\"data row3 col1\" >0.108</td> \n",
       "        <td id=\"T_78f6fed8_06e1_11e8_8dd4_b8ca3a73597arow3_col2\" class=\"data row3 col2\" >0.022</td> \n",
       "    </tr></tbody> \n",
       "</table> "
      ],
      "text/plain": [
       "<pandas.io.formats.style.Styler at 0x7f4aeaf7dbe0>"
      ]
     },
     "execution_count": 65,
     "metadata": {},
     "output_type": "execute_result"
    }
   ],
   "source": [
    "matlab_add_tr = [0.901, 0.108, 0.022] #Matlab Script with timing results \n",
    "                                      #is attached in the cell below\n",
    "df_addition = pd.DataFrame(\n",
    "    data    = [list_add_tr, arr_add_tr, npArr_add_tr,matlab_add_tr],\n",
    "    index   = ['list','array','numpy','Matlab Array'],\n",
    "    columns = ['loop', 'pre-loop', 'map/vectorize']\n",
    "    )\n",
    "df_addition.style\n",
    "new_df_add = pd.io.formats.style.Styler(\n",
    "    data      = df_addition,\n",
    "    precision = 3, \n",
    "    caption   = 'Problem 1 : Timing results for vector addition (seconds)',\n",
    "    )\n",
    "\n",
    "new_df_add.highlight_max(\n",
    "    axis = None,\n",
    "    color = \"red\"\n",
    "    )\n",
    "\n",
    "new_df_add.highlight_min(\n",
    "    axis = None,\n",
    "    color = \"green\"\n",
    "    )"
   ]
  },
  {
   "cell_type": "code",
   "execution_count": 66,
   "metadata": {},
   "outputs": [
    {
     "data": {
      "text/html": [
       "<style  type=\"text/css\" >\n",
       "    #T_78f6fed9_06e1_11e8_8dd4_b8ca3a73597arow2_col0 {\n",
       "            background-color:  red;\n",
       "            : ;\n",
       "        }    #T_78f6fed9_06e1_11e8_8dd4_b8ca3a73597arow3_col2 {\n",
       "            : ;\n",
       "            background-color:  green;\n",
       "        }</style>  \n",
       "<table id=\"T_78f6fed9_06e1_11e8_8dd4_b8ca3a73597a\" ><caption>Problem 1 : Timing results for vector multiplication (seconds)</caption> \n",
       "<thead>    <tr> \n",
       "        <th class=\"blank level0\" ></th> \n",
       "        <th class=\"col_heading level0 col0\" >loop</th> \n",
       "        <th class=\"col_heading level0 col1\" >pre-loop</th> \n",
       "        <th class=\"col_heading level0 col2\" >map/vectorize</th> \n",
       "    </tr></thead> \n",
       "<tbody>    <tr> \n",
       "        <th id=\"T_78f6fed9_06e1_11e8_8dd4_b8ca3a73597alevel0_row0\" class=\"row_heading level0 row0\" >list</th> \n",
       "        <td id=\"T_78f6fed9_06e1_11e8_8dd4_b8ca3a73597arow0_col0\" class=\"data row0 col0\" >3.36</td> \n",
       "        <td id=\"T_78f6fed9_06e1_11e8_8dd4_b8ca3a73597arow0_col1\" class=\"data row0 col1\" >2.95</td> \n",
       "        <td id=\"T_78f6fed9_06e1_11e8_8dd4_b8ca3a73597arow0_col2\" class=\"data row0 col2\" >1.46</td> \n",
       "    </tr>    <tr> \n",
       "        <th id=\"T_78f6fed9_06e1_11e8_8dd4_b8ca3a73597alevel0_row1\" class=\"row_heading level0 row1\" >array</th> \n",
       "        <td id=\"T_78f6fed9_06e1_11e8_8dd4_b8ca3a73597arow1_col0\" class=\"data row1 col0\" >2.43</td> \n",
       "        <td id=\"T_78f6fed9_06e1_11e8_8dd4_b8ca3a73597arow1_col1\" class=\"data row1 col1\" >2.11</td> \n",
       "        <td id=\"T_78f6fed9_06e1_11e8_8dd4_b8ca3a73597arow1_col2\" class=\"data row1 col2\" >1.74</td> \n",
       "    </tr>    <tr> \n",
       "        <th id=\"T_78f6fed9_06e1_11e8_8dd4_b8ca3a73597alevel0_row2\" class=\"row_heading level0 row2\" >numpy</th> \n",
       "        <td id=\"T_78f6fed9_06e1_11e8_8dd4_b8ca3a73597arow2_col0\" class=\"data row2 col0\" >15.5</td> \n",
       "        <td id=\"T_78f6fed9_06e1_11e8_8dd4_b8ca3a73597arow2_col1\" class=\"data row2 col1\" >3.25</td> \n",
       "        <td id=\"T_78f6fed9_06e1_11e8_8dd4_b8ca3a73597arow2_col2\" class=\"data row2 col2\" >0.0316</td> \n",
       "    </tr>    <tr> \n",
       "        <th id=\"T_78f6fed9_06e1_11e8_8dd4_b8ca3a73597alevel0_row3\" class=\"row_heading level0 row3\" >Matlab Array</th> \n",
       "        <td id=\"T_78f6fed9_06e1_11e8_8dd4_b8ca3a73597arow3_col0\" class=\"data row3 col0\" >0.932</td> \n",
       "        <td id=\"T_78f6fed9_06e1_11e8_8dd4_b8ca3a73597arow3_col1\" class=\"data row3 col1\" >0.113</td> \n",
       "        <td id=\"T_78f6fed9_06e1_11e8_8dd4_b8ca3a73597arow3_col2\" class=\"data row3 col2\" >0.023</td> \n",
       "    </tr></tbody> \n",
       "</table> "
      ],
      "text/plain": [
       "<pandas.io.formats.style.Styler at 0x7f4adc7d9828>"
      ]
     },
     "execution_count": 66,
     "metadata": {},
     "output_type": "execute_result"
    }
   ],
   "source": [
    "matlab_mult_tr = [0.932, 0.113, 0.023] #Matlab Script with timing results \n",
    "                                      #is attached in the cell below\n",
    "df_mult = pd.DataFrame(\n",
    "    data    = [list_mult_tr, arr_mult_tr, npArr_mult_tr,matlab_mult_tr],\n",
    "    index   = ['list','array','numpy','Matlab Array'],\n",
    "    columns = ['loop', 'pre-loop', 'map/vectorize']\n",
    "    )\n",
    "df_mult.style\n",
    "new_df_mult = pd.io.formats.style.Styler(\n",
    "    data      = df_mult,\n",
    "    precision = 3, \n",
    "    caption   = 'Problem 1 : Timing results for vector multiplication (seconds)',\n",
    "    )\n",
    "\n",
    "new_df_mult.highlight_max(\n",
    "    axis = None,\n",
    "    color = \"red\"\n",
    "    )\n",
    "\n",
    "new_df_mult.highlight_min(\n",
    "    axis = None,\n",
    "    color = \"green\"\n",
    "    )"
   ]
  },
  {
   "cell_type": "code",
   "execution_count": 67,
   "metadata": {},
   "outputs": [
    {
     "data": {
      "text/html": [
       "<style  type=\"text/css\" >\n",
       "    #T_78f6feda_06e1_11e8_8dd4_b8ca3a73597arow2_col0 {\n",
       "            background-color:  red;\n",
       "            : ;\n",
       "        }    #T_78f6feda_06e1_11e8_8dd4_b8ca3a73597arow3_col2 {\n",
       "            : ;\n",
       "            background-color:  green;\n",
       "        }</style>  \n",
       "<table id=\"T_78f6feda_06e1_11e8_8dd4_b8ca3a73597a\" ><caption>Problem 1 : Timing results for sin function (seconds)</caption> \n",
       "<thead>    <tr> \n",
       "        <th class=\"blank level0\" ></th> \n",
       "        <th class=\"col_heading level0 col0\" >loop</th> \n",
       "        <th class=\"col_heading level0 col1\" >pre-loop</th> \n",
       "        <th class=\"col_heading level0 col2\" >map/vectorize</th> \n",
       "    </tr></thead> \n",
       "<tbody>    <tr> \n",
       "        <th id=\"T_78f6feda_06e1_11e8_8dd4_b8ca3a73597alevel0_row0\" class=\"row_heading level0 row0\" >list</th> \n",
       "        <td id=\"T_78f6feda_06e1_11e8_8dd4_b8ca3a73597arow0_col0\" class=\"data row0 col0\" >3.35</td> \n",
       "        <td id=\"T_78f6feda_06e1_11e8_8dd4_b8ca3a73597arow0_col1\" class=\"data row0 col1\" >2.96</td> \n",
       "        <td id=\"T_78f6feda_06e1_11e8_8dd4_b8ca3a73597arow0_col2\" class=\"data row0 col2\" >2.06</td> \n",
       "    </tr>    <tr> \n",
       "        <th id=\"T_78f6feda_06e1_11e8_8dd4_b8ca3a73597alevel0_row1\" class=\"row_heading level0 row1\" >array</th> \n",
       "        <td id=\"T_78f6feda_06e1_11e8_8dd4_b8ca3a73597arow1_col0\" class=\"data row1 col0\" >2.96</td> \n",
       "        <td id=\"T_78f6feda_06e1_11e8_8dd4_b8ca3a73597arow1_col1\" class=\"data row1 col1\" >2.49</td> \n",
       "        <td id=\"T_78f6feda_06e1_11e8_8dd4_b8ca3a73597arow1_col2\" class=\"data row1 col2\" >2.34</td> \n",
       "    </tr>    <tr> \n",
       "        <th id=\"T_78f6feda_06e1_11e8_8dd4_b8ca3a73597alevel0_row2\" class=\"row_heading level0 row2\" >numpy</th> \n",
       "        <td id=\"T_78f6feda_06e1_11e8_8dd4_b8ca3a73597arow2_col0\" class=\"data row2 col0\" >15.8</td> \n",
       "        <td id=\"T_78f6feda_06e1_11e8_8dd4_b8ca3a73597arow2_col1\" class=\"data row2 col1\" >2.84</td> \n",
       "        <td id=\"T_78f6feda_06e1_11e8_8dd4_b8ca3a73597arow2_col2\" class=\"data row2 col2\" >0.258</td> \n",
       "    </tr>    <tr> \n",
       "        <th id=\"T_78f6feda_06e1_11e8_8dd4_b8ca3a73597alevel0_row3\" class=\"row_heading level0 row3\" >Matlab Array</th> \n",
       "        <td id=\"T_78f6feda_06e1_11e8_8dd4_b8ca3a73597arow3_col0\" class=\"data row3 col0\" >1.27</td> \n",
       "        <td id=\"T_78f6feda_06e1_11e8_8dd4_b8ca3a73597arow3_col1\" class=\"data row3 col1\" >0.25</td> \n",
       "        <td id=\"T_78f6feda_06e1_11e8_8dd4_b8ca3a73597arow3_col2\" class=\"data row3 col2\" >0.129</td> \n",
       "    </tr></tbody> \n",
       "</table> "
      ],
      "text/plain": [
       "<pandas.io.formats.style.Styler at 0x7f4adc7b0eb8>"
      ]
     },
     "execution_count": 67,
     "metadata": {},
     "output_type": "execute_result"
    }
   ],
   "source": [
    "matlab_sine_tr = [1.270, 0.250, 0.129] #Matlab Script with timing results \n",
    "                                      #is attached in the cell below\n",
    "df_sine = pd.DataFrame(\n",
    "    data    = [list_sine_tr, arr_sine_tr, npArr_sine_tr, matlab_sine_tr],\n",
    "    index   = ['list','array','numpy','Matlab Array'],\n",
    "    columns = ['loop', 'pre-loop', 'map/vectorize']\n",
    "    )\n",
    "df_sine.style\n",
    "new_df_sine = pd.io.formats.style.Styler(\n",
    "    data      = df_sine,\n",
    "    precision = 3, \n",
    "    caption   = 'Problem 1 : Timing results for sin function (seconds)',\n",
    "    )\n",
    "\n",
    "new_df_sine.highlight_max(\n",
    "    axis = None,\n",
    "    color = \"red\"\n",
    "    )\n",
    "\n",
    "new_df_sine.highlight_min(\n",
    "    axis = None,\n",
    "    color = \"green\"\n",
    "    )"
   ]
  },
  {
   "cell_type": "markdown",
   "metadata": {},
   "source": [
    "# Using Pandas\n",
    "#### Results are displayed by bar charts using Matplotlib."
   ]
  },
  {
   "cell_type": "code",
   "execution_count": 69,
   "metadata": {},
   "outputs": [
    {
     "data": {
      "application/javascript": [
       "/* Put everything inside the global mpl namespace */\n",
       "window.mpl = {};\n",
       "\n",
       "\n",
       "mpl.get_websocket_type = function() {\n",
       "    if (typeof(WebSocket) !== 'undefined') {\n",
       "        return WebSocket;\n",
       "    } else if (typeof(MozWebSocket) !== 'undefined') {\n",
       "        return MozWebSocket;\n",
       "    } else {\n",
       "        alert('Your browser does not have WebSocket support.' +\n",
       "              'Please try Chrome, Safari or Firefox ≥ 6. ' +\n",
       "              'Firefox 4 and 5 are also supported but you ' +\n",
       "              'have to enable WebSockets in about:config.');\n",
       "    };\n",
       "}\n",
       "\n",
       "mpl.figure = function(figure_id, websocket, ondownload, parent_element) {\n",
       "    this.id = figure_id;\n",
       "\n",
       "    this.ws = websocket;\n",
       "\n",
       "    this.supports_binary = (this.ws.binaryType != undefined);\n",
       "\n",
       "    if (!this.supports_binary) {\n",
       "        var warnings = document.getElementById(\"mpl-warnings\");\n",
       "        if (warnings) {\n",
       "            warnings.style.display = 'block';\n",
       "            warnings.textContent = (\n",
       "                \"This browser does not support binary websocket messages. \" +\n",
       "                    \"Performance may be slow.\");\n",
       "        }\n",
       "    }\n",
       "\n",
       "    this.imageObj = new Image();\n",
       "\n",
       "    this.context = undefined;\n",
       "    this.message = undefined;\n",
       "    this.canvas = undefined;\n",
       "    this.rubberband_canvas = undefined;\n",
       "    this.rubberband_context = undefined;\n",
       "    this.format_dropdown = undefined;\n",
       "\n",
       "    this.image_mode = 'full';\n",
       "\n",
       "    this.root = $('<div/>');\n",
       "    this._root_extra_style(this.root)\n",
       "    this.root.attr('style', 'display: inline-block');\n",
       "\n",
       "    $(parent_element).append(this.root);\n",
       "\n",
       "    this._init_header(this);\n",
       "    this._init_canvas(this);\n",
       "    this._init_toolbar(this);\n",
       "\n",
       "    var fig = this;\n",
       "\n",
       "    this.waiting = false;\n",
       "\n",
       "    this.ws.onopen =  function () {\n",
       "            fig.send_message(\"supports_binary\", {value: fig.supports_binary});\n",
       "            fig.send_message(\"send_image_mode\", {});\n",
       "            if (mpl.ratio != 1) {\n",
       "                fig.send_message(\"set_dpi_ratio\", {'dpi_ratio': mpl.ratio});\n",
       "            }\n",
       "            fig.send_message(\"refresh\", {});\n",
       "        }\n",
       "\n",
       "    this.imageObj.onload = function() {\n",
       "            if (fig.image_mode == 'full') {\n",
       "                // Full images could contain transparency (where diff images\n",
       "                // almost always do), so we need to clear the canvas so that\n",
       "                // there is no ghosting.\n",
       "                fig.context.clearRect(0, 0, fig.canvas.width, fig.canvas.height);\n",
       "            }\n",
       "            fig.context.drawImage(fig.imageObj, 0, 0);\n",
       "        };\n",
       "\n",
       "    this.imageObj.onunload = function() {\n",
       "        fig.ws.close();\n",
       "    }\n",
       "\n",
       "    this.ws.onmessage = this._make_on_message_function(this);\n",
       "\n",
       "    this.ondownload = ondownload;\n",
       "}\n",
       "\n",
       "mpl.figure.prototype._init_header = function() {\n",
       "    var titlebar = $(\n",
       "        '<div class=\"ui-dialog-titlebar ui-widget-header ui-corner-all ' +\n",
       "        'ui-helper-clearfix\"/>');\n",
       "    var titletext = $(\n",
       "        '<div class=\"ui-dialog-title\" style=\"width: 100%; ' +\n",
       "        'text-align: center; padding: 3px;\"/>');\n",
       "    titlebar.append(titletext)\n",
       "    this.root.append(titlebar);\n",
       "    this.header = titletext[0];\n",
       "}\n",
       "\n",
       "\n",
       "\n",
       "mpl.figure.prototype._canvas_extra_style = function(canvas_div) {\n",
       "\n",
       "}\n",
       "\n",
       "\n",
       "mpl.figure.prototype._root_extra_style = function(canvas_div) {\n",
       "\n",
       "}\n",
       "\n",
       "mpl.figure.prototype._init_canvas = function() {\n",
       "    var fig = this;\n",
       "\n",
       "    var canvas_div = $('<div/>');\n",
       "\n",
       "    canvas_div.attr('style', 'position: relative; clear: both; outline: 0');\n",
       "\n",
       "    function canvas_keyboard_event(event) {\n",
       "        return fig.key_event(event, event['data']);\n",
       "    }\n",
       "\n",
       "    canvas_div.keydown('key_press', canvas_keyboard_event);\n",
       "    canvas_div.keyup('key_release', canvas_keyboard_event);\n",
       "    this.canvas_div = canvas_div\n",
       "    this._canvas_extra_style(canvas_div)\n",
       "    this.root.append(canvas_div);\n",
       "\n",
       "    var canvas = $('<canvas/>');\n",
       "    canvas.addClass('mpl-canvas');\n",
       "    canvas.attr('style', \"left: 0; top: 0; z-index: 0; outline: 0\")\n",
       "\n",
       "    this.canvas = canvas[0];\n",
       "    this.context = canvas[0].getContext(\"2d\");\n",
       "\n",
       "    var backingStore = this.context.backingStorePixelRatio ||\n",
       "\tthis.context.webkitBackingStorePixelRatio ||\n",
       "\tthis.context.mozBackingStorePixelRatio ||\n",
       "\tthis.context.msBackingStorePixelRatio ||\n",
       "\tthis.context.oBackingStorePixelRatio ||\n",
       "\tthis.context.backingStorePixelRatio || 1;\n",
       "\n",
       "    mpl.ratio = (window.devicePixelRatio || 1) / backingStore;\n",
       "\n",
       "    var rubberband = $('<canvas/>');\n",
       "    rubberband.attr('style', \"position: absolute; left: 0; top: 0; z-index: 1;\")\n",
       "\n",
       "    var pass_mouse_events = true;\n",
       "\n",
       "    canvas_div.resizable({\n",
       "        start: function(event, ui) {\n",
       "            pass_mouse_events = false;\n",
       "        },\n",
       "        resize: function(event, ui) {\n",
       "            fig.request_resize(ui.size.width, ui.size.height);\n",
       "        },\n",
       "        stop: function(event, ui) {\n",
       "            pass_mouse_events = true;\n",
       "            fig.request_resize(ui.size.width, ui.size.height);\n",
       "        },\n",
       "    });\n",
       "\n",
       "    function mouse_event_fn(event) {\n",
       "        if (pass_mouse_events)\n",
       "            return fig.mouse_event(event, event['data']);\n",
       "    }\n",
       "\n",
       "    rubberband.mousedown('button_press', mouse_event_fn);\n",
       "    rubberband.mouseup('button_release', mouse_event_fn);\n",
       "    // Throttle sequential mouse events to 1 every 20ms.\n",
       "    rubberband.mousemove('motion_notify', mouse_event_fn);\n",
       "\n",
       "    rubberband.mouseenter('figure_enter', mouse_event_fn);\n",
       "    rubberband.mouseleave('figure_leave', mouse_event_fn);\n",
       "\n",
       "    canvas_div.on(\"wheel\", function (event) {\n",
       "        event = event.originalEvent;\n",
       "        event['data'] = 'scroll'\n",
       "        if (event.deltaY < 0) {\n",
       "            event.step = 1;\n",
       "        } else {\n",
       "            event.step = -1;\n",
       "        }\n",
       "        mouse_event_fn(event);\n",
       "    });\n",
       "\n",
       "    canvas_div.append(canvas);\n",
       "    canvas_div.append(rubberband);\n",
       "\n",
       "    this.rubberband = rubberband;\n",
       "    this.rubberband_canvas = rubberband[0];\n",
       "    this.rubberband_context = rubberband[0].getContext(\"2d\");\n",
       "    this.rubberband_context.strokeStyle = \"#000000\";\n",
       "\n",
       "    this._resize_canvas = function(width, height) {\n",
       "        // Keep the size of the canvas, canvas container, and rubber band\n",
       "        // canvas in synch.\n",
       "        canvas_div.css('width', width)\n",
       "        canvas_div.css('height', height)\n",
       "\n",
       "        canvas.attr('width', width * mpl.ratio);\n",
       "        canvas.attr('height', height * mpl.ratio);\n",
       "        canvas.attr('style', 'width: ' + width + 'px; height: ' + height + 'px;');\n",
       "\n",
       "        rubberband.attr('width', width);\n",
       "        rubberband.attr('height', height);\n",
       "    }\n",
       "\n",
       "    // Set the figure to an initial 600x600px, this will subsequently be updated\n",
       "    // upon first draw.\n",
       "    this._resize_canvas(600, 600);\n",
       "\n",
       "    // Disable right mouse context menu.\n",
       "    $(this.rubberband_canvas).bind(\"contextmenu\",function(e){\n",
       "        return false;\n",
       "    });\n",
       "\n",
       "    function set_focus () {\n",
       "        canvas.focus();\n",
       "        canvas_div.focus();\n",
       "    }\n",
       "\n",
       "    window.setTimeout(set_focus, 100);\n",
       "}\n",
       "\n",
       "mpl.figure.prototype._init_toolbar = function() {\n",
       "    var fig = this;\n",
       "\n",
       "    var nav_element = $('<div/>')\n",
       "    nav_element.attr('style', 'width: 100%');\n",
       "    this.root.append(nav_element);\n",
       "\n",
       "    // Define a callback function for later on.\n",
       "    function toolbar_event(event) {\n",
       "        return fig.toolbar_button_onclick(event['data']);\n",
       "    }\n",
       "    function toolbar_mouse_event(event) {\n",
       "        return fig.toolbar_button_onmouseover(event['data']);\n",
       "    }\n",
       "\n",
       "    for(var toolbar_ind in mpl.toolbar_items) {\n",
       "        var name = mpl.toolbar_items[toolbar_ind][0];\n",
       "        var tooltip = mpl.toolbar_items[toolbar_ind][1];\n",
       "        var image = mpl.toolbar_items[toolbar_ind][2];\n",
       "        var method_name = mpl.toolbar_items[toolbar_ind][3];\n",
       "\n",
       "        if (!name) {\n",
       "            // put a spacer in here.\n",
       "            continue;\n",
       "        }\n",
       "        var button = $('<button/>');\n",
       "        button.addClass('ui-button ui-widget ui-state-default ui-corner-all ' +\n",
       "                        'ui-button-icon-only');\n",
       "        button.attr('role', 'button');\n",
       "        button.attr('aria-disabled', 'false');\n",
       "        button.click(method_name, toolbar_event);\n",
       "        button.mouseover(tooltip, toolbar_mouse_event);\n",
       "\n",
       "        var icon_img = $('<span/>');\n",
       "        icon_img.addClass('ui-button-icon-primary ui-icon');\n",
       "        icon_img.addClass(image);\n",
       "        icon_img.addClass('ui-corner-all');\n",
       "\n",
       "        var tooltip_span = $('<span/>');\n",
       "        tooltip_span.addClass('ui-button-text');\n",
       "        tooltip_span.html(tooltip);\n",
       "\n",
       "        button.append(icon_img);\n",
       "        button.append(tooltip_span);\n",
       "\n",
       "        nav_element.append(button);\n",
       "    }\n",
       "\n",
       "    var fmt_picker_span = $('<span/>');\n",
       "\n",
       "    var fmt_picker = $('<select/>');\n",
       "    fmt_picker.addClass('mpl-toolbar-option ui-widget ui-widget-content');\n",
       "    fmt_picker_span.append(fmt_picker);\n",
       "    nav_element.append(fmt_picker_span);\n",
       "    this.format_dropdown = fmt_picker[0];\n",
       "\n",
       "    for (var ind in mpl.extensions) {\n",
       "        var fmt = mpl.extensions[ind];\n",
       "        var option = $(\n",
       "            '<option/>', {selected: fmt === mpl.default_extension}).html(fmt);\n",
       "        fmt_picker.append(option)\n",
       "    }\n",
       "\n",
       "    // Add hover states to the ui-buttons\n",
       "    $( \".ui-button\" ).hover(\n",
       "        function() { $(this).addClass(\"ui-state-hover\");},\n",
       "        function() { $(this).removeClass(\"ui-state-hover\");}\n",
       "    );\n",
       "\n",
       "    var status_bar = $('<span class=\"mpl-message\"/>');\n",
       "    nav_element.append(status_bar);\n",
       "    this.message = status_bar[0];\n",
       "}\n",
       "\n",
       "mpl.figure.prototype.request_resize = function(x_pixels, y_pixels) {\n",
       "    // Request matplotlib to resize the figure. Matplotlib will then trigger a resize in the client,\n",
       "    // which will in turn request a refresh of the image.\n",
       "    this.send_message('resize', {'width': x_pixels, 'height': y_pixels});\n",
       "}\n",
       "\n",
       "mpl.figure.prototype.send_message = function(type, properties) {\n",
       "    properties['type'] = type;\n",
       "    properties['figure_id'] = this.id;\n",
       "    this.ws.send(JSON.stringify(properties));\n",
       "}\n",
       "\n",
       "mpl.figure.prototype.send_draw_message = function() {\n",
       "    if (!this.waiting) {\n",
       "        this.waiting = true;\n",
       "        this.ws.send(JSON.stringify({type: \"draw\", figure_id: this.id}));\n",
       "    }\n",
       "}\n",
       "\n",
       "\n",
       "mpl.figure.prototype.handle_save = function(fig, msg) {\n",
       "    var format_dropdown = fig.format_dropdown;\n",
       "    var format = format_dropdown.options[format_dropdown.selectedIndex].value;\n",
       "    fig.ondownload(fig, format);\n",
       "}\n",
       "\n",
       "\n",
       "mpl.figure.prototype.handle_resize = function(fig, msg) {\n",
       "    var size = msg['size'];\n",
       "    if (size[0] != fig.canvas.width || size[1] != fig.canvas.height) {\n",
       "        fig._resize_canvas(size[0], size[1]);\n",
       "        fig.send_message(\"refresh\", {});\n",
       "    };\n",
       "}\n",
       "\n",
       "mpl.figure.prototype.handle_rubberband = function(fig, msg) {\n",
       "    var x0 = msg['x0'] / mpl.ratio;\n",
       "    var y0 = (fig.canvas.height - msg['y0']) / mpl.ratio;\n",
       "    var x1 = msg['x1'] / mpl.ratio;\n",
       "    var y1 = (fig.canvas.height - msg['y1']) / mpl.ratio;\n",
       "    x0 = Math.floor(x0) + 0.5;\n",
       "    y0 = Math.floor(y0) + 0.5;\n",
       "    x1 = Math.floor(x1) + 0.5;\n",
       "    y1 = Math.floor(y1) + 0.5;\n",
       "    var min_x = Math.min(x0, x1);\n",
       "    var min_y = Math.min(y0, y1);\n",
       "    var width = Math.abs(x1 - x0);\n",
       "    var height = Math.abs(y1 - y0);\n",
       "\n",
       "    fig.rubberband_context.clearRect(\n",
       "        0, 0, fig.canvas.width, fig.canvas.height);\n",
       "\n",
       "    fig.rubberband_context.strokeRect(min_x, min_y, width, height);\n",
       "}\n",
       "\n",
       "mpl.figure.prototype.handle_figure_label = function(fig, msg) {\n",
       "    // Updates the figure title.\n",
       "    fig.header.textContent = msg['label'];\n",
       "}\n",
       "\n",
       "mpl.figure.prototype.handle_cursor = function(fig, msg) {\n",
       "    var cursor = msg['cursor'];\n",
       "    switch(cursor)\n",
       "    {\n",
       "    case 0:\n",
       "        cursor = 'pointer';\n",
       "        break;\n",
       "    case 1:\n",
       "        cursor = 'default';\n",
       "        break;\n",
       "    case 2:\n",
       "        cursor = 'crosshair';\n",
       "        break;\n",
       "    case 3:\n",
       "        cursor = 'move';\n",
       "        break;\n",
       "    }\n",
       "    fig.rubberband_canvas.style.cursor = cursor;\n",
       "}\n",
       "\n",
       "mpl.figure.prototype.handle_message = function(fig, msg) {\n",
       "    fig.message.textContent = msg['message'];\n",
       "}\n",
       "\n",
       "mpl.figure.prototype.handle_draw = function(fig, msg) {\n",
       "    // Request the server to send over a new figure.\n",
       "    fig.send_draw_message();\n",
       "}\n",
       "\n",
       "mpl.figure.prototype.handle_image_mode = function(fig, msg) {\n",
       "    fig.image_mode = msg['mode'];\n",
       "}\n",
       "\n",
       "mpl.figure.prototype.updated_canvas_event = function() {\n",
       "    // Called whenever the canvas gets updated.\n",
       "    this.send_message(\"ack\", {});\n",
       "}\n",
       "\n",
       "// A function to construct a web socket function for onmessage handling.\n",
       "// Called in the figure constructor.\n",
       "mpl.figure.prototype._make_on_message_function = function(fig) {\n",
       "    return function socket_on_message(evt) {\n",
       "        if (evt.data instanceof Blob) {\n",
       "            /* FIXME: We get \"Resource interpreted as Image but\n",
       "             * transferred with MIME type text/plain:\" errors on\n",
       "             * Chrome.  But how to set the MIME type?  It doesn't seem\n",
       "             * to be part of the websocket stream */\n",
       "            evt.data.type = \"image/png\";\n",
       "\n",
       "            /* Free the memory for the previous frames */\n",
       "            if (fig.imageObj.src) {\n",
       "                (window.URL || window.webkitURL).revokeObjectURL(\n",
       "                    fig.imageObj.src);\n",
       "            }\n",
       "\n",
       "            fig.imageObj.src = (window.URL || window.webkitURL).createObjectURL(\n",
       "                evt.data);\n",
       "            fig.updated_canvas_event();\n",
       "            fig.waiting = false;\n",
       "            return;\n",
       "        }\n",
       "        else if (typeof evt.data === 'string' && evt.data.slice(0, 21) == \"data:image/png;base64\") {\n",
       "            fig.imageObj.src = evt.data;\n",
       "            fig.updated_canvas_event();\n",
       "            fig.waiting = false;\n",
       "            return;\n",
       "        }\n",
       "\n",
       "        var msg = JSON.parse(evt.data);\n",
       "        var msg_type = msg['type'];\n",
       "\n",
       "        // Call the  \"handle_{type}\" callback, which takes\n",
       "        // the figure and JSON message as its only arguments.\n",
       "        try {\n",
       "            var callback = fig[\"handle_\" + msg_type];\n",
       "        } catch (e) {\n",
       "            console.log(\"No handler for the '\" + msg_type + \"' message type: \", msg);\n",
       "            return;\n",
       "        }\n",
       "\n",
       "        if (callback) {\n",
       "            try {\n",
       "                // console.log(\"Handling '\" + msg_type + \"' message: \", msg);\n",
       "                callback(fig, msg);\n",
       "            } catch (e) {\n",
       "                console.log(\"Exception inside the 'handler_\" + msg_type + \"' callback:\", e, e.stack, msg);\n",
       "            }\n",
       "        }\n",
       "    };\n",
       "}\n",
       "\n",
       "// from http://stackoverflow.com/questions/1114465/getting-mouse-location-in-canvas\n",
       "mpl.findpos = function(e) {\n",
       "    //this section is from http://www.quirksmode.org/js/events_properties.html\n",
       "    var targ;\n",
       "    if (!e)\n",
       "        e = window.event;\n",
       "    if (e.target)\n",
       "        targ = e.target;\n",
       "    else if (e.srcElement)\n",
       "        targ = e.srcElement;\n",
       "    if (targ.nodeType == 3) // defeat Safari bug\n",
       "        targ = targ.parentNode;\n",
       "\n",
       "    // jQuery normalizes the pageX and pageY\n",
       "    // pageX,Y are the mouse positions relative to the document\n",
       "    // offset() returns the position of the element relative to the document\n",
       "    var x = e.pageX - $(targ).offset().left;\n",
       "    var y = e.pageY - $(targ).offset().top;\n",
       "\n",
       "    return {\"x\": x, \"y\": y};\n",
       "};\n",
       "\n",
       "/*\n",
       " * return a copy of an object with only non-object keys\n",
       " * we need this to avoid circular references\n",
       " * http://stackoverflow.com/a/24161582/3208463\n",
       " */\n",
       "function simpleKeys (original) {\n",
       "  return Object.keys(original).reduce(function (obj, key) {\n",
       "    if (typeof original[key] !== 'object')\n",
       "        obj[key] = original[key]\n",
       "    return obj;\n",
       "  }, {});\n",
       "}\n",
       "\n",
       "mpl.figure.prototype.mouse_event = function(event, name) {\n",
       "    var canvas_pos = mpl.findpos(event)\n",
       "\n",
       "    if (name === 'button_press')\n",
       "    {\n",
       "        this.canvas.focus();\n",
       "        this.canvas_div.focus();\n",
       "    }\n",
       "\n",
       "    var x = canvas_pos.x * mpl.ratio;\n",
       "    var y = canvas_pos.y * mpl.ratio;\n",
       "\n",
       "    this.send_message(name, {x: x, y: y, button: event.button,\n",
       "                             step: event.step,\n",
       "                             guiEvent: simpleKeys(event)});\n",
       "\n",
       "    /* This prevents the web browser from automatically changing to\n",
       "     * the text insertion cursor when the button is pressed.  We want\n",
       "     * to control all of the cursor setting manually through the\n",
       "     * 'cursor' event from matplotlib */\n",
       "    event.preventDefault();\n",
       "    return false;\n",
       "}\n",
       "\n",
       "mpl.figure.prototype._key_event_extra = function(event, name) {\n",
       "    // Handle any extra behaviour associated with a key event\n",
       "}\n",
       "\n",
       "mpl.figure.prototype.key_event = function(event, name) {\n",
       "\n",
       "    // Prevent repeat events\n",
       "    if (name == 'key_press')\n",
       "    {\n",
       "        if (event.which === this._key)\n",
       "            return;\n",
       "        else\n",
       "            this._key = event.which;\n",
       "    }\n",
       "    if (name == 'key_release')\n",
       "        this._key = null;\n",
       "\n",
       "    var value = '';\n",
       "    if (event.ctrlKey && event.which != 17)\n",
       "        value += \"ctrl+\";\n",
       "    if (event.altKey && event.which != 18)\n",
       "        value += \"alt+\";\n",
       "    if (event.shiftKey && event.which != 16)\n",
       "        value += \"shift+\";\n",
       "\n",
       "    value += 'k';\n",
       "    value += event.which.toString();\n",
       "\n",
       "    this._key_event_extra(event, name);\n",
       "\n",
       "    this.send_message(name, {key: value,\n",
       "                             guiEvent: simpleKeys(event)});\n",
       "    return false;\n",
       "}\n",
       "\n",
       "mpl.figure.prototype.toolbar_button_onclick = function(name) {\n",
       "    if (name == 'download') {\n",
       "        this.handle_save(this, null);\n",
       "    } else {\n",
       "        this.send_message(\"toolbar_button\", {name: name});\n",
       "    }\n",
       "};\n",
       "\n",
       "mpl.figure.prototype.toolbar_button_onmouseover = function(tooltip) {\n",
       "    this.message.textContent = tooltip;\n",
       "};\n",
       "mpl.toolbar_items = [[\"Home\", \"Reset original view\", \"fa fa-home icon-home\", \"home\"], [\"Back\", \"Back to  previous view\", \"fa fa-arrow-left icon-arrow-left\", \"back\"], [\"Forward\", \"Forward to next view\", \"fa fa-arrow-right icon-arrow-right\", \"forward\"], [\"\", \"\", \"\", \"\"], [\"Pan\", \"Pan axes with left mouse, zoom with right\", \"fa fa-arrows icon-move\", \"pan\"], [\"Zoom\", \"Zoom to rectangle\", \"fa fa-square-o icon-check-empty\", \"zoom\"], [\"\", \"\", \"\", \"\"], [\"Download\", \"Download plot\", \"fa fa-floppy-o icon-save\", \"download\"]];\n",
       "\n",
       "mpl.extensions = [\"eps\", \"jpeg\", \"pdf\", \"png\", \"ps\", \"raw\", \"svg\", \"tif\"];\n",
       "\n",
       "mpl.default_extension = \"png\";var comm_websocket_adapter = function(comm) {\n",
       "    // Create a \"websocket\"-like object which calls the given IPython comm\n",
       "    // object with the appropriate methods. Currently this is a non binary\n",
       "    // socket, so there is still some room for performance tuning.\n",
       "    var ws = {};\n",
       "\n",
       "    ws.close = function() {\n",
       "        comm.close()\n",
       "    };\n",
       "    ws.send = function(m) {\n",
       "        //console.log('sending', m);\n",
       "        comm.send(m);\n",
       "    };\n",
       "    // Register the callback with on_msg.\n",
       "    comm.on_msg(function(msg) {\n",
       "        //console.log('receiving', msg['content']['data'], msg);\n",
       "        // Pass the mpl event to the overriden (by mpl) onmessage function.\n",
       "        ws.onmessage(msg['content']['data'])\n",
       "    });\n",
       "    return ws;\n",
       "}\n",
       "\n",
       "mpl.mpl_figure_comm = function(comm, msg) {\n",
       "    // This is the function which gets called when the mpl process\n",
       "    // starts-up an IPython Comm through the \"matplotlib\" channel.\n",
       "\n",
       "    var id = msg.content.data.id;\n",
       "    // Get hold of the div created by the display call when the Comm\n",
       "    // socket was opened in Python.\n",
       "    var element = $(\"#\" + id);\n",
       "    var ws_proxy = comm_websocket_adapter(comm)\n",
       "\n",
       "    function ondownload(figure, format) {\n",
       "        window.open(figure.imageObj.src);\n",
       "    }\n",
       "\n",
       "    var fig = new mpl.figure(id, ws_proxy,\n",
       "                           ondownload,\n",
       "                           element.get(0));\n",
       "\n",
       "    // Call onopen now - mpl needs it, as it is assuming we've passed it a real\n",
       "    // web socket which is closed, not our websocket->open comm proxy.\n",
       "    ws_proxy.onopen();\n",
       "\n",
       "    fig.parent_element = element.get(0);\n",
       "    fig.cell_info = mpl.find_output_cell(\"<div id='\" + id + \"'></div>\");\n",
       "    if (!fig.cell_info) {\n",
       "        console.error(\"Failed to find cell for figure\", id, fig);\n",
       "        return;\n",
       "    }\n",
       "\n",
       "    var output_index = fig.cell_info[2]\n",
       "    var cell = fig.cell_info[0];\n",
       "\n",
       "};\n",
       "\n",
       "mpl.figure.prototype.handle_close = function(fig, msg) {\n",
       "    var width = fig.canvas.width/mpl.ratio\n",
       "    fig.root.unbind('remove')\n",
       "\n",
       "    // Update the output cell to use the data from the current canvas.\n",
       "    fig.push_to_output();\n",
       "    var dataURL = fig.canvas.toDataURL();\n",
       "    // Re-enable the keyboard manager in IPython - without this line, in FF,\n",
       "    // the notebook keyboard shortcuts fail.\n",
       "    IPython.keyboard_manager.enable()\n",
       "    $(fig.parent_element).html('<img src=\"' + dataURL + '\" width=\"' + width + '\">');\n",
       "    fig.close_ws(fig, msg);\n",
       "}\n",
       "\n",
       "mpl.figure.prototype.close_ws = function(fig, msg){\n",
       "    fig.send_message('closing', msg);\n",
       "    // fig.ws.close()\n",
       "}\n",
       "\n",
       "mpl.figure.prototype.push_to_output = function(remove_interactive) {\n",
       "    // Turn the data on the canvas into data in the output cell.\n",
       "    var width = this.canvas.width/mpl.ratio\n",
       "    var dataURL = this.canvas.toDataURL();\n",
       "    this.cell_info[1]['text/html'] = '<img src=\"' + dataURL + '\" width=\"' + width + '\">';\n",
       "}\n",
       "\n",
       "mpl.figure.prototype.updated_canvas_event = function() {\n",
       "    // Tell IPython that the notebook contents must change.\n",
       "    IPython.notebook.set_dirty(true);\n",
       "    this.send_message(\"ack\", {});\n",
       "    var fig = this;\n",
       "    // Wait a second, then push the new image to the DOM so\n",
       "    // that it is saved nicely (might be nice to debounce this).\n",
       "    setTimeout(function () { fig.push_to_output() }, 1000);\n",
       "}\n",
       "\n",
       "mpl.figure.prototype._init_toolbar = function() {\n",
       "    var fig = this;\n",
       "\n",
       "    var nav_element = $('<div/>')\n",
       "    nav_element.attr('style', 'width: 100%');\n",
       "    this.root.append(nav_element);\n",
       "\n",
       "    // Define a callback function for later on.\n",
       "    function toolbar_event(event) {\n",
       "        return fig.toolbar_button_onclick(event['data']);\n",
       "    }\n",
       "    function toolbar_mouse_event(event) {\n",
       "        return fig.toolbar_button_onmouseover(event['data']);\n",
       "    }\n",
       "\n",
       "    for(var toolbar_ind in mpl.toolbar_items){\n",
       "        var name = mpl.toolbar_items[toolbar_ind][0];\n",
       "        var tooltip = mpl.toolbar_items[toolbar_ind][1];\n",
       "        var image = mpl.toolbar_items[toolbar_ind][2];\n",
       "        var method_name = mpl.toolbar_items[toolbar_ind][3];\n",
       "\n",
       "        if (!name) { continue; };\n",
       "\n",
       "        var button = $('<button class=\"btn btn-default\" href=\"#\" title=\"' + name + '\"><i class=\"fa ' + image + ' fa-lg\"></i></button>');\n",
       "        button.click(method_name, toolbar_event);\n",
       "        button.mouseover(tooltip, toolbar_mouse_event);\n",
       "        nav_element.append(button);\n",
       "    }\n",
       "\n",
       "    // Add the status bar.\n",
       "    var status_bar = $('<span class=\"mpl-message\" style=\"text-align:right; float: right;\"/>');\n",
       "    nav_element.append(status_bar);\n",
       "    this.message = status_bar[0];\n",
       "\n",
       "    // Add the close button to the window.\n",
       "    var buttongrp = $('<div class=\"btn-group inline pull-right\"></div>');\n",
       "    var button = $('<button class=\"btn btn-mini btn-primary\" href=\"#\" title=\"Stop Interaction\"><i class=\"fa fa-power-off icon-remove icon-large\"></i></button>');\n",
       "    button.click(function (evt) { fig.handle_close(fig, {}); } );\n",
       "    button.mouseover('Stop Interaction', toolbar_mouse_event);\n",
       "    buttongrp.append(button);\n",
       "    var titlebar = this.root.find($('.ui-dialog-titlebar'));\n",
       "    titlebar.prepend(buttongrp);\n",
       "}\n",
       "\n",
       "mpl.figure.prototype._root_extra_style = function(el){\n",
       "    var fig = this\n",
       "    el.on(\"remove\", function(){\n",
       "\tfig.close_ws(fig, {});\n",
       "    });\n",
       "}\n",
       "\n",
       "mpl.figure.prototype._canvas_extra_style = function(el){\n",
       "    // this is important to make the div 'focusable\n",
       "    el.attr('tabindex', 0)\n",
       "    // reach out to IPython and tell the keyboard manager to turn it's self\n",
       "    // off when our div gets focus\n",
       "\n",
       "    // location in version 3\n",
       "    if (IPython.notebook.keyboard_manager) {\n",
       "        IPython.notebook.keyboard_manager.register_events(el);\n",
       "    }\n",
       "    else {\n",
       "        // location in version 2\n",
       "        IPython.keyboard_manager.register_events(el);\n",
       "    }\n",
       "\n",
       "}\n",
       "\n",
       "mpl.figure.prototype._key_event_extra = function(event, name) {\n",
       "    var manager = IPython.notebook.keyboard_manager;\n",
       "    if (!manager)\n",
       "        manager = IPython.keyboard_manager;\n",
       "\n",
       "    // Check for shift+enter\n",
       "    if (event.shiftKey && event.which == 13) {\n",
       "        this.canvas_div.blur();\n",
       "        event.shiftKey = false;\n",
       "        // Send a \"J\" for go to next cell\n",
       "        event.which = 74;\n",
       "        event.keyCode = 74;\n",
       "        manager.command_mode();\n",
       "        manager.handle_keydown(event);\n",
       "    }\n",
       "}\n",
       "\n",
       "mpl.figure.prototype.handle_save = function(fig, msg) {\n",
       "    fig.ondownload(fig, null);\n",
       "}\n",
       "\n",
       "\n",
       "mpl.find_output_cell = function(html_output) {\n",
       "    // Return the cell and output element which can be found *uniquely* in the notebook.\n",
       "    // Note - this is a bit hacky, but it is done because the \"notebook_saving.Notebook\"\n",
       "    // IPython event is triggered only after the cells have been serialised, which for\n",
       "    // our purposes (turning an active figure into a static one), is too late.\n",
       "    var cells = IPython.notebook.get_cells();\n",
       "    var ncells = cells.length;\n",
       "    for (var i=0; i<ncells; i++) {\n",
       "        var cell = cells[i];\n",
       "        if (cell.cell_type === 'code'){\n",
       "            for (var j=0; j<cell.output_area.outputs.length; j++) {\n",
       "                var data = cell.output_area.outputs[j];\n",
       "                if (data.data) {\n",
       "                    // IPython >= 3 moved mimebundle to data attribute of output\n",
       "                    data = data.data;\n",
       "                }\n",
       "                if (data['text/html'] == html_output) {\n",
       "                    return [cell, data, j];\n",
       "                }\n",
       "            }\n",
       "        }\n",
       "    }\n",
       "}\n",
       "\n",
       "// Register the function which deals with the matplotlib target/channel.\n",
       "// The kernel may be null if the page has been refreshed.\n",
       "if (IPython.notebook.kernel != null) {\n",
       "    IPython.notebook.kernel.comm_manager.register_target('matplotlib', mpl.mpl_figure_comm);\n",
       "}\n"
      ],
      "text/plain": [
       "<IPython.core.display.Javascript object>"
      ]
     },
     "metadata": {},
     "output_type": "display_data"
    },
    {
     "data": {
      "text/html": [
       "<img src=\"data:image/png;base64,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\" width=\"640\">"
      ],
      "text/plain": [
       "<IPython.core.display.HTML object>"
      ]
     },
     "metadata": {},
     "output_type": "display_data"
    }
   ],
   "source": [
    "%matplotlib notebook\n",
    "# data to plot\n",
    "n_groups = 4\n",
    "add_loop       = [list_add_tr[0], arr_add_tr[0], npArr_add_tr[0], matlab_add_tr[0]]\n",
    "add_ploop      = [list_add_tr[1], arr_add_tr[1], npArr_add_tr[1], matlab_add_tr[1]]\n",
    "add_map_vectz  = [list_add_tr[2], arr_add_tr[2], npArr_add_tr[2], matlab_add_tr[2]]\n",
    "\n",
    "# create plot\n",
    "f, ax = plt.subplots(nrows = 1,\n",
    "                    ncols = 1\n",
    "                    )\n",
    "\n",
    "index = np.arange(n_groups)\n",
    "bar_width = 0.1\n",
    "opacity = 0.8\n",
    " \n",
    "rects1 = plt.bar(index, add_loop, bar_width,\n",
    "                 alpha=opacity,\n",
    "                 color='r',\n",
    "                 label='Loop')\n",
    " \n",
    "rects2 = plt.bar(index + bar_width, add_ploop, bar_width,\n",
    "                 alpha=opacity,\n",
    "                 color='g',\n",
    "                 label='Pre-loop')\n",
    "\n",
    "rects3 = plt.bar(index + (2*bar_width), add_map_vectz, bar_width,\n",
    "                 alpha=opacity,\n",
    "                 color='b',\n",
    "                 label='Map/Vectorized')\n",
    "\n",
    "# rects4 = plt.bar(index + (3*bar_width), add_matlab_add, bar_width,\n",
    "#                  alpha=opacity,\n",
    "#                  color='y',\n",
    "#                  label='Matlab')\n",
    "\n",
    "plt.xlabel('Addition Methods')\n",
    "plt.ylabel('time(seconds)')\n",
    "plt.title('Time Comparision for Vector Additions using different Python data types')\n",
    "plt.xticks(index + ((1.5)*bar_width), ('List', 'Array', 'Numpy', 'Matlab'))\n",
    "plt.legend(loc = 2)\n",
    "plt.show()"
   ]
  },
  {
   "cell_type": "code",
   "execution_count": 70,
   "metadata": {
    "scrolled": false
   },
   "outputs": [
    {
     "data": {
      "application/javascript": [
       "/* Put everything inside the global mpl namespace */\n",
       "window.mpl = {};\n",
       "\n",
       "\n",
       "mpl.get_websocket_type = function() {\n",
       "    if (typeof(WebSocket) !== 'undefined') {\n",
       "        return WebSocket;\n",
       "    } else if (typeof(MozWebSocket) !== 'undefined') {\n",
       "        return MozWebSocket;\n",
       "    } else {\n",
       "        alert('Your browser does not have WebSocket support.' +\n",
       "              'Please try Chrome, Safari or Firefox ≥ 6. ' +\n",
       "              'Firefox 4 and 5 are also supported but you ' +\n",
       "              'have to enable WebSockets in about:config.');\n",
       "    };\n",
       "}\n",
       "\n",
       "mpl.figure = function(figure_id, websocket, ondownload, parent_element) {\n",
       "    this.id = figure_id;\n",
       "\n",
       "    this.ws = websocket;\n",
       "\n",
       "    this.supports_binary = (this.ws.binaryType != undefined);\n",
       "\n",
       "    if (!this.supports_binary) {\n",
       "        var warnings = document.getElementById(\"mpl-warnings\");\n",
       "        if (warnings) {\n",
       "            warnings.style.display = 'block';\n",
       "            warnings.textContent = (\n",
       "                \"This browser does not support binary websocket messages. \" +\n",
       "                    \"Performance may be slow.\");\n",
       "        }\n",
       "    }\n",
       "\n",
       "    this.imageObj = new Image();\n",
       "\n",
       "    this.context = undefined;\n",
       "    this.message = undefined;\n",
       "    this.canvas = undefined;\n",
       "    this.rubberband_canvas = undefined;\n",
       "    this.rubberband_context = undefined;\n",
       "    this.format_dropdown = undefined;\n",
       "\n",
       "    this.image_mode = 'full';\n",
       "\n",
       "    this.root = $('<div/>');\n",
       "    this._root_extra_style(this.root)\n",
       "    this.root.attr('style', 'display: inline-block');\n",
       "\n",
       "    $(parent_element).append(this.root);\n",
       "\n",
       "    this._init_header(this);\n",
       "    this._init_canvas(this);\n",
       "    this._init_toolbar(this);\n",
       "\n",
       "    var fig = this;\n",
       "\n",
       "    this.waiting = false;\n",
       "\n",
       "    this.ws.onopen =  function () {\n",
       "            fig.send_message(\"supports_binary\", {value: fig.supports_binary});\n",
       "            fig.send_message(\"send_image_mode\", {});\n",
       "            if (mpl.ratio != 1) {\n",
       "                fig.send_message(\"set_dpi_ratio\", {'dpi_ratio': mpl.ratio});\n",
       "            }\n",
       "            fig.send_message(\"refresh\", {});\n",
       "        }\n",
       "\n",
       "    this.imageObj.onload = function() {\n",
       "            if (fig.image_mode == 'full') {\n",
       "                // Full images could contain transparency (where diff images\n",
       "                // almost always do), so we need to clear the canvas so that\n",
       "                // there is no ghosting.\n",
       "                fig.context.clearRect(0, 0, fig.canvas.width, fig.canvas.height);\n",
       "            }\n",
       "            fig.context.drawImage(fig.imageObj, 0, 0);\n",
       "        };\n",
       "\n",
       "    this.imageObj.onunload = function() {\n",
       "        fig.ws.close();\n",
       "    }\n",
       "\n",
       "    this.ws.onmessage = this._make_on_message_function(this);\n",
       "\n",
       "    this.ondownload = ondownload;\n",
       "}\n",
       "\n",
       "mpl.figure.prototype._init_header = function() {\n",
       "    var titlebar = $(\n",
       "        '<div class=\"ui-dialog-titlebar ui-widget-header ui-corner-all ' +\n",
       "        'ui-helper-clearfix\"/>');\n",
       "    var titletext = $(\n",
       "        '<div class=\"ui-dialog-title\" style=\"width: 100%; ' +\n",
       "        'text-align: center; padding: 3px;\"/>');\n",
       "    titlebar.append(titletext)\n",
       "    this.root.append(titlebar);\n",
       "    this.header = titletext[0];\n",
       "}\n",
       "\n",
       "\n",
       "\n",
       "mpl.figure.prototype._canvas_extra_style = function(canvas_div) {\n",
       "\n",
       "}\n",
       "\n",
       "\n",
       "mpl.figure.prototype._root_extra_style = function(canvas_div) {\n",
       "\n",
       "}\n",
       "\n",
       "mpl.figure.prototype._init_canvas = function() {\n",
       "    var fig = this;\n",
       "\n",
       "    var canvas_div = $('<div/>');\n",
       "\n",
       "    canvas_div.attr('style', 'position: relative; clear: both; outline: 0');\n",
       "\n",
       "    function canvas_keyboard_event(event) {\n",
       "        return fig.key_event(event, event['data']);\n",
       "    }\n",
       "\n",
       "    canvas_div.keydown('key_press', canvas_keyboard_event);\n",
       "    canvas_div.keyup('key_release', canvas_keyboard_event);\n",
       "    this.canvas_div = canvas_div\n",
       "    this._canvas_extra_style(canvas_div)\n",
       "    this.root.append(canvas_div);\n",
       "\n",
       "    var canvas = $('<canvas/>');\n",
       "    canvas.addClass('mpl-canvas');\n",
       "    canvas.attr('style', \"left: 0; top: 0; z-index: 0; outline: 0\")\n",
       "\n",
       "    this.canvas = canvas[0];\n",
       "    this.context = canvas[0].getContext(\"2d\");\n",
       "\n",
       "    var backingStore = this.context.backingStorePixelRatio ||\n",
       "\tthis.context.webkitBackingStorePixelRatio ||\n",
       "\tthis.context.mozBackingStorePixelRatio ||\n",
       "\tthis.context.msBackingStorePixelRatio ||\n",
       "\tthis.context.oBackingStorePixelRatio ||\n",
       "\tthis.context.backingStorePixelRatio || 1;\n",
       "\n",
       "    mpl.ratio = (window.devicePixelRatio || 1) / backingStore;\n",
       "\n",
       "    var rubberband = $('<canvas/>');\n",
       "    rubberband.attr('style', \"position: absolute; left: 0; top: 0; z-index: 1;\")\n",
       "\n",
       "    var pass_mouse_events = true;\n",
       "\n",
       "    canvas_div.resizable({\n",
       "        start: function(event, ui) {\n",
       "            pass_mouse_events = false;\n",
       "        },\n",
       "        resize: function(event, ui) {\n",
       "            fig.request_resize(ui.size.width, ui.size.height);\n",
       "        },\n",
       "        stop: function(event, ui) {\n",
       "            pass_mouse_events = true;\n",
       "            fig.request_resize(ui.size.width, ui.size.height);\n",
       "        },\n",
       "    });\n",
       "\n",
       "    function mouse_event_fn(event) {\n",
       "        if (pass_mouse_events)\n",
       "            return fig.mouse_event(event, event['data']);\n",
       "    }\n",
       "\n",
       "    rubberband.mousedown('button_press', mouse_event_fn);\n",
       "    rubberband.mouseup('button_release', mouse_event_fn);\n",
       "    // Throttle sequential mouse events to 1 every 20ms.\n",
       "    rubberband.mousemove('motion_notify', mouse_event_fn);\n",
       "\n",
       "    rubberband.mouseenter('figure_enter', mouse_event_fn);\n",
       "    rubberband.mouseleave('figure_leave', mouse_event_fn);\n",
       "\n",
       "    canvas_div.on(\"wheel\", function (event) {\n",
       "        event = event.originalEvent;\n",
       "        event['data'] = 'scroll'\n",
       "        if (event.deltaY < 0) {\n",
       "            event.step = 1;\n",
       "        } else {\n",
       "            event.step = -1;\n",
       "        }\n",
       "        mouse_event_fn(event);\n",
       "    });\n",
       "\n",
       "    canvas_div.append(canvas);\n",
       "    canvas_div.append(rubberband);\n",
       "\n",
       "    this.rubberband = rubberband;\n",
       "    this.rubberband_canvas = rubberband[0];\n",
       "    this.rubberband_context = rubberband[0].getContext(\"2d\");\n",
       "    this.rubberband_context.strokeStyle = \"#000000\";\n",
       "\n",
       "    this._resize_canvas = function(width, height) {\n",
       "        // Keep the size of the canvas, canvas container, and rubber band\n",
       "        // canvas in synch.\n",
       "        canvas_div.css('width', width)\n",
       "        canvas_div.css('height', height)\n",
       "\n",
       "        canvas.attr('width', width * mpl.ratio);\n",
       "        canvas.attr('height', height * mpl.ratio);\n",
       "        canvas.attr('style', 'width: ' + width + 'px; height: ' + height + 'px;');\n",
       "\n",
       "        rubberband.attr('width', width);\n",
       "        rubberband.attr('height', height);\n",
       "    }\n",
       "\n",
       "    // Set the figure to an initial 600x600px, this will subsequently be updated\n",
       "    // upon first draw.\n",
       "    this._resize_canvas(600, 600);\n",
       "\n",
       "    // Disable right mouse context menu.\n",
       "    $(this.rubberband_canvas).bind(\"contextmenu\",function(e){\n",
       "        return false;\n",
       "    });\n",
       "\n",
       "    function set_focus () {\n",
       "        canvas.focus();\n",
       "        canvas_div.focus();\n",
       "    }\n",
       "\n",
       "    window.setTimeout(set_focus, 100);\n",
       "}\n",
       "\n",
       "mpl.figure.prototype._init_toolbar = function() {\n",
       "    var fig = this;\n",
       "\n",
       "    var nav_element = $('<div/>')\n",
       "    nav_element.attr('style', 'width: 100%');\n",
       "    this.root.append(nav_element);\n",
       "\n",
       "    // Define a callback function for later on.\n",
       "    function toolbar_event(event) {\n",
       "        return fig.toolbar_button_onclick(event['data']);\n",
       "    }\n",
       "    function toolbar_mouse_event(event) {\n",
       "        return fig.toolbar_button_onmouseover(event['data']);\n",
       "    }\n",
       "\n",
       "    for(var toolbar_ind in mpl.toolbar_items) {\n",
       "        var name = mpl.toolbar_items[toolbar_ind][0];\n",
       "        var tooltip = mpl.toolbar_items[toolbar_ind][1];\n",
       "        var image = mpl.toolbar_items[toolbar_ind][2];\n",
       "        var method_name = mpl.toolbar_items[toolbar_ind][3];\n",
       "\n",
       "        if (!name) {\n",
       "            // put a spacer in here.\n",
       "            continue;\n",
       "        }\n",
       "        var button = $('<button/>');\n",
       "        button.addClass('ui-button ui-widget ui-state-default ui-corner-all ' +\n",
       "                        'ui-button-icon-only');\n",
       "        button.attr('role', 'button');\n",
       "        button.attr('aria-disabled', 'false');\n",
       "        button.click(method_name, toolbar_event);\n",
       "        button.mouseover(tooltip, toolbar_mouse_event);\n",
       "\n",
       "        var icon_img = $('<span/>');\n",
       "        icon_img.addClass('ui-button-icon-primary ui-icon');\n",
       "        icon_img.addClass(image);\n",
       "        icon_img.addClass('ui-corner-all');\n",
       "\n",
       "        var tooltip_span = $('<span/>');\n",
       "        tooltip_span.addClass('ui-button-text');\n",
       "        tooltip_span.html(tooltip);\n",
       "\n",
       "        button.append(icon_img);\n",
       "        button.append(tooltip_span);\n",
       "\n",
       "        nav_element.append(button);\n",
       "    }\n",
       "\n",
       "    var fmt_picker_span = $('<span/>');\n",
       "\n",
       "    var fmt_picker = $('<select/>');\n",
       "    fmt_picker.addClass('mpl-toolbar-option ui-widget ui-widget-content');\n",
       "    fmt_picker_span.append(fmt_picker);\n",
       "    nav_element.append(fmt_picker_span);\n",
       "    this.format_dropdown = fmt_picker[0];\n",
       "\n",
       "    for (var ind in mpl.extensions) {\n",
       "        var fmt = mpl.extensions[ind];\n",
       "        var option = $(\n",
       "            '<option/>', {selected: fmt === mpl.default_extension}).html(fmt);\n",
       "        fmt_picker.append(option)\n",
       "    }\n",
       "\n",
       "    // Add hover states to the ui-buttons\n",
       "    $( \".ui-button\" ).hover(\n",
       "        function() { $(this).addClass(\"ui-state-hover\");},\n",
       "        function() { $(this).removeClass(\"ui-state-hover\");}\n",
       "    );\n",
       "\n",
       "    var status_bar = $('<span class=\"mpl-message\"/>');\n",
       "    nav_element.append(status_bar);\n",
       "    this.message = status_bar[0];\n",
       "}\n",
       "\n",
       "mpl.figure.prototype.request_resize = function(x_pixels, y_pixels) {\n",
       "    // Request matplotlib to resize the figure. Matplotlib will then trigger a resize in the client,\n",
       "    // which will in turn request a refresh of the image.\n",
       "    this.send_message('resize', {'width': x_pixels, 'height': y_pixels});\n",
       "}\n",
       "\n",
       "mpl.figure.prototype.send_message = function(type, properties) {\n",
       "    properties['type'] = type;\n",
       "    properties['figure_id'] = this.id;\n",
       "    this.ws.send(JSON.stringify(properties));\n",
       "}\n",
       "\n",
       "mpl.figure.prototype.send_draw_message = function() {\n",
       "    if (!this.waiting) {\n",
       "        this.waiting = true;\n",
       "        this.ws.send(JSON.stringify({type: \"draw\", figure_id: this.id}));\n",
       "    }\n",
       "}\n",
       "\n",
       "\n",
       "mpl.figure.prototype.handle_save = function(fig, msg) {\n",
       "    var format_dropdown = fig.format_dropdown;\n",
       "    var format = format_dropdown.options[format_dropdown.selectedIndex].value;\n",
       "    fig.ondownload(fig, format);\n",
       "}\n",
       "\n",
       "\n",
       "mpl.figure.prototype.handle_resize = function(fig, msg) {\n",
       "    var size = msg['size'];\n",
       "    if (size[0] != fig.canvas.width || size[1] != fig.canvas.height) {\n",
       "        fig._resize_canvas(size[0], size[1]);\n",
       "        fig.send_message(\"refresh\", {});\n",
       "    };\n",
       "}\n",
       "\n",
       "mpl.figure.prototype.handle_rubberband = function(fig, msg) {\n",
       "    var x0 = msg['x0'] / mpl.ratio;\n",
       "    var y0 = (fig.canvas.height - msg['y0']) / mpl.ratio;\n",
       "    var x1 = msg['x1'] / mpl.ratio;\n",
       "    var y1 = (fig.canvas.height - msg['y1']) / mpl.ratio;\n",
       "    x0 = Math.floor(x0) + 0.5;\n",
       "    y0 = Math.floor(y0) + 0.5;\n",
       "    x1 = Math.floor(x1) + 0.5;\n",
       "    y1 = Math.floor(y1) + 0.5;\n",
       "    var min_x = Math.min(x0, x1);\n",
       "    var min_y = Math.min(y0, y1);\n",
       "    var width = Math.abs(x1 - x0);\n",
       "    var height = Math.abs(y1 - y0);\n",
       "\n",
       "    fig.rubberband_context.clearRect(\n",
       "        0, 0, fig.canvas.width, fig.canvas.height);\n",
       "\n",
       "    fig.rubberband_context.strokeRect(min_x, min_y, width, height);\n",
       "}\n",
       "\n",
       "mpl.figure.prototype.handle_figure_label = function(fig, msg) {\n",
       "    // Updates the figure title.\n",
       "    fig.header.textContent = msg['label'];\n",
       "}\n",
       "\n",
       "mpl.figure.prototype.handle_cursor = function(fig, msg) {\n",
       "    var cursor = msg['cursor'];\n",
       "    switch(cursor)\n",
       "    {\n",
       "    case 0:\n",
       "        cursor = 'pointer';\n",
       "        break;\n",
       "    case 1:\n",
       "        cursor = 'default';\n",
       "        break;\n",
       "    case 2:\n",
       "        cursor = 'crosshair';\n",
       "        break;\n",
       "    case 3:\n",
       "        cursor = 'move';\n",
       "        break;\n",
       "    }\n",
       "    fig.rubberband_canvas.style.cursor = cursor;\n",
       "}\n",
       "\n",
       "mpl.figure.prototype.handle_message = function(fig, msg) {\n",
       "    fig.message.textContent = msg['message'];\n",
       "}\n",
       "\n",
       "mpl.figure.prototype.handle_draw = function(fig, msg) {\n",
       "    // Request the server to send over a new figure.\n",
       "    fig.send_draw_message();\n",
       "}\n",
       "\n",
       "mpl.figure.prototype.handle_image_mode = function(fig, msg) {\n",
       "    fig.image_mode = msg['mode'];\n",
       "}\n",
       "\n",
       "mpl.figure.prototype.updated_canvas_event = function() {\n",
       "    // Called whenever the canvas gets updated.\n",
       "    this.send_message(\"ack\", {});\n",
       "}\n",
       "\n",
       "// A function to construct a web socket function for onmessage handling.\n",
       "// Called in the figure constructor.\n",
       "mpl.figure.prototype._make_on_message_function = function(fig) {\n",
       "    return function socket_on_message(evt) {\n",
       "        if (evt.data instanceof Blob) {\n",
       "            /* FIXME: We get \"Resource interpreted as Image but\n",
       "             * transferred with MIME type text/plain:\" errors on\n",
       "             * Chrome.  But how to set the MIME type?  It doesn't seem\n",
       "             * to be part of the websocket stream */\n",
       "            evt.data.type = \"image/png\";\n",
       "\n",
       "            /* Free the memory for the previous frames */\n",
       "            if (fig.imageObj.src) {\n",
       "                (window.URL || window.webkitURL).revokeObjectURL(\n",
       "                    fig.imageObj.src);\n",
       "            }\n",
       "\n",
       "            fig.imageObj.src = (window.URL || window.webkitURL).createObjectURL(\n",
       "                evt.data);\n",
       "            fig.updated_canvas_event();\n",
       "            fig.waiting = false;\n",
       "            return;\n",
       "        }\n",
       "        else if (typeof evt.data === 'string' && evt.data.slice(0, 21) == \"data:image/png;base64\") {\n",
       "            fig.imageObj.src = evt.data;\n",
       "            fig.updated_canvas_event();\n",
       "            fig.waiting = false;\n",
       "            return;\n",
       "        }\n",
       "\n",
       "        var msg = JSON.parse(evt.data);\n",
       "        var msg_type = msg['type'];\n",
       "\n",
       "        // Call the  \"handle_{type}\" callback, which takes\n",
       "        // the figure and JSON message as its only arguments.\n",
       "        try {\n",
       "            var callback = fig[\"handle_\" + msg_type];\n",
       "        } catch (e) {\n",
       "            console.log(\"No handler for the '\" + msg_type + \"' message type: \", msg);\n",
       "            return;\n",
       "        }\n",
       "\n",
       "        if (callback) {\n",
       "            try {\n",
       "                // console.log(\"Handling '\" + msg_type + \"' message: \", msg);\n",
       "                callback(fig, msg);\n",
       "            } catch (e) {\n",
       "                console.log(\"Exception inside the 'handler_\" + msg_type + \"' callback:\", e, e.stack, msg);\n",
       "            }\n",
       "        }\n",
       "    };\n",
       "}\n",
       "\n",
       "// from http://stackoverflow.com/questions/1114465/getting-mouse-location-in-canvas\n",
       "mpl.findpos = function(e) {\n",
       "    //this section is from http://www.quirksmode.org/js/events_properties.html\n",
       "    var targ;\n",
       "    if (!e)\n",
       "        e = window.event;\n",
       "    if (e.target)\n",
       "        targ = e.target;\n",
       "    else if (e.srcElement)\n",
       "        targ = e.srcElement;\n",
       "    if (targ.nodeType == 3) // defeat Safari bug\n",
       "        targ = targ.parentNode;\n",
       "\n",
       "    // jQuery normalizes the pageX and pageY\n",
       "    // pageX,Y are the mouse positions relative to the document\n",
       "    // offset() returns the position of the element relative to the document\n",
       "    var x = e.pageX - $(targ).offset().left;\n",
       "    var y = e.pageY - $(targ).offset().top;\n",
       "\n",
       "    return {\"x\": x, \"y\": y};\n",
       "};\n",
       "\n",
       "/*\n",
       " * return a copy of an object with only non-object keys\n",
       " * we need this to avoid circular references\n",
       " * http://stackoverflow.com/a/24161582/3208463\n",
       " */\n",
       "function simpleKeys (original) {\n",
       "  return Object.keys(original).reduce(function (obj, key) {\n",
       "    if (typeof original[key] !== 'object')\n",
       "        obj[key] = original[key]\n",
       "    return obj;\n",
       "  }, {});\n",
       "}\n",
       "\n",
       "mpl.figure.prototype.mouse_event = function(event, name) {\n",
       "    var canvas_pos = mpl.findpos(event)\n",
       "\n",
       "    if (name === 'button_press')\n",
       "    {\n",
       "        this.canvas.focus();\n",
       "        this.canvas_div.focus();\n",
       "    }\n",
       "\n",
       "    var x = canvas_pos.x * mpl.ratio;\n",
       "    var y = canvas_pos.y * mpl.ratio;\n",
       "\n",
       "    this.send_message(name, {x: x, y: y, button: event.button,\n",
       "                             step: event.step,\n",
       "                             guiEvent: simpleKeys(event)});\n",
       "\n",
       "    /* This prevents the web browser from automatically changing to\n",
       "     * the text insertion cursor when the button is pressed.  We want\n",
       "     * to control all of the cursor setting manually through the\n",
       "     * 'cursor' event from matplotlib */\n",
       "    event.preventDefault();\n",
       "    return false;\n",
       "}\n",
       "\n",
       "mpl.figure.prototype._key_event_extra = function(event, name) {\n",
       "    // Handle any extra behaviour associated with a key event\n",
       "}\n",
       "\n",
       "mpl.figure.prototype.key_event = function(event, name) {\n",
       "\n",
       "    // Prevent repeat events\n",
       "    if (name == 'key_press')\n",
       "    {\n",
       "        if (event.which === this._key)\n",
       "            return;\n",
       "        else\n",
       "            this._key = event.which;\n",
       "    }\n",
       "    if (name == 'key_release')\n",
       "        this._key = null;\n",
       "\n",
       "    var value = '';\n",
       "    if (event.ctrlKey && event.which != 17)\n",
       "        value += \"ctrl+\";\n",
       "    if (event.altKey && event.which != 18)\n",
       "        value += \"alt+\";\n",
       "    if (event.shiftKey && event.which != 16)\n",
       "        value += \"shift+\";\n",
       "\n",
       "    value += 'k';\n",
       "    value += event.which.toString();\n",
       "\n",
       "    this._key_event_extra(event, name);\n",
       "\n",
       "    this.send_message(name, {key: value,\n",
       "                             guiEvent: simpleKeys(event)});\n",
       "    return false;\n",
       "}\n",
       "\n",
       "mpl.figure.prototype.toolbar_button_onclick = function(name) {\n",
       "    if (name == 'download') {\n",
       "        this.handle_save(this, null);\n",
       "    } else {\n",
       "        this.send_message(\"toolbar_button\", {name: name});\n",
       "    }\n",
       "};\n",
       "\n",
       "mpl.figure.prototype.toolbar_button_onmouseover = function(tooltip) {\n",
       "    this.message.textContent = tooltip;\n",
       "};\n",
       "mpl.toolbar_items = [[\"Home\", \"Reset original view\", \"fa fa-home icon-home\", \"home\"], [\"Back\", \"Back to  previous view\", \"fa fa-arrow-left icon-arrow-left\", \"back\"], [\"Forward\", \"Forward to next view\", \"fa fa-arrow-right icon-arrow-right\", \"forward\"], [\"\", \"\", \"\", \"\"], [\"Pan\", \"Pan axes with left mouse, zoom with right\", \"fa fa-arrows icon-move\", \"pan\"], [\"Zoom\", \"Zoom to rectangle\", \"fa fa-square-o icon-check-empty\", \"zoom\"], [\"\", \"\", \"\", \"\"], [\"Download\", \"Download plot\", \"fa fa-floppy-o icon-save\", \"download\"]];\n",
       "\n",
       "mpl.extensions = [\"eps\", \"jpeg\", \"pdf\", \"png\", \"ps\", \"raw\", \"svg\", \"tif\"];\n",
       "\n",
       "mpl.default_extension = \"png\";var comm_websocket_adapter = function(comm) {\n",
       "    // Create a \"websocket\"-like object which calls the given IPython comm\n",
       "    // object with the appropriate methods. Currently this is a non binary\n",
       "    // socket, so there is still some room for performance tuning.\n",
       "    var ws = {};\n",
       "\n",
       "    ws.close = function() {\n",
       "        comm.close()\n",
       "    };\n",
       "    ws.send = function(m) {\n",
       "        //console.log('sending', m);\n",
       "        comm.send(m);\n",
       "    };\n",
       "    // Register the callback with on_msg.\n",
       "    comm.on_msg(function(msg) {\n",
       "        //console.log('receiving', msg['content']['data'], msg);\n",
       "        // Pass the mpl event to the overriden (by mpl) onmessage function.\n",
       "        ws.onmessage(msg['content']['data'])\n",
       "    });\n",
       "    return ws;\n",
       "}\n",
       "\n",
       "mpl.mpl_figure_comm = function(comm, msg) {\n",
       "    // This is the function which gets called when the mpl process\n",
       "    // starts-up an IPython Comm through the \"matplotlib\" channel.\n",
       "\n",
       "    var id = msg.content.data.id;\n",
       "    // Get hold of the div created by the display call when the Comm\n",
       "    // socket was opened in Python.\n",
       "    var element = $(\"#\" + id);\n",
       "    var ws_proxy = comm_websocket_adapter(comm)\n",
       "\n",
       "    function ondownload(figure, format) {\n",
       "        window.open(figure.imageObj.src);\n",
       "    }\n",
       "\n",
       "    var fig = new mpl.figure(id, ws_proxy,\n",
       "                           ondownload,\n",
       "                           element.get(0));\n",
       "\n",
       "    // Call onopen now - mpl needs it, as it is assuming we've passed it a real\n",
       "    // web socket which is closed, not our websocket->open comm proxy.\n",
       "    ws_proxy.onopen();\n",
       "\n",
       "    fig.parent_element = element.get(0);\n",
       "    fig.cell_info = mpl.find_output_cell(\"<div id='\" + id + \"'></div>\");\n",
       "    if (!fig.cell_info) {\n",
       "        console.error(\"Failed to find cell for figure\", id, fig);\n",
       "        return;\n",
       "    }\n",
       "\n",
       "    var output_index = fig.cell_info[2]\n",
       "    var cell = fig.cell_info[0];\n",
       "\n",
       "};\n",
       "\n",
       "mpl.figure.prototype.handle_close = function(fig, msg) {\n",
       "    var width = fig.canvas.width/mpl.ratio\n",
       "    fig.root.unbind('remove')\n",
       "\n",
       "    // Update the output cell to use the data from the current canvas.\n",
       "    fig.push_to_output();\n",
       "    var dataURL = fig.canvas.toDataURL();\n",
       "    // Re-enable the keyboard manager in IPython - without this line, in FF,\n",
       "    // the notebook keyboard shortcuts fail.\n",
       "    IPython.keyboard_manager.enable()\n",
       "    $(fig.parent_element).html('<img src=\"' + dataURL + '\" width=\"' + width + '\">');\n",
       "    fig.close_ws(fig, msg);\n",
       "}\n",
       "\n",
       "mpl.figure.prototype.close_ws = function(fig, msg){\n",
       "    fig.send_message('closing', msg);\n",
       "    // fig.ws.close()\n",
       "}\n",
       "\n",
       "mpl.figure.prototype.push_to_output = function(remove_interactive) {\n",
       "    // Turn the data on the canvas into data in the output cell.\n",
       "    var width = this.canvas.width/mpl.ratio\n",
       "    var dataURL = this.canvas.toDataURL();\n",
       "    this.cell_info[1]['text/html'] = '<img src=\"' + dataURL + '\" width=\"' + width + '\">';\n",
       "}\n",
       "\n",
       "mpl.figure.prototype.updated_canvas_event = function() {\n",
       "    // Tell IPython that the notebook contents must change.\n",
       "    IPython.notebook.set_dirty(true);\n",
       "    this.send_message(\"ack\", {});\n",
       "    var fig = this;\n",
       "    // Wait a second, then push the new image to the DOM so\n",
       "    // that it is saved nicely (might be nice to debounce this).\n",
       "    setTimeout(function () { fig.push_to_output() }, 1000);\n",
       "}\n",
       "\n",
       "mpl.figure.prototype._init_toolbar = function() {\n",
       "    var fig = this;\n",
       "\n",
       "    var nav_element = $('<div/>')\n",
       "    nav_element.attr('style', 'width: 100%');\n",
       "    this.root.append(nav_element);\n",
       "\n",
       "    // Define a callback function for later on.\n",
       "    function toolbar_event(event) {\n",
       "        return fig.toolbar_button_onclick(event['data']);\n",
       "    }\n",
       "    function toolbar_mouse_event(event) {\n",
       "        return fig.toolbar_button_onmouseover(event['data']);\n",
       "    }\n",
       "\n",
       "    for(var toolbar_ind in mpl.toolbar_items){\n",
       "        var name = mpl.toolbar_items[toolbar_ind][0];\n",
       "        var tooltip = mpl.toolbar_items[toolbar_ind][1];\n",
       "        var image = mpl.toolbar_items[toolbar_ind][2];\n",
       "        var method_name = mpl.toolbar_items[toolbar_ind][3];\n",
       "\n",
       "        if (!name) { continue; };\n",
       "\n",
       "        var button = $('<button class=\"btn btn-default\" href=\"#\" title=\"' + name + '\"><i class=\"fa ' + image + ' fa-lg\"></i></button>');\n",
       "        button.click(method_name, toolbar_event);\n",
       "        button.mouseover(tooltip, toolbar_mouse_event);\n",
       "        nav_element.append(button);\n",
       "    }\n",
       "\n",
       "    // Add the status bar.\n",
       "    var status_bar = $('<span class=\"mpl-message\" style=\"text-align:right; float: right;\"/>');\n",
       "    nav_element.append(status_bar);\n",
       "    this.message = status_bar[0];\n",
       "\n",
       "    // Add the close button to the window.\n",
       "    var buttongrp = $('<div class=\"btn-group inline pull-right\"></div>');\n",
       "    var button = $('<button class=\"btn btn-mini btn-primary\" href=\"#\" title=\"Stop Interaction\"><i class=\"fa fa-power-off icon-remove icon-large\"></i></button>');\n",
       "    button.click(function (evt) { fig.handle_close(fig, {}); } );\n",
       "    button.mouseover('Stop Interaction', toolbar_mouse_event);\n",
       "    buttongrp.append(button);\n",
       "    var titlebar = this.root.find($('.ui-dialog-titlebar'));\n",
       "    titlebar.prepend(buttongrp);\n",
       "}\n",
       "\n",
       "mpl.figure.prototype._root_extra_style = function(el){\n",
       "    var fig = this\n",
       "    el.on(\"remove\", function(){\n",
       "\tfig.close_ws(fig, {});\n",
       "    });\n",
       "}\n",
       "\n",
       "mpl.figure.prototype._canvas_extra_style = function(el){\n",
       "    // this is important to make the div 'focusable\n",
       "    el.attr('tabindex', 0)\n",
       "    // reach out to IPython and tell the keyboard manager to turn it's self\n",
       "    // off when our div gets focus\n",
       "\n",
       "    // location in version 3\n",
       "    if (IPython.notebook.keyboard_manager) {\n",
       "        IPython.notebook.keyboard_manager.register_events(el);\n",
       "    }\n",
       "    else {\n",
       "        // location in version 2\n",
       "        IPython.keyboard_manager.register_events(el);\n",
       "    }\n",
       "\n",
       "}\n",
       "\n",
       "mpl.figure.prototype._key_event_extra = function(event, name) {\n",
       "    var manager = IPython.notebook.keyboard_manager;\n",
       "    if (!manager)\n",
       "        manager = IPython.keyboard_manager;\n",
       "\n",
       "    // Check for shift+enter\n",
       "    if (event.shiftKey && event.which == 13) {\n",
       "        this.canvas_div.blur();\n",
       "        event.shiftKey = false;\n",
       "        // Send a \"J\" for go to next cell\n",
       "        event.which = 74;\n",
       "        event.keyCode = 74;\n",
       "        manager.command_mode();\n",
       "        manager.handle_keydown(event);\n",
       "    }\n",
       "}\n",
       "\n",
       "mpl.figure.prototype.handle_save = function(fig, msg) {\n",
       "    fig.ondownload(fig, null);\n",
       "}\n",
       "\n",
       "\n",
       "mpl.find_output_cell = function(html_output) {\n",
       "    // Return the cell and output element which can be found *uniquely* in the notebook.\n",
       "    // Note - this is a bit hacky, but it is done because the \"notebook_saving.Notebook\"\n",
       "    // IPython event is triggered only after the cells have been serialised, which for\n",
       "    // our purposes (turning an active figure into a static one), is too late.\n",
       "    var cells = IPython.notebook.get_cells();\n",
       "    var ncells = cells.length;\n",
       "    for (var i=0; i<ncells; i++) {\n",
       "        var cell = cells[i];\n",
       "        if (cell.cell_type === 'code'){\n",
       "            for (var j=0; j<cell.output_area.outputs.length; j++) {\n",
       "                var data = cell.output_area.outputs[j];\n",
       "                if (data.data) {\n",
       "                    // IPython >= 3 moved mimebundle to data attribute of output\n",
       "                    data = data.data;\n",
       "                }\n",
       "                if (data['text/html'] == html_output) {\n",
       "                    return [cell, data, j];\n",
       "                }\n",
       "            }\n",
       "        }\n",
       "    }\n",
       "}\n",
       "\n",
       "// Register the function which deals with the matplotlib target/channel.\n",
       "// The kernel may be null if the page has been refreshed.\n",
       "if (IPython.notebook.kernel != null) {\n",
       "    IPython.notebook.kernel.comm_manager.register_target('matplotlib', mpl.mpl_figure_comm);\n",
       "}\n"
      ],
      "text/plain": [
       "<IPython.core.display.Javascript object>"
      ]
     },
     "metadata": {},
     "output_type": "display_data"
    },
    {
     "data": {
      "text/html": [
       "<img src=\"data:image/png;base64,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\" width=\"640\">"
      ],
      "text/plain": [
       "<IPython.core.display.HTML object>"
      ]
     },
     "metadata": {},
     "output_type": "display_data"
    }
   ],
   "source": [
    "%matplotlib notebook\n",
    "# data to plot\n",
    "n_groups = 4\n",
    "mult_loop       = (list_mult_tr[0], arr_mult_tr[0], npArr_mult_tr[0], matlab_mult_tr[0])\n",
    "mult_ploop      = (list_mult_tr[1], arr_mult_tr[1], npArr_mult_tr[1], matlab_mult_tr[1])\n",
    "mult_map_vectz  = (list_mult_tr[2], arr_mult_tr[2], npArr_mult_tr[2], matlab_mult_tr[2])\n",
    "\n",
    "\n",
    "# create plot\n",
    "f, ax = plt.subplots(nrows = 1,\n",
    "                    ncols = 1\n",
    "                    )\n",
    "\n",
    "index = np.arange(n_groups)\n",
    "bar_width = 0.1\n",
    "opacity = 0.8\n",
    " \n",
    "rects1 = plt.bar(index, mult_loop, bar_width,\n",
    "                 alpha=opacity,\n",
    "                 color='r',\n",
    "                 label='Loop')\n",
    " \n",
    "rects2 = plt.bar(index + bar_width, mult_ploop, bar_width,\n",
    "                 alpha=opacity,\n",
    "                 color='g',\n",
    "                 label='Pre-Loop')\n",
    "\n",
    "rects2 = plt.bar(index + (2*bar_width), mult_map_vectz, bar_width,\n",
    "                 alpha=opacity,\n",
    "                 color='b',\n",
    "                 label='Map/Vectorized')\n",
    " \n",
    "plt.xlabel('Multiplication Methods')\n",
    "plt.ylabel('time(seconds)')\n",
    "plt.title('Time Comparision for Vector Multiplication using different Python data types')\n",
    "plt.xticks(index + ((1.5)*bar_width), ('List', 'Array', 'Numpy', 'Matlab'))\n",
    "plt.legend(loc = 2)\n",
    "plt.show()\n"
   ]
  },
  {
   "cell_type": "code",
   "execution_count": 71,
   "metadata": {},
   "outputs": [
    {
     "data": {
      "application/javascript": [
       "/* Put everything inside the global mpl namespace */\n",
       "window.mpl = {};\n",
       "\n",
       "\n",
       "mpl.get_websocket_type = function() {\n",
       "    if (typeof(WebSocket) !== 'undefined') {\n",
       "        return WebSocket;\n",
       "    } else if (typeof(MozWebSocket) !== 'undefined') {\n",
       "        return MozWebSocket;\n",
       "    } else {\n",
       "        alert('Your browser does not have WebSocket support.' +\n",
       "              'Please try Chrome, Safari or Firefox ≥ 6. ' +\n",
       "              'Firefox 4 and 5 are also supported but you ' +\n",
       "              'have to enable WebSockets in about:config.');\n",
       "    };\n",
       "}\n",
       "\n",
       "mpl.figure = function(figure_id, websocket, ondownload, parent_element) {\n",
       "    this.id = figure_id;\n",
       "\n",
       "    this.ws = websocket;\n",
       "\n",
       "    this.supports_binary = (this.ws.binaryType != undefined);\n",
       "\n",
       "    if (!this.supports_binary) {\n",
       "        var warnings = document.getElementById(\"mpl-warnings\");\n",
       "        if (warnings) {\n",
       "            warnings.style.display = 'block';\n",
       "            warnings.textContent = (\n",
       "                \"This browser does not support binary websocket messages. \" +\n",
       "                    \"Performance may be slow.\");\n",
       "        }\n",
       "    }\n",
       "\n",
       "    this.imageObj = new Image();\n",
       "\n",
       "    this.context = undefined;\n",
       "    this.message = undefined;\n",
       "    this.canvas = undefined;\n",
       "    this.rubberband_canvas = undefined;\n",
       "    this.rubberband_context = undefined;\n",
       "    this.format_dropdown = undefined;\n",
       "\n",
       "    this.image_mode = 'full';\n",
       "\n",
       "    this.root = $('<div/>');\n",
       "    this._root_extra_style(this.root)\n",
       "    this.root.attr('style', 'display: inline-block');\n",
       "\n",
       "    $(parent_element).append(this.root);\n",
       "\n",
       "    this._init_header(this);\n",
       "    this._init_canvas(this);\n",
       "    this._init_toolbar(this);\n",
       "\n",
       "    var fig = this;\n",
       "\n",
       "    this.waiting = false;\n",
       "\n",
       "    this.ws.onopen =  function () {\n",
       "            fig.send_message(\"supports_binary\", {value: fig.supports_binary});\n",
       "            fig.send_message(\"send_image_mode\", {});\n",
       "            if (mpl.ratio != 1) {\n",
       "                fig.send_message(\"set_dpi_ratio\", {'dpi_ratio': mpl.ratio});\n",
       "            }\n",
       "            fig.send_message(\"refresh\", {});\n",
       "        }\n",
       "\n",
       "    this.imageObj.onload = function() {\n",
       "            if (fig.image_mode == 'full') {\n",
       "                // Full images could contain transparency (where diff images\n",
       "                // almost always do), so we need to clear the canvas so that\n",
       "                // there is no ghosting.\n",
       "                fig.context.clearRect(0, 0, fig.canvas.width, fig.canvas.height);\n",
       "            }\n",
       "            fig.context.drawImage(fig.imageObj, 0, 0);\n",
       "        };\n",
       "\n",
       "    this.imageObj.onunload = function() {\n",
       "        fig.ws.close();\n",
       "    }\n",
       "\n",
       "    this.ws.onmessage = this._make_on_message_function(this);\n",
       "\n",
       "    this.ondownload = ondownload;\n",
       "}\n",
       "\n",
       "mpl.figure.prototype._init_header = function() {\n",
       "    var titlebar = $(\n",
       "        '<div class=\"ui-dialog-titlebar ui-widget-header ui-corner-all ' +\n",
       "        'ui-helper-clearfix\"/>');\n",
       "    var titletext = $(\n",
       "        '<div class=\"ui-dialog-title\" style=\"width: 100%; ' +\n",
       "        'text-align: center; padding: 3px;\"/>');\n",
       "    titlebar.append(titletext)\n",
       "    this.root.append(titlebar);\n",
       "    this.header = titletext[0];\n",
       "}\n",
       "\n",
       "\n",
       "\n",
       "mpl.figure.prototype._canvas_extra_style = function(canvas_div) {\n",
       "\n",
       "}\n",
       "\n",
       "\n",
       "mpl.figure.prototype._root_extra_style = function(canvas_div) {\n",
       "\n",
       "}\n",
       "\n",
       "mpl.figure.prototype._init_canvas = function() {\n",
       "    var fig = this;\n",
       "\n",
       "    var canvas_div = $('<div/>');\n",
       "\n",
       "    canvas_div.attr('style', 'position: relative; clear: both; outline: 0');\n",
       "\n",
       "    function canvas_keyboard_event(event) {\n",
       "        return fig.key_event(event, event['data']);\n",
       "    }\n",
       "\n",
       "    canvas_div.keydown('key_press', canvas_keyboard_event);\n",
       "    canvas_div.keyup('key_release', canvas_keyboard_event);\n",
       "    this.canvas_div = canvas_div\n",
       "    this._canvas_extra_style(canvas_div)\n",
       "    this.root.append(canvas_div);\n",
       "\n",
       "    var canvas = $('<canvas/>');\n",
       "    canvas.addClass('mpl-canvas');\n",
       "    canvas.attr('style', \"left: 0; top: 0; z-index: 0; outline: 0\")\n",
       "\n",
       "    this.canvas = canvas[0];\n",
       "    this.context = canvas[0].getContext(\"2d\");\n",
       "\n",
       "    var backingStore = this.context.backingStorePixelRatio ||\n",
       "\tthis.context.webkitBackingStorePixelRatio ||\n",
       "\tthis.context.mozBackingStorePixelRatio ||\n",
       "\tthis.context.msBackingStorePixelRatio ||\n",
       "\tthis.context.oBackingStorePixelRatio ||\n",
       "\tthis.context.backingStorePixelRatio || 1;\n",
       "\n",
       "    mpl.ratio = (window.devicePixelRatio || 1) / backingStore;\n",
       "\n",
       "    var rubberband = $('<canvas/>');\n",
       "    rubberband.attr('style', \"position: absolute; left: 0; top: 0; z-index: 1;\")\n",
       "\n",
       "    var pass_mouse_events = true;\n",
       "\n",
       "    canvas_div.resizable({\n",
       "        start: function(event, ui) {\n",
       "            pass_mouse_events = false;\n",
       "        },\n",
       "        resize: function(event, ui) {\n",
       "            fig.request_resize(ui.size.width, ui.size.height);\n",
       "        },\n",
       "        stop: function(event, ui) {\n",
       "            pass_mouse_events = true;\n",
       "            fig.request_resize(ui.size.width, ui.size.height);\n",
       "        },\n",
       "    });\n",
       "\n",
       "    function mouse_event_fn(event) {\n",
       "        if (pass_mouse_events)\n",
       "            return fig.mouse_event(event, event['data']);\n",
       "    }\n",
       "\n",
       "    rubberband.mousedown('button_press', mouse_event_fn);\n",
       "    rubberband.mouseup('button_release', mouse_event_fn);\n",
       "    // Throttle sequential mouse events to 1 every 20ms.\n",
       "    rubberband.mousemove('motion_notify', mouse_event_fn);\n",
       "\n",
       "    rubberband.mouseenter('figure_enter', mouse_event_fn);\n",
       "    rubberband.mouseleave('figure_leave', mouse_event_fn);\n",
       "\n",
       "    canvas_div.on(\"wheel\", function (event) {\n",
       "        event = event.originalEvent;\n",
       "        event['data'] = 'scroll'\n",
       "        if (event.deltaY < 0) {\n",
       "            event.step = 1;\n",
       "        } else {\n",
       "            event.step = -1;\n",
       "        }\n",
       "        mouse_event_fn(event);\n",
       "    });\n",
       "\n",
       "    canvas_div.append(canvas);\n",
       "    canvas_div.append(rubberband);\n",
       "\n",
       "    this.rubberband = rubberband;\n",
       "    this.rubberband_canvas = rubberband[0];\n",
       "    this.rubberband_context = rubberband[0].getContext(\"2d\");\n",
       "    this.rubberband_context.strokeStyle = \"#000000\";\n",
       "\n",
       "    this._resize_canvas = function(width, height) {\n",
       "        // Keep the size of the canvas, canvas container, and rubber band\n",
       "        // canvas in synch.\n",
       "        canvas_div.css('width', width)\n",
       "        canvas_div.css('height', height)\n",
       "\n",
       "        canvas.attr('width', width * mpl.ratio);\n",
       "        canvas.attr('height', height * mpl.ratio);\n",
       "        canvas.attr('style', 'width: ' + width + 'px; height: ' + height + 'px;');\n",
       "\n",
       "        rubberband.attr('width', width);\n",
       "        rubberband.attr('height', height);\n",
       "    }\n",
       "\n",
       "    // Set the figure to an initial 600x600px, this will subsequently be updated\n",
       "    // upon first draw.\n",
       "    this._resize_canvas(600, 600);\n",
       "\n",
       "    // Disable right mouse context menu.\n",
       "    $(this.rubberband_canvas).bind(\"contextmenu\",function(e){\n",
       "        return false;\n",
       "    });\n",
       "\n",
       "    function set_focus () {\n",
       "        canvas.focus();\n",
       "        canvas_div.focus();\n",
       "    }\n",
       "\n",
       "    window.setTimeout(set_focus, 100);\n",
       "}\n",
       "\n",
       "mpl.figure.prototype._init_toolbar = function() {\n",
       "    var fig = this;\n",
       "\n",
       "    var nav_element = $('<div/>')\n",
       "    nav_element.attr('style', 'width: 100%');\n",
       "    this.root.append(nav_element);\n",
       "\n",
       "    // Define a callback function for later on.\n",
       "    function toolbar_event(event) {\n",
       "        return fig.toolbar_button_onclick(event['data']);\n",
       "    }\n",
       "    function toolbar_mouse_event(event) {\n",
       "        return fig.toolbar_button_onmouseover(event['data']);\n",
       "    }\n",
       "\n",
       "    for(var toolbar_ind in mpl.toolbar_items) {\n",
       "        var name = mpl.toolbar_items[toolbar_ind][0];\n",
       "        var tooltip = mpl.toolbar_items[toolbar_ind][1];\n",
       "        var image = mpl.toolbar_items[toolbar_ind][2];\n",
       "        var method_name = mpl.toolbar_items[toolbar_ind][3];\n",
       "\n",
       "        if (!name) {\n",
       "            // put a spacer in here.\n",
       "            continue;\n",
       "        }\n",
       "        var button = $('<button/>');\n",
       "        button.addClass('ui-button ui-widget ui-state-default ui-corner-all ' +\n",
       "                        'ui-button-icon-only');\n",
       "        button.attr('role', 'button');\n",
       "        button.attr('aria-disabled', 'false');\n",
       "        button.click(method_name, toolbar_event);\n",
       "        button.mouseover(tooltip, toolbar_mouse_event);\n",
       "\n",
       "        var icon_img = $('<span/>');\n",
       "        icon_img.addClass('ui-button-icon-primary ui-icon');\n",
       "        icon_img.addClass(image);\n",
       "        icon_img.addClass('ui-corner-all');\n",
       "\n",
       "        var tooltip_span = $('<span/>');\n",
       "        tooltip_span.addClass('ui-button-text');\n",
       "        tooltip_span.html(tooltip);\n",
       "\n",
       "        button.append(icon_img);\n",
       "        button.append(tooltip_span);\n",
       "\n",
       "        nav_element.append(button);\n",
       "    }\n",
       "\n",
       "    var fmt_picker_span = $('<span/>');\n",
       "\n",
       "    var fmt_picker = $('<select/>');\n",
       "    fmt_picker.addClass('mpl-toolbar-option ui-widget ui-widget-content');\n",
       "    fmt_picker_span.append(fmt_picker);\n",
       "    nav_element.append(fmt_picker_span);\n",
       "    this.format_dropdown = fmt_picker[0];\n",
       "\n",
       "    for (var ind in mpl.extensions) {\n",
       "        var fmt = mpl.extensions[ind];\n",
       "        var option = $(\n",
       "            '<option/>', {selected: fmt === mpl.default_extension}).html(fmt);\n",
       "        fmt_picker.append(option)\n",
       "    }\n",
       "\n",
       "    // Add hover states to the ui-buttons\n",
       "    $( \".ui-button\" ).hover(\n",
       "        function() { $(this).addClass(\"ui-state-hover\");},\n",
       "        function() { $(this).removeClass(\"ui-state-hover\");}\n",
       "    );\n",
       "\n",
       "    var status_bar = $('<span class=\"mpl-message\"/>');\n",
       "    nav_element.append(status_bar);\n",
       "    this.message = status_bar[0];\n",
       "}\n",
       "\n",
       "mpl.figure.prototype.request_resize = function(x_pixels, y_pixels) {\n",
       "    // Request matplotlib to resize the figure. Matplotlib will then trigger a resize in the client,\n",
       "    // which will in turn request a refresh of the image.\n",
       "    this.send_message('resize', {'width': x_pixels, 'height': y_pixels});\n",
       "}\n",
       "\n",
       "mpl.figure.prototype.send_message = function(type, properties) {\n",
       "    properties['type'] = type;\n",
       "    properties['figure_id'] = this.id;\n",
       "    this.ws.send(JSON.stringify(properties));\n",
       "}\n",
       "\n",
       "mpl.figure.prototype.send_draw_message = function() {\n",
       "    if (!this.waiting) {\n",
       "        this.waiting = true;\n",
       "        this.ws.send(JSON.stringify({type: \"draw\", figure_id: this.id}));\n",
       "    }\n",
       "}\n",
       "\n",
       "\n",
       "mpl.figure.prototype.handle_save = function(fig, msg) {\n",
       "    var format_dropdown = fig.format_dropdown;\n",
       "    var format = format_dropdown.options[format_dropdown.selectedIndex].value;\n",
       "    fig.ondownload(fig, format);\n",
       "}\n",
       "\n",
       "\n",
       "mpl.figure.prototype.handle_resize = function(fig, msg) {\n",
       "    var size = msg['size'];\n",
       "    if (size[0] != fig.canvas.width || size[1] != fig.canvas.height) {\n",
       "        fig._resize_canvas(size[0], size[1]);\n",
       "        fig.send_message(\"refresh\", {});\n",
       "    };\n",
       "}\n",
       "\n",
       "mpl.figure.prototype.handle_rubberband = function(fig, msg) {\n",
       "    var x0 = msg['x0'] / mpl.ratio;\n",
       "    var y0 = (fig.canvas.height - msg['y0']) / mpl.ratio;\n",
       "    var x1 = msg['x1'] / mpl.ratio;\n",
       "    var y1 = (fig.canvas.height - msg['y1']) / mpl.ratio;\n",
       "    x0 = Math.floor(x0) + 0.5;\n",
       "    y0 = Math.floor(y0) + 0.5;\n",
       "    x1 = Math.floor(x1) + 0.5;\n",
       "    y1 = Math.floor(y1) + 0.5;\n",
       "    var min_x = Math.min(x0, x1);\n",
       "    var min_y = Math.min(y0, y1);\n",
       "    var width = Math.abs(x1 - x0);\n",
       "    var height = Math.abs(y1 - y0);\n",
       "\n",
       "    fig.rubberband_context.clearRect(\n",
       "        0, 0, fig.canvas.width, fig.canvas.height);\n",
       "\n",
       "    fig.rubberband_context.strokeRect(min_x, min_y, width, height);\n",
       "}\n",
       "\n",
       "mpl.figure.prototype.handle_figure_label = function(fig, msg) {\n",
       "    // Updates the figure title.\n",
       "    fig.header.textContent = msg['label'];\n",
       "}\n",
       "\n",
       "mpl.figure.prototype.handle_cursor = function(fig, msg) {\n",
       "    var cursor = msg['cursor'];\n",
       "    switch(cursor)\n",
       "    {\n",
       "    case 0:\n",
       "        cursor = 'pointer';\n",
       "        break;\n",
       "    case 1:\n",
       "        cursor = 'default';\n",
       "        break;\n",
       "    case 2:\n",
       "        cursor = 'crosshair';\n",
       "        break;\n",
       "    case 3:\n",
       "        cursor = 'move';\n",
       "        break;\n",
       "    }\n",
       "    fig.rubberband_canvas.style.cursor = cursor;\n",
       "}\n",
       "\n",
       "mpl.figure.prototype.handle_message = function(fig, msg) {\n",
       "    fig.message.textContent = msg['message'];\n",
       "}\n",
       "\n",
       "mpl.figure.prototype.handle_draw = function(fig, msg) {\n",
       "    // Request the server to send over a new figure.\n",
       "    fig.send_draw_message();\n",
       "}\n",
       "\n",
       "mpl.figure.prototype.handle_image_mode = function(fig, msg) {\n",
       "    fig.image_mode = msg['mode'];\n",
       "}\n",
       "\n",
       "mpl.figure.prototype.updated_canvas_event = function() {\n",
       "    // Called whenever the canvas gets updated.\n",
       "    this.send_message(\"ack\", {});\n",
       "}\n",
       "\n",
       "// A function to construct a web socket function for onmessage handling.\n",
       "// Called in the figure constructor.\n",
       "mpl.figure.prototype._make_on_message_function = function(fig) {\n",
       "    return function socket_on_message(evt) {\n",
       "        if (evt.data instanceof Blob) {\n",
       "            /* FIXME: We get \"Resource interpreted as Image but\n",
       "             * transferred with MIME type text/plain:\" errors on\n",
       "             * Chrome.  But how to set the MIME type?  It doesn't seem\n",
       "             * to be part of the websocket stream */\n",
       "            evt.data.type = \"image/png\";\n",
       "\n",
       "            /* Free the memory for the previous frames */\n",
       "            if (fig.imageObj.src) {\n",
       "                (window.URL || window.webkitURL).revokeObjectURL(\n",
       "                    fig.imageObj.src);\n",
       "            }\n",
       "\n",
       "            fig.imageObj.src = (window.URL || window.webkitURL).createObjectURL(\n",
       "                evt.data);\n",
       "            fig.updated_canvas_event();\n",
       "            fig.waiting = false;\n",
       "            return;\n",
       "        }\n",
       "        else if (typeof evt.data === 'string' && evt.data.slice(0, 21) == \"data:image/png;base64\") {\n",
       "            fig.imageObj.src = evt.data;\n",
       "            fig.updated_canvas_event();\n",
       "            fig.waiting = false;\n",
       "            return;\n",
       "        }\n",
       "\n",
       "        var msg = JSON.parse(evt.data);\n",
       "        var msg_type = msg['type'];\n",
       "\n",
       "        // Call the  \"handle_{type}\" callback, which takes\n",
       "        // the figure and JSON message as its only arguments.\n",
       "        try {\n",
       "            var callback = fig[\"handle_\" + msg_type];\n",
       "        } catch (e) {\n",
       "            console.log(\"No handler for the '\" + msg_type + \"' message type: \", msg);\n",
       "            return;\n",
       "        }\n",
       "\n",
       "        if (callback) {\n",
       "            try {\n",
       "                // console.log(\"Handling '\" + msg_type + \"' message: \", msg);\n",
       "                callback(fig, msg);\n",
       "            } catch (e) {\n",
       "                console.log(\"Exception inside the 'handler_\" + msg_type + \"' callback:\", e, e.stack, msg);\n",
       "            }\n",
       "        }\n",
       "    };\n",
       "}\n",
       "\n",
       "// from http://stackoverflow.com/questions/1114465/getting-mouse-location-in-canvas\n",
       "mpl.findpos = function(e) {\n",
       "    //this section is from http://www.quirksmode.org/js/events_properties.html\n",
       "    var targ;\n",
       "    if (!e)\n",
       "        e = window.event;\n",
       "    if (e.target)\n",
       "        targ = e.target;\n",
       "    else if (e.srcElement)\n",
       "        targ = e.srcElement;\n",
       "    if (targ.nodeType == 3) // defeat Safari bug\n",
       "        targ = targ.parentNode;\n",
       "\n",
       "    // jQuery normalizes the pageX and pageY\n",
       "    // pageX,Y are the mouse positions relative to the document\n",
       "    // offset() returns the position of the element relative to the document\n",
       "    var x = e.pageX - $(targ).offset().left;\n",
       "    var y = e.pageY - $(targ).offset().top;\n",
       "\n",
       "    return {\"x\": x, \"y\": y};\n",
       "};\n",
       "\n",
       "/*\n",
       " * return a copy of an object with only non-object keys\n",
       " * we need this to avoid circular references\n",
       " * http://stackoverflow.com/a/24161582/3208463\n",
       " */\n",
       "function simpleKeys (original) {\n",
       "  return Object.keys(original).reduce(function (obj, key) {\n",
       "    if (typeof original[key] !== 'object')\n",
       "        obj[key] = original[key]\n",
       "    return obj;\n",
       "  }, {});\n",
       "}\n",
       "\n",
       "mpl.figure.prototype.mouse_event = function(event, name) {\n",
       "    var canvas_pos = mpl.findpos(event)\n",
       "\n",
       "    if (name === 'button_press')\n",
       "    {\n",
       "        this.canvas.focus();\n",
       "        this.canvas_div.focus();\n",
       "    }\n",
       "\n",
       "    var x = canvas_pos.x * mpl.ratio;\n",
       "    var y = canvas_pos.y * mpl.ratio;\n",
       "\n",
       "    this.send_message(name, {x: x, y: y, button: event.button,\n",
       "                             step: event.step,\n",
       "                             guiEvent: simpleKeys(event)});\n",
       "\n",
       "    /* This prevents the web browser from automatically changing to\n",
       "     * the text insertion cursor when the button is pressed.  We want\n",
       "     * to control all of the cursor setting manually through the\n",
       "     * 'cursor' event from matplotlib */\n",
       "    event.preventDefault();\n",
       "    return false;\n",
       "}\n",
       "\n",
       "mpl.figure.prototype._key_event_extra = function(event, name) {\n",
       "    // Handle any extra behaviour associated with a key event\n",
       "}\n",
       "\n",
       "mpl.figure.prototype.key_event = function(event, name) {\n",
       "\n",
       "    // Prevent repeat events\n",
       "    if (name == 'key_press')\n",
       "    {\n",
       "        if (event.which === this._key)\n",
       "            return;\n",
       "        else\n",
       "            this._key = event.which;\n",
       "    }\n",
       "    if (name == 'key_release')\n",
       "        this._key = null;\n",
       "\n",
       "    var value = '';\n",
       "    if (event.ctrlKey && event.which != 17)\n",
       "        value += \"ctrl+\";\n",
       "    if (event.altKey && event.which != 18)\n",
       "        value += \"alt+\";\n",
       "    if (event.shiftKey && event.which != 16)\n",
       "        value += \"shift+\";\n",
       "\n",
       "    value += 'k';\n",
       "    value += event.which.toString();\n",
       "\n",
       "    this._key_event_extra(event, name);\n",
       "\n",
       "    this.send_message(name, {key: value,\n",
       "                             guiEvent: simpleKeys(event)});\n",
       "    return false;\n",
       "}\n",
       "\n",
       "mpl.figure.prototype.toolbar_button_onclick = function(name) {\n",
       "    if (name == 'download') {\n",
       "        this.handle_save(this, null);\n",
       "    } else {\n",
       "        this.send_message(\"toolbar_button\", {name: name});\n",
       "    }\n",
       "};\n",
       "\n",
       "mpl.figure.prototype.toolbar_button_onmouseover = function(tooltip) {\n",
       "    this.message.textContent = tooltip;\n",
       "};\n",
       "mpl.toolbar_items = [[\"Home\", \"Reset original view\", \"fa fa-home icon-home\", \"home\"], [\"Back\", \"Back to  previous view\", \"fa fa-arrow-left icon-arrow-left\", \"back\"], [\"Forward\", \"Forward to next view\", \"fa fa-arrow-right icon-arrow-right\", \"forward\"], [\"\", \"\", \"\", \"\"], [\"Pan\", \"Pan axes with left mouse, zoom with right\", \"fa fa-arrows icon-move\", \"pan\"], [\"Zoom\", \"Zoom to rectangle\", \"fa fa-square-o icon-check-empty\", \"zoom\"], [\"\", \"\", \"\", \"\"], [\"Download\", \"Download plot\", \"fa fa-floppy-o icon-save\", \"download\"]];\n",
       "\n",
       "mpl.extensions = [\"eps\", \"jpeg\", \"pdf\", \"png\", \"ps\", \"raw\", \"svg\", \"tif\"];\n",
       "\n",
       "mpl.default_extension = \"png\";var comm_websocket_adapter = function(comm) {\n",
       "    // Create a \"websocket\"-like object which calls the given IPython comm\n",
       "    // object with the appropriate methods. Currently this is a non binary\n",
       "    // socket, so there is still some room for performance tuning.\n",
       "    var ws = {};\n",
       "\n",
       "    ws.close = function() {\n",
       "        comm.close()\n",
       "    };\n",
       "    ws.send = function(m) {\n",
       "        //console.log('sending', m);\n",
       "        comm.send(m);\n",
       "    };\n",
       "    // Register the callback with on_msg.\n",
       "    comm.on_msg(function(msg) {\n",
       "        //console.log('receiving', msg['content']['data'], msg);\n",
       "        // Pass the mpl event to the overriden (by mpl) onmessage function.\n",
       "        ws.onmessage(msg['content']['data'])\n",
       "    });\n",
       "    return ws;\n",
       "}\n",
       "\n",
       "mpl.mpl_figure_comm = function(comm, msg) {\n",
       "    // This is the function which gets called when the mpl process\n",
       "    // starts-up an IPython Comm through the \"matplotlib\" channel.\n",
       "\n",
       "    var id = msg.content.data.id;\n",
       "    // Get hold of the div created by the display call when the Comm\n",
       "    // socket was opened in Python.\n",
       "    var element = $(\"#\" + id);\n",
       "    var ws_proxy = comm_websocket_adapter(comm)\n",
       "\n",
       "    function ondownload(figure, format) {\n",
       "        window.open(figure.imageObj.src);\n",
       "    }\n",
       "\n",
       "    var fig = new mpl.figure(id, ws_proxy,\n",
       "                           ondownload,\n",
       "                           element.get(0));\n",
       "\n",
       "    // Call onopen now - mpl needs it, as it is assuming we've passed it a real\n",
       "    // web socket which is closed, not our websocket->open comm proxy.\n",
       "    ws_proxy.onopen();\n",
       "\n",
       "    fig.parent_element = element.get(0);\n",
       "    fig.cell_info = mpl.find_output_cell(\"<div id='\" + id + \"'></div>\");\n",
       "    if (!fig.cell_info) {\n",
       "        console.error(\"Failed to find cell for figure\", id, fig);\n",
       "        return;\n",
       "    }\n",
       "\n",
       "    var output_index = fig.cell_info[2]\n",
       "    var cell = fig.cell_info[0];\n",
       "\n",
       "};\n",
       "\n",
       "mpl.figure.prototype.handle_close = function(fig, msg) {\n",
       "    var width = fig.canvas.width/mpl.ratio\n",
       "    fig.root.unbind('remove')\n",
       "\n",
       "    // Update the output cell to use the data from the current canvas.\n",
       "    fig.push_to_output();\n",
       "    var dataURL = fig.canvas.toDataURL();\n",
       "    // Re-enable the keyboard manager in IPython - without this line, in FF,\n",
       "    // the notebook keyboard shortcuts fail.\n",
       "    IPython.keyboard_manager.enable()\n",
       "    $(fig.parent_element).html('<img src=\"' + dataURL + '\" width=\"' + width + '\">');\n",
       "    fig.close_ws(fig, msg);\n",
       "}\n",
       "\n",
       "mpl.figure.prototype.close_ws = function(fig, msg){\n",
       "    fig.send_message('closing', msg);\n",
       "    // fig.ws.close()\n",
       "}\n",
       "\n",
       "mpl.figure.prototype.push_to_output = function(remove_interactive) {\n",
       "    // Turn the data on the canvas into data in the output cell.\n",
       "    var width = this.canvas.width/mpl.ratio\n",
       "    var dataURL = this.canvas.toDataURL();\n",
       "    this.cell_info[1]['text/html'] = '<img src=\"' + dataURL + '\" width=\"' + width + '\">';\n",
       "}\n",
       "\n",
       "mpl.figure.prototype.updated_canvas_event = function() {\n",
       "    // Tell IPython that the notebook contents must change.\n",
       "    IPython.notebook.set_dirty(true);\n",
       "    this.send_message(\"ack\", {});\n",
       "    var fig = this;\n",
       "    // Wait a second, then push the new image to the DOM so\n",
       "    // that it is saved nicely (might be nice to debounce this).\n",
       "    setTimeout(function () { fig.push_to_output() }, 1000);\n",
       "}\n",
       "\n",
       "mpl.figure.prototype._init_toolbar = function() {\n",
       "    var fig = this;\n",
       "\n",
       "    var nav_element = $('<div/>')\n",
       "    nav_element.attr('style', 'width: 100%');\n",
       "    this.root.append(nav_element);\n",
       "\n",
       "    // Define a callback function for later on.\n",
       "    function toolbar_event(event) {\n",
       "        return fig.toolbar_button_onclick(event['data']);\n",
       "    }\n",
       "    function toolbar_mouse_event(event) {\n",
       "        return fig.toolbar_button_onmouseover(event['data']);\n",
       "    }\n",
       "\n",
       "    for(var toolbar_ind in mpl.toolbar_items){\n",
       "        var name = mpl.toolbar_items[toolbar_ind][0];\n",
       "        var tooltip = mpl.toolbar_items[toolbar_ind][1];\n",
       "        var image = mpl.toolbar_items[toolbar_ind][2];\n",
       "        var method_name = mpl.toolbar_items[toolbar_ind][3];\n",
       "\n",
       "        if (!name) { continue; };\n",
       "\n",
       "        var button = $('<button class=\"btn btn-default\" href=\"#\" title=\"' + name + '\"><i class=\"fa ' + image + ' fa-lg\"></i></button>');\n",
       "        button.click(method_name, toolbar_event);\n",
       "        button.mouseover(tooltip, toolbar_mouse_event);\n",
       "        nav_element.append(button);\n",
       "    }\n",
       "\n",
       "    // Add the status bar.\n",
       "    var status_bar = $('<span class=\"mpl-message\" style=\"text-align:right; float: right;\"/>');\n",
       "    nav_element.append(status_bar);\n",
       "    this.message = status_bar[0];\n",
       "\n",
       "    // Add the close button to the window.\n",
       "    var buttongrp = $('<div class=\"btn-group inline pull-right\"></div>');\n",
       "    var button = $('<button class=\"btn btn-mini btn-primary\" href=\"#\" title=\"Stop Interaction\"><i class=\"fa fa-power-off icon-remove icon-large\"></i></button>');\n",
       "    button.click(function (evt) { fig.handle_close(fig, {}); } );\n",
       "    button.mouseover('Stop Interaction', toolbar_mouse_event);\n",
       "    buttongrp.append(button);\n",
       "    var titlebar = this.root.find($('.ui-dialog-titlebar'));\n",
       "    titlebar.prepend(buttongrp);\n",
       "}\n",
       "\n",
       "mpl.figure.prototype._root_extra_style = function(el){\n",
       "    var fig = this\n",
       "    el.on(\"remove\", function(){\n",
       "\tfig.close_ws(fig, {});\n",
       "    });\n",
       "}\n",
       "\n",
       "mpl.figure.prototype._canvas_extra_style = function(el){\n",
       "    // this is important to make the div 'focusable\n",
       "    el.attr('tabindex', 0)\n",
       "    // reach out to IPython and tell the keyboard manager to turn it's self\n",
       "    // off when our div gets focus\n",
       "\n",
       "    // location in version 3\n",
       "    if (IPython.notebook.keyboard_manager) {\n",
       "        IPython.notebook.keyboard_manager.register_events(el);\n",
       "    }\n",
       "    else {\n",
       "        // location in version 2\n",
       "        IPython.keyboard_manager.register_events(el);\n",
       "    }\n",
       "\n",
       "}\n",
       "\n",
       "mpl.figure.prototype._key_event_extra = function(event, name) {\n",
       "    var manager = IPython.notebook.keyboard_manager;\n",
       "    if (!manager)\n",
       "        manager = IPython.keyboard_manager;\n",
       "\n",
       "    // Check for shift+enter\n",
       "    if (event.shiftKey && event.which == 13) {\n",
       "        this.canvas_div.blur();\n",
       "        event.shiftKey = false;\n",
       "        // Send a \"J\" for go to next cell\n",
       "        event.which = 74;\n",
       "        event.keyCode = 74;\n",
       "        manager.command_mode();\n",
       "        manager.handle_keydown(event);\n",
       "    }\n",
       "}\n",
       "\n",
       "mpl.figure.prototype.handle_save = function(fig, msg) {\n",
       "    fig.ondownload(fig, null);\n",
       "}\n",
       "\n",
       "\n",
       "mpl.find_output_cell = function(html_output) {\n",
       "    // Return the cell and output element which can be found *uniquely* in the notebook.\n",
       "    // Note - this is a bit hacky, but it is done because the \"notebook_saving.Notebook\"\n",
       "    // IPython event is triggered only after the cells have been serialised, which for\n",
       "    // our purposes (turning an active figure into a static one), is too late.\n",
       "    var cells = IPython.notebook.get_cells();\n",
       "    var ncells = cells.length;\n",
       "    for (var i=0; i<ncells; i++) {\n",
       "        var cell = cells[i];\n",
       "        if (cell.cell_type === 'code'){\n",
       "            for (var j=0; j<cell.output_area.outputs.length; j++) {\n",
       "                var data = cell.output_area.outputs[j];\n",
       "                if (data.data) {\n",
       "                    // IPython >= 3 moved mimebundle to data attribute of output\n",
       "                    data = data.data;\n",
       "                }\n",
       "                if (data['text/html'] == html_output) {\n",
       "                    return [cell, data, j];\n",
       "                }\n",
       "            }\n",
       "        }\n",
       "    }\n",
       "}\n",
       "\n",
       "// Register the function which deals with the matplotlib target/channel.\n",
       "// The kernel may be null if the page has been refreshed.\n",
       "if (IPython.notebook.kernel != null) {\n",
       "    IPython.notebook.kernel.comm_manager.register_target('matplotlib', mpl.mpl_figure_comm);\n",
       "}\n"
      ],
      "text/plain": [
       "<IPython.core.display.Javascript object>"
      ]
     },
     "metadata": {},
     "output_type": "display_data"
    },
    {
     "data": {
      "text/html": [
       "<img src=\"data:image/png;base64,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\" width=\"640\">"
      ],
      "text/plain": [
       "<IPython.core.display.HTML object>"
      ]
     },
     "metadata": {},
     "output_type": "display_data"
    }
   ],
   "source": [
    "%matplotlib notebook\n",
    "# data to plot\n",
    "n_groups = 4\n",
    "sin_loop       = (list_sine_tr[0], arr_sine_tr[0], npArr_sine_tr[0], matlab_sine_tr[0])\n",
    "sin_ploop      = (list_sine_tr[1], arr_sine_tr[1], npArr_sine_tr[1], matlab_sine_tr[1])\n",
    "sin_map_vectz  = (list_sine_tr[2], arr_sine_tr[2], npArr_sine_tr[2], matlab_sine_tr[2])\n",
    "\n",
    "# create plot\n",
    "f, ax = plt.subplots(nrows = 1,\n",
    "                    ncols = 1\n",
    "                    )\n",
    "\n",
    "index = np.arange(n_groups)\n",
    "bar_width = 0.1\n",
    "opacity = 0.8\n",
    " \n",
    "rects1 = plt.bar(index, sin_loop, bar_width,\n",
    "                 alpha=opacity,\n",
    "                 color='r',\n",
    "                 label='Loop')\n",
    " \n",
    "rects2 = plt.bar(index + bar_width, sin_ploop, bar_width,\n",
    "                 alpha=opacity,\n",
    "                 color='g',\n",
    "                 label='Pre-Loop')\n",
    "\n",
    "rects2 = plt.bar(index + (2*bar_width), sin_map_vectz, bar_width,\n",
    "                 alpha=opacity,\n",
    "                 color='b',\n",
    "                 label='Map/Vectorized')\n",
    " \n",
    "plt.xlabel('Sine Function Methods')\n",
    "plt.ylabel('time(seconds)')\n",
    "plt.title('Time Comparision for sin(x) function calculation using different Python \\ndata types')\n",
    "plt.xticks(index + ((1.5)*bar_width), ('List', 'Array', 'Numpy', 'Matlab'))\n",
    "plt.legend(loc = 2)\n",
    "plt.show()"
   ]
  },
  {
   "cell_type": "markdown",
   "metadata": {},
   "source": [
    "# Matlab Timing Results"
   ]
  },
  {
   "cell_type": "markdown",
   "metadata": {},
   "source": [
    "<img src=\"ME571_HW1_1.png\">"
   ]
  },
  {
   "cell_type": "markdown",
   "metadata": {},
   "source": [
    "#### Observations\n",
    "\n",
    "1) With all data types(arrays, list, numpy and Matlab), using pre-allocation of memory gave better performance compared to appending data at run-time. <br\\>\n",
    "2) The performance of vectorized operation is best, given a certain data type.<br\\>\n",
    "3) Among all of the Python data types, numpy arrays took least amount of time for vectorized operations.<br\\>\n",
    "4) Matlab arrays were comparable to Python numpy arrays. (Note that: Performance of Matlab was evaluated at different system)"
   ]
  }
 ],
 "metadata": {
  "kernelspec": {
   "display_name": "Python 3",
   "language": "python",
   "name": "python3"
  },
  "language_info": {
   "codemirror_mode": {
    "name": "ipython",
    "version": 3
   },
   "file_extension": ".py",
   "mimetype": "text/x-python",
   "name": "python",
   "nbconvert_exporter": "python",
   "pygments_lexer": "ipython3",
   "version": "3.6.3"
  }
 },
 "nbformat": 4,
 "nbformat_minor": 2
}
