{
 "cells": [
  {
   "cell_type": "code",
   "execution_count": 1,
   "metadata": {
    "collapsed": false
   },
   "outputs": [
    {
     "name": "stdout",
     "output_type": "stream",
     "text": [
      "Populating the interactive namespace from numpy and matplotlib\n"
     ]
    }
   ],
   "source": [
    "%pylab inline\n",
    "%matplotlib notebook"
   ]
  },
  {
   "cell_type": "code",
   "execution_count": 2,
   "metadata": {
    "collapsed": true
   },
   "outputs": [],
   "source": [
    "# TODO : Run this code for processor counts [1,2,4,8]\n",
    "file_prefix = 'trap_'\n",
    "nprocs = 8   # 1,2,4 and 8\n",
    "filename = file_prefix + '{:02d}'.format(nprocs) + '.out'"
   ]
  },
  {
   "cell_type": "code",
   "execution_count": 3,
   "metadata": {
    "collapsed": false,
    "scrolled": true
   },
   "outputs": [
    {
     "name": "stdout",
     "output_type": "stream",
     "text": [
      "2 loops, best of 2: 25.5 ms per loop\n",
      "2 loops, best of 2: 17.8 ms per loop\n",
      "2 loops, best of 2: 18.9 ms per loop\n",
      "2 loops, best of 2: 28.4 ms per loop\n",
      "2 loops, best of 2: 19.1 ms per loop\n",
      "2 loops, best of 2: 21.1 ms per loop\n",
      "2 loops, best of 2: 19.6 ms per loop\n",
      "2 loops, best of 2: 17.2 ms per loop\n",
      "2 loops, best of 2: 24.3 ms per loop\n",
      "2 loops, best of 2: 24.4 ms per loop\n",
      "2 loops, best of 2: 36.6 ms per loop\n",
      "2 loops, best of 2: 65 ms per loop\n",
      "2 loops, best of 2: 84.5 ms per loop\n",
      "2 loops, best of 2: 132 ms per loop\n",
      "2 loops, best of 2: 199 ms per loop\n",
      "2 loops, best of 2: 349 ms per loop\n",
      "2 loops, best of 2: 584 ms per loop\n",
      "2 loops, best of 2: 1.13 s per loop\n",
      "2 loops, best of 2: 1.79 s per loop\n"
     ]
    }
   ],
   "source": [
    "import subprocess, sys, time\n",
    "# We write the data to a file so that it doesn't have to be re-run everytime we modify \n",
    "# formatting or plotting\n",
    "f = open(filename,'w')\n",
    "for pv in range(10,29):\n",
    "    arg_list = ['/usr/local/anaconda3/bin/mpirun','-n', str(nprocs), 'p2','-p',str(pv)] \n",
    "    # Test to make sure we can run this code\n",
    "    p = subprocess.run(arg_list,stdout=subprocess.PIPE)    \n",
    "    if p.returncode > 0:\n",
    "        print(\"Something went wrong!\")\n",
    "        sys.exit(0)\n",
    "    output = p.stdout.decode(\"utf-8\").split()\n",
    "    tr = %timeit -n 2 -r 2 -o pass; p = subprocess.run(arg_list,stdout=subprocess.PIPE)\n",
    "    # Read output\n",
    "    N = int(output[3])\n",
    "    soln = float(output[4])\n",
    "    err = float(output[6])\n",
    "    \n",
    "    f.write(\"{:10d} {:20.16f} {:12.4e} {:12.2e}\\n\".format(N,soln,err,tr.best))\n",
    "    \n",
    "f.close()"
   ]
  },
  {
   "cell_type": "code",
   "execution_count": 4,
   "metadata": {
    "collapsed": false
   },
   "outputs": [
    {
     "name": "stdout",
     "output_type": "stream",
     "text": [
      "      1024   1.8725924894828188  -4.6778e-07     1.03e-02\r\n",
      "      2048   1.8725928403201078  -1.1695e-07     1.01e-02\r\n",
      "      4096   1.8725929280294071  -2.9236e-08     1.11e-02\r\n",
      "      8192   1.8725929499567331  -7.3091e-09     1.10e-02\r\n",
      "     16384   1.8725929554385630  -1.8273e-09     1.05e-02\r\n",
      "     32768   1.8725929568090294  -4.5681e-10     1.17e-02\r\n",
      "     65536   1.8725929571516469  -1.1419e-10     1.22e-02\r\n",
      "    131072   1.8725929572372844  -2.8555e-11     1.20e-02\r\n",
      "    262144   1.8725929572587012  -7.1376e-12     1.56e-02\r\n",
      "    524288   1.8725929572640534  -1.7855e-12     2.33e-02\r\n",
      "   1048576   1.8725929572653566  -4.8230e-13     3.04e-02\r\n",
      "   2097152   1.8725929572657740  -6.4800e-14     4.99e-02\r\n",
      "   4194304   1.8725929572658724   3.3500e-14     9.29e-02\r\n",
      "   8388608   1.8725929572658540   1.5100e-14     1.58e-01\r\n",
      "  16777216   1.8725929572658271  -1.1800e-14     3.04e-01\r\n",
      "  33554432   1.8725929572664017   5.6290e-13     5.92e-01\r\n",
      "  67108864   1.8725929572662430   4.0410e-13     1.17e+00\r\n",
      " 134217728   1.8725929572673603   1.5214e-12     2.35e+00\r\n",
      " 268435456   1.8725929572578635  -7.9754e-12     4.65e+00\r\n"
     ]
    }
   ],
   "source": [
    "%cat trap_02.out"
   ]
  },
  {
   "cell_type": "code",
   "execution_count": null,
   "metadata": {
    "collapsed": true
   },
   "outputs": [],
   "source": []
  }
 ],
 "metadata": {
  "kernelspec": {
   "display_name": "Python 3",
   "language": "python",
   "name": "python3"
  },
  "language_info": {
   "codemirror_mode": {
    "name": "ipython",
    "version": 3
   },
   "file_extension": ".py",
   "mimetype": "text/x-python",
   "name": "python",
   "nbconvert_exporter": "python",
   "pygments_lexer": "ipython3",
   "version": "3.5.4"
  }
 },
 "nbformat": 4,
 "nbformat_minor": 0
}
