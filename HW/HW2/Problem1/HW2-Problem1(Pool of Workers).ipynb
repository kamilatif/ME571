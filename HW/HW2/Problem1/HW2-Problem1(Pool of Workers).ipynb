{
 "cells": [
  {
   "cell_type": "markdown",
   "metadata": {},
   "source": [
    "# Using a Pool to compute a matrix-matrix multiply\n",
    "\n",
    "<hr/>\n",
    "\n",
    "Your job in this problem is to improve the speed of the matrix-matrix multiply, implemented here using a Pool.  \n",
    "You are free to be creative in writing your matrix-matrix multiply, but must follow a few ground rules. \n",
    "\n",
    "* You must use one of the Pool functions (map, map_async, apply or apply_async). \n",
    "\n",
    "* You cannot use any global variables\n",
    "\n",
    "* You are free to re-write the way in which the matrix is distributed to processors.  For example, you can try tiling individual dot products to get better cache performance. \n",
    "\n",
    "* Your answer should agree with the `numpy.matmul` result to within about $10^{-10}$.  The code below computes the difference for you. \n",
    "\n",
    "To show the speed-up you get, write a second function (using `def`) that computes your faster matrix-matrix multiply and then report both the original results and your faster results.  \n",
    "\n",
    "We are not looking for the \"fastest\" method to compute a matrix-matrix product (Numpy's `matmul` beats everything).  We are alos not looking for parallel speed-up.   Rather, this problem should give you a better feel as to how the multiprocessing Pool module works, and how to use it optimally.\n",
    "\n",
    "If you are successful, you should see about a factor 5-10 (or more) speedup.  Try out your matrix-matrix multiply on matrices of dimensions $N = 2^7, 2^8, 2^9$ and $2^{10}$. \n",
    "\n",
    "To see how the Pool module works, see notebook posted on the course Wiki (Tuesday, Week 04). "
   ]
  },
  {
   "cell_type": "code",
   "execution_count": 1,
   "metadata": {
    "collapsed": true
   },
   "outputs": [],
   "source": [
    "from multiprocessing import Pool\n",
    "import numpy as np\n",
    "import numpy.linalg as la\n",
    "import itertools"
   ]
  },
  {
   "cell_type": "code",
   "execution_count": 2,
   "metadata": {
    "collapsed": true
   },
   "outputs": [],
   "source": [
    "def dot_ij(d):\n",
    "    i,j,x,y = d\n",
    "    return (i,j,np.dot(x,y))\n",
    "\n",
    "def matmul_pool(A,B):\n",
    "    m1,n1 = A.shape\n",
    "    m2,n2 = B.shape\n",
    "    if n1 != m2:\n",
    "        print(\"Inner matrix dimensions do not agree\")\n",
    "        return None\n",
    "    \n",
    "    Bt = np.transpose(B)\n",
    "    \n",
    "    map_list = [(i,j,A[i],Bt[j]) for (i,j) in itertools.product(range(0,m1),range(0,n2))]    \n",
    "    \n",
    "    pool = Pool()\n",
    "    results = []\n",
    "    for d in map_list:\n",
    "        r = pool.apply_async(func=dot_ij,args=(d,)) # updated with Pool.apply\n",
    "        results.append(r)\n",
    "    \n",
    "    mulResult = [r.get() for r in results]\n",
    "    C = np.empty((m1,n2),dtype='d')\n",
    "    \n",
    "    \n",
    "    for r in mulResult:\n",
    "        i,j,d = r\n",
    "        C[i][j] = d\n",
    "            \n",
    "    return C"
   ]
  },
  {
   "cell_type": "code",
   "execution_count": 3,
   "metadata": {
    "collapsed": true
   },
   "outputs": [],
   "source": [
    "N = 2**8\n",
    "np.random.seed(1234)\n",
    "A = np.random.rand(N,N)\n",
    "B = np.random.rand(N,N)"
   ]
  },
  {
   "cell_type": "code",
   "execution_count": 4,
   "metadata": {
    "collapsed": false
   },
   "outputs": [
    {
     "name": "stdout",
     "output_type": "stream",
     "text": [
      "1 loop, best of 1: 10.9 s per loop\n",
      "\n",
      "    Matrix dimensions (N)          256\n",
      "      norm(C_pool-C_true)   6.9284e-12\n",
      "      Time using Pool (s)    10.934012\n"
     ]
    }
   ],
   "source": [
    "n_loop = 1\n",
    "r_rep = 1\n",
    "tr = %timeit -n $n_loop -r $r_rep -o pass; C_pool = matmul_pool(A,B)\n",
    "time_loop = tr.best\n",
    "\n",
    "# Get answer that we can compare to the numpy result\n",
    "C_pool = matmul_pool(A,B)\n",
    "\n",
    "print(\"\")\n",
    "print(\"{:>25s} {:12d}\".format(\"Matrix dimensions (N)\",N))\n",
    "print(\"{:>25s} {:12.4e}\".format(\"norm(C_pool-C_true)\",la.norm(C_pool-np.matmul(A,B))))\n",
    "print(\"{:>25s} {:12.6f}\".format(\"Time using Pool (s)\", time_loop))"
   ]
  },
  {
   "cell_type": "markdown",
   "metadata": {},
   "source": [
    "Result from pool.map for N = 8\n",
    "\n",
    "1 loop, best of 1: 25.1 s per loop\n",
    "\n",
    "    Matrix dimensions (N)          256\n",
    "      norm(C_pool-C_true)   6.9284e-12\n",
    "      Time using Pool (s)    25.147193"
   ]
  },
  {
   "cell_type": "markdown",
   "metadata": {},
   "source": [
    "## Result:\n",
    "    \n",
    "Pool.apply was updated to pool.apply_async. Speed up in the range of from 2.5 to 4 times was achieved. "
   ]
  },
  {
   "cell_type": "code",
   "execution_count": null,
   "metadata": {
    "collapsed": true
   },
   "outputs": [],
   "source": []
  }
 ],
 "metadata": {
  "kernelspec": {
   "display_name": "Python 3",
   "language": "python",
   "name": "python3"
  },
  "language_info": {
   "codemirror_mode": {
    "name": "ipython",
    "version": 3
   },
   "file_extension": ".py",
   "mimetype": "text/x-python",
   "name": "python",
   "nbconvert_exporter": "python",
   "pygments_lexer": "ipython3",
   "version": "3.5.4"
  }
 },
 "nbformat": 4,
 "nbformat_minor": 2
}
