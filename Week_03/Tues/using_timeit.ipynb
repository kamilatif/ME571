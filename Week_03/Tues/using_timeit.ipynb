{
 "cells": [
  {
   "cell_type": "markdown",
   "metadata": {},
   "source": [
    "# Understanding the  %%timeit magic command\n",
    "\n",
    "This notebook explains how what the arguments `-r` and `-n` do \n",
    "in the magic command %%timeit."
   ]
  },
  {
   "cell_type": "code",
   "execution_count": null,
   "metadata": {},
   "outputs": [],
   "source": [
    "%pylab inline\n",
    "%matplotlib notebook\n",
    "import math\n",
    "\n",
    "M = 750000    # Increase to 75000000\n",
    "v1 = rand(M)\n",
    "v2 = rand(M)\n",
    "\n",
    "def compute_angle(v1,v2):\n",
    "    th = math.acos(sum(v1*v2)/(norm(v1,2)*norm(v2,2)))\n",
    "    return th\n",
    "\n",
    "print(\"\")\n",
    "print(\"{:>20s} {:.2f}\".format('Memory (MB)',8.0*M/(1024**2)))\n",
    "\n",
    "th = compute_angle(v1,v2)\n",
    "print(\"{:>20s} {:.4f}\".format('Angle (radians)',th))"
   ]
  },
  {
   "cell_type": "markdown",
   "metadata": {},
   "source": [
    "We time the operation defined above to get a series of timing results we can later use to simulate the behavior of `%%timeit`.  To get this simulated data, we set `n=1` so that each call to the operation is timed.  Setting `n>1` returns an average of `n` calls.  The `r` parameter indicates how many n-loop averages to compute.  "
   ]
  },
  {
   "cell_type": "code",
   "execution_count": null,
   "metadata": {},
   "outputs": [],
   "source": [
    "n = 1        # Number of loops\n",
    "r = 512     # Number of repetitions of each loop\n",
    "p = 6        # Display precision\n",
    "\n",
    "tbest = %timeit -n $n -r $r -p $p -o pass; th = compute_angle(v1,v2)"
   ]
  },
  {
   "cell_type": "code",
   "execution_count": null,
   "metadata": {},
   "outputs": [],
   "source": [
    "# Print some statistics\n",
    "\n",
    "m = n*r\n",
    "a = tbest.average*1000\n",
    "b = tbest.best*1000\n",
    "s = tbest.stdev*1000\n",
    "t = array(tbest.all_runs)*1000.0/n\n",
    "\n",
    "print(\"{:>20s} {:.4f}\".format(\"Average time (ms)\",a))\n",
    "print(\"{:>20s} {:.4f}\".format(\"Best time (ms)\",b))\n",
    "print(\"{:>20s} {:.4f}\".format(\"Std (ms)\",s))"
   ]
  },
  {
   "cell_type": "markdown",
   "metadata": {},
   "source": [
    "The following code simulates what different settings for `n` and `r` would return, given variable of the timing data.   The `%%timeit` loop is equivalent to the following (although actual timing results may be very different) : \n",
    "\n",
    "    import time\n",
    "    # the %%timeit loop, using (n,r) arguments\n",
    "    T = empty(r)\n",
    "    for i in range(r):\n",
    "        t0 = time.time()     # import time\n",
    "        for j in range(n):\n",
    "            w = compute_angle(v1,v2)\n",
    "        T[i] = (time.time() - t0)/n\n",
    "    t = mean(T)\n",
    "    \n",
    "    print('Result : {:.4f}'.format(t)*1000)"
   ]
  },
  {
   "cell_type": "code",
   "execution_count": null,
   "metadata": {},
   "outputs": [],
   "source": [
    "from ipywidgets import interactive, fixed\n",
    "\n",
    "def compute_window(t,N):\n",
    "    m = len(t)\n",
    "    ymin = 2*max(t)\n",
    "    xmin = None\n",
    "    R = int(m/N)\n",
    "    xavg = empty(R)\n",
    "    yavg = empty(R)\n",
    "    for i in range(R):\n",
    "        i1 = i*N\n",
    "        i2 = (i+1)*N\n",
    "        x = [i1,i2]\n",
    "        d = t[i1:i2]\n",
    "        xavg[i] = (i1+i2)/2\n",
    "        yavg[i] = mean(d)\n",
    " \n",
    "    return xavg,yavg\n",
    "\n",
    "def cb_window(f,t,tstr,w,bline,b,p):\n",
    "    \n",
    "    N = 2**p\n",
    "    m = len(t)\n",
    "    xavg,yavg = compute_window(t,N)\n",
    "    w.set_xdata(xavg)\n",
    "    w.set_ydata(yavg)\n",
    "    \n",
    "    imin = argmin(yavg)\n",
    "    b.set_xdata(xavg[imin])\n",
    "    b.set_ydata(yavg[imin])\n",
    "    bline.set_ydata([yavg[imin]]*2)\n",
    "\n",
    "    title(tstr.format(m,N,int(m/N)),fontsize=18)\n",
    "    f.canvas.draw()\n",
    "          \n",
    "    imax = argmax(yavg)\n",
    "    print(\"{:>10} {}\".format('N (2^p)',N))\n",
    "    print(\"{:>10} {}\".format('Worst (ms)',yavg[imax]))\n",
    "    print(\"{:>10} {}\".format('Best (ms)',yavg[imin]))\n",
    "    print(\"{:>10} {}\".format('Diff.',yavg[imax]-yavg[imin]))\n",
    "    return None\n",
    "\n",
    "def plot_window(t,m,N):\n",
    "    fig = figure()\n",
    "    clf()\n",
    "\n",
    "    # Plot data\n",
    "    plot(range(m),t,'.',markersize=2,color='gray')\n",
    "\n",
    "    xavg,yavg = compute_window(t,N)\n",
    "    wnd, = plot(xavg,yavg,'.-',color='red',markersize=8)\n",
    "    imin = argmin(yavg)\n",
    "    bline, = plot([0,m],[yavg[imin]]*2,'-',color='cyan')\n",
    "    b, = plot(xavg[imin],yavg[imin],'*',color='cyan',markersize=25,mec='k')\n",
    "          \n",
    "    xlabel(\"Run #\",fontsize=16)\n",
    "    ylabel(\"Time (ms)\",fontsize=16)\n",
    "    tstr = \"Runs : {}; N = {};  R = {}\"\n",
    "    title(tstr.format(m,N,int(m/N)),fontsize=18)\n",
    "        \n",
    "    # needed to create slider\n",
    "    pmax = int(log2(m))\n",
    "    w = interactive(cb_window, f=fixed(fig),t=fixed(t),\n",
    "        tstr=fixed(tstr),w=fixed(wnd),bline=fixed(bline),b=fixed(b),p=(0,pmax,1));\n",
    "    w.background_color='white'\n",
    "    return w\n",
    "\n",
    "w = plot_window(t,m,16)"
   ]
  },
  {
   "cell_type": "code",
   "execution_count": null,
   "metadata": {},
   "outputs": [],
   "source": [
    "display(w)"
   ]
  },
  {
   "cell_type": "code",
   "execution_count": null,
   "metadata": {
    "collapsed": true
   },
   "outputs": [],
   "source": []
  }
 ],
 "metadata": {
  "kernelspec": {
   "display_name": "Python 3",
   "language": "python",
   "name": "python3"
  },
  "language_info": {
   "codemirror_mode": {
    "name": "ipython",
    "version": 3
   },
   "file_extension": ".py",
   "mimetype": "text/x-python",
   "name": "python",
   "nbconvert_exporter": "python",
   "pygments_lexer": "ipython3",
   "version": "3.6.3"
  }
 },
 "nbformat": 4,
 "nbformat_minor": 2
}
