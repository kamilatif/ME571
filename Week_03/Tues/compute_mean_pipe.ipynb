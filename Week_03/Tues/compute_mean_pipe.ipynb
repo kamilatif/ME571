{
 "cells": [
  {
   "cell_type": "markdown",
   "metadata": {},
   "source": [
    "# Computing the mean\n",
    "\n",
    "In this notebook, we compute the mean of an array of random numbers.  \n",
    "\n",
    "Rather than import NumPy, we will use the `%pylab` magic command, which essentially is equivalent\n",
    "\n",
    "    from numpy import *\n",
    "    from scipy import *\n",
    "    from matplotlib.pyplot import *"
   ]
  },
  {
   "cell_type": "code",
   "execution_count": null,
   "metadata": {},
   "outputs": [],
   "source": [
    "%matplotlib notebook\n",
    "%pylab"
   ]
  },
  {
   "cell_type": "code",
   "execution_count": null,
   "metadata": {
    "collapsed": true
   },
   "outputs": [],
   "source": [
    "import time, multiprocessing\n",
    "import pandas"
   ]
  },
  {
   "cell_type": "code",
   "execution_count": null,
   "metadata": {},
   "outputs": [],
   "source": [
    "N = 2**20\n",
    "x = random.rand(N)\n",
    "print(\"memory = {:.4f} (MB)\".format(8*N/1024**2))"
   ]
  },
  {
   "cell_type": "code",
   "execution_count": null,
   "metadata": {
    "collapsed": true
   },
   "outputs": [],
   "source": [
    "def vsum(x,cpipe):\n",
    "    s = sum(x)\n",
    "    cpipe.send(s)\n",
    "    \n",
    "def compute_mean(x,np):\n",
    "    N = len(x)\n",
    "    jobs = []\n",
    "    pp = []\n",
    "    for i in range(np):\n",
    "        ppipe, cpipe = multiprocessing.Pipe()\n",
    "        i1 = int(i*N/np)\n",
    "        i2 = int((i+1)*N/np)\n",
    "        \n",
    "        job = multiprocessing.Process(target=vsum,args=(x[i1:i2],cpipe))\n",
    "        pp.append(ppipe)\n",
    "        jobs.append(job)\n",
    "        \n",
    "    for job in jobs:\n",
    "        job.start()\n",
    "    \n",
    "    for job in jobs:\n",
    "        job.join()\n",
    "\n",
    "    s = 0\n",
    "    for p in pp:\n",
    "        s += p.recv()        \n",
    "        \n",
    "    return s/N    "
   ]
  },
  {
   "cell_type": "code",
   "execution_count": null,
   "metadata": {},
   "outputs": [],
   "source": [
    "%time a1 = compute_mean(x,8)\n",
    "print(\"a1 = {:24.16f}\".format(a1))\n",
    "print(\"\")\n",
    "\n",
    "\n",
    "%time a2 = mean(x)\n",
    "print(\"a2 = {:24.16f}\".format(a2))\n"
   ]
  },
  {
   "cell_type": "code",
   "execution_count": null,
   "metadata": {
    "collapsed": true
   },
   "outputs": [],
   "source": [
    "# Use 'timeit' loop (see 'using_timeit' notebook.)\n",
    "procs = 2**arange(0,6)\n",
    "tdata = empty(procs.shape)\n",
    "for i,np in enumerate(procs):\n",
    "    tr = %timeit -n 1 -r 5 -q -o pass; compute_mean(x,np)\n",
    "    tdata[i] = tr.best    "
   ]
  },
  {
   "cell_type": "code",
   "execution_count": null,
   "metadata": {},
   "outputs": [],
   "source": [
    "p = pandas.Series(procs,dtype='d')\n",
    "t = pandas.Series(tdata,dtype='d')\n",
    "df = pandas.DataFrame({'p' : p, 't' : t})\n",
    "display(df)"
   ]
  },
  {
   "cell_type": "markdown",
   "metadata": {},
   "source": [
    "## Plot results\n",
    "\n",
    "Use the Pandas front end to Matplotlib."
   ]
  },
  {
   "cell_type": "code",
   "execution_count": null,
   "metadata": {},
   "outputs": [],
   "source": [
    "di = {'p' : 'Processors', 't' : 'Time (s)'}\n",
    "style = {di['t'] : '.-'}\n",
    "\n",
    "df.rename(columns=di).plot(x=di['p'], logx=True, logy=True, style=style,markersize=15)\n",
    "xlabel(di['p'],fontsize=16)\n",
    "ylabel(di['t'],fontsize=16)\n",
    "title('Computing the mean')"
   ]
  },
  {
   "cell_type": "markdown",
   "metadata": {},
   "source": [
    "## Add best-fit line to data frame"
   ]
  },
  {
   "cell_type": "code",
   "execution_count": null,
   "metadata": {},
   "outputs": [],
   "source": [
    "c = polyfit(log(df['p'][:3]), log(df['t'][:3]),1)\n",
    "di['best-fit'] = 'Best fit (slope={:.2f})'.format(c[0])\n",
    "style[di['best-fit']] = 'r-'\n",
    "df['best-fit'] = exp(polyval(c,log(p)))\n",
    "\n",
    "df.rename(columns=di).plot(x=di['p'], logx=True, logy=True, style=style,markersize=15)"
   ]
  },
  {
   "cell_type": "code",
   "execution_count": null,
   "metadata": {
    "collapsed": true
   },
   "outputs": [],
   "source": []
  }
 ],
 "metadata": {
  "kernelspec": {
   "display_name": "Python 3",
   "language": "python",
   "name": "python3"
  },
  "language_info": {
   "codemirror_mode": {
    "name": "ipython",
    "version": 3
   },
   "file_extension": ".py",
   "mimetype": "text/x-python",
   "name": "python",
   "nbconvert_exporter": "python",
   "pygments_lexer": "ipython3",
   "version": "3.6.3"
  }
 },
 "nbformat": 4,
 "nbformat_minor": 2
}
