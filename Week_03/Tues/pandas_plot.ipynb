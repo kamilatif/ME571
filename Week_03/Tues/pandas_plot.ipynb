{
 "cells": [
  {
   "cell_type": "markdown",
   "metadata": {},
   "source": [
    "# Pandas plotting demonstration\n",
    "\n",
    "Pandas has a front end to Matplotlib plotting functions."
   ]
  },
  {
   "cell_type": "code",
   "execution_count": null,
   "metadata": {},
   "outputs": [],
   "source": [
    "%pylab inline\n",
    "%matplotlib notebook\n",
    "\n",
    "import pandas\n",
    "import numpy as np\n",
    "import pandas\n",
    "import random\n",
    "\n",
    "N = 11\n",
    "x  = pandas.Series(np.linspace(0,1,N+1))\n",
    "y1 = pandas.Series(x + 0.2*np.random.rand(N+1))\n",
    "y2 = pandas.Series(exp(x) + 0.2*np.random.rand(N+1))\n",
    "df = pandas.DataFrame({'x' : x, 'y1' : y1, 'y2' : y2})\n",
    "df"
   ]
  },
  {
   "cell_type": "code",
   "execution_count": null,
   "metadata": {},
   "outputs": [],
   "source": [
    "plt = df.plot(x='x',style='.-',markersize=10)\n",
    "plt.set_title(\"Pandas!\",fontsize=18);\n",
    "plt.set_xlabel('x',fontsize=16);\n",
    "plt.set_ylabel('y',fontsize=16);\n",
    "plt.set_xticks(linspace(0,1,11))"
   ]
  },
  {
   "cell_type": "code",
   "execution_count": null,
   "metadata": {
    "collapsed": true
   },
   "outputs": [],
   "source": []
  }
 ],
 "metadata": {
  "kernelspec": {
   "display_name": "Python 3",
   "language": "python",
   "name": "python3"
  },
  "language_info": {
   "codemirror_mode": {
    "name": "ipython",
    "version": 3
   },
   "file_extension": ".py",
   "mimetype": "text/x-python",
   "name": "python",
   "nbconvert_exporter": "python",
   "pygments_lexer": "ipython3",
   "version": "3.6.3"
  }
 },
 "nbformat": 4,
 "nbformat_minor": 2
}
