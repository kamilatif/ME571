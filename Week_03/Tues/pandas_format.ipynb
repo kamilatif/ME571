{
 "cells": [
  {
   "cell_type": "markdown",
   "metadata": {},
   "source": [
    "Formatting and displaying Pandas tables\n",
    "----\n",
    "\n",
    "In this notebook, we illustrate a few basic things about formatting \n",
    "Pandas tables and rendering them for display.  \n",
    "\n",
    "More details can be found [here](https://pandas.pydata.org/pandas-docs/stable/generated/pandas.io.formats.style.Styler.html). "
   ]
  },
  {
   "cell_type": "code",
   "execution_count": null,
   "metadata": {
    "collapsed": true
   },
   "outputs": [],
   "source": [
    "import pandas\n",
    "\n",
    "# Build a data frame with simple data\n",
    "a = pandas.Series([100.12,2,3])\n",
    "df = pandas.DataFrame({'a' : a,'b' : [4113214.5678334,-4.567,6], \n",
    "    'c' : ['yes','no','yes']})\n",
    "\n",
    "# Construct dictionary for labeling columns in display\n",
    "di = {'a' : 'A (J/K*kg)', 'b' : 'B (N/m^2)', 'c' : 'Valid run?'}"
   ]
  },
  {
   "cell_type": "markdown",
   "metadata": {},
   "source": [
    "First, we create a styling object based on the DataFrame style.   We also convert the column headers to the longer form for output purposes. "
   ]
  },
  {
   "cell_type": "code",
   "execution_count": null,
   "metadata": {
    "collapsed": true
   },
   "outputs": [],
   "source": [
    "pr = df.rename(columns=di).style"
   ]
  },
  {
   "cell_type": "markdown",
   "metadata": {},
   "source": [
    "Then, we set some simple properties such as precision.  Note that *precision* means total number digits to display, not number of digits after the decimal place.  "
   ]
  },
  {
   "cell_type": "code",
   "execution_count": null,
   "metadata": {
    "collapsed": true
   },
   "outputs": [],
   "source": [
    "pr.set_precision(4)"
   ]
  },
  {
   "cell_type": "markdown",
   "metadata": {},
   "source": [
    "To have more control over the formatting, we can format columns individually using C=style format strings.  \n",
    "\n",
    "**Note** : The field width parameter in the format string does not seem to have any affect so we will change column widths using a different approach."
   ]
  },
  {
   "cell_type": "code",
   "execution_count": null,
   "metadata": {
    "collapsed": true
   },
   "outputs": [],
   "source": [
    "fstr = {di[\"a\"] : '{:.5f}'.format, di[\"b\"]:'{:.2e}'.format, \n",
    "    di['c'] : str.capitalize}    # width has no affect\n",
    "pr.format(fstr)"
   ]
  },
  {
   "cell_type": "markdown",
   "metadata": {},
   "source": [
    "We can highlight minimum and maxium quantites in the table, and change column width. "
   ]
  },
  {
   "cell_type": "code",
   "execution_count": null,
   "metadata": {
    "collapsed": true
   },
   "outputs": [],
   "source": [
    "pr.highlight_min(axis=None,color='yellow')\n",
    "pr.highlight_max(axis=None,color='red')\n",
    "\n",
    "pr.set_properties(subset=[di[\"a\"]],width='90px')     # Set width here\n",
    "pr.set_properties(subset=[di[\"b\"]],width='120px')"
   ]
  },
  {
   "cell_type": "markdown",
   "metadata": {},
   "source": [
    "Exporting to HTML and Latex\n",
    "----\n",
    "\n",
    "We can export these tables to HTML or Latex with the following commands.  As with the tables above, formatting strings can be added.  But the 'formatters' keyword requires one-parameter functions, so we include the `.format` to produce a function that returns the formatted numeric data."
   ]
  },
  {
   "cell_type": "code",
   "execution_count": null,
   "metadata": {
    "collapsed": true
   },
   "outputs": [],
   "source": [
    "fstr = {di['a'] : \"{:.4f}\".format, di['b'] :'{:.2e}'.format, \n",
    "    di['c'] : str.capitalize}    \n",
    "df_html = df.rename(columns=di).to_html(formatters=fstr,justify='right')\n",
    "print(df_html)"
   ]
  },
  {
   "cell_type": "markdown",
   "metadata": {},
   "source": [
    "Similarly, we can get Latex output.   We include `\\num` in the format string so that we can use the `siunitx` latex package for providing the formatting."
   ]
  },
  {
   "cell_type": "code",
   "execution_count": null,
   "metadata": {
    "collapsed": true
   },
   "outputs": [],
   "source": [
    "fstr = {di['a'] : \"\\\\num({})\".format, di['b'] :'\\\\num({})'.format, \n",
    "    di['c'] : str.capitalize}  \n",
    "df_latex = df.rename(columns=di).to_latex(formatters=fstr,escape=False)\n",
    "print(df_latex)"
   ]
  }
 ],
 "metadata": {
  "kernelspec": {
   "display_name": "Python 3",
   "language": "python",
   "name": "python3"
  },
  "language_info": {
   "codemirror_mode": {
    "name": "ipython",
    "version": 3
   },
   "file_extension": ".py",
   "mimetype": "text/x-python",
   "name": "python",
   "nbconvert_exporter": "python",
   "pygments_lexer": "ipython3",
   "version": "3.6.3"
  }
 },
 "nbformat": 4,
 "nbformat_minor": 2
}
