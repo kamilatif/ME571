{
 "cells": [
  {
   "cell_type": "markdown",
   "metadata": {},
   "source": [
    "# Homework #1 tips"
   ]
  },
  {
   "cell_type": "markdown",
   "metadata": {},
   "source": [
    "## Generating random numbers\n",
    "\n",
    "There are at least two ways to generate random numbers in Python.  We can use the native Python module `random`, or use the NumPy module `numpy.random`.  The Numpy module includes a function `rand` which is essentially the same as the Matlab function `rand` and allows you to create an array of random numbers.   \n",
    "\n",
    "In the first example, we use the Python native random number generator and [list comprehensions](https://docs.python.org/2/tutorial/datastructures.html#list-comprehensions) to create an array of random numbers. "
   ]
  },
  {
   "cell_type": "code",
   "execution_count": null,
   "metadata": {},
   "outputs": [],
   "source": [
    "import random\n",
    "\n",
    "N = 10\n",
    "x = [random.random() for w in range(N)]  # list comprehension\n",
    "x"
   ]
  },
  {
   "cell_type": "markdown",
   "metadata": {},
   "source": [
    "Numpy also supplies several random number generators in their random module. "
   ]
  },
  {
   "cell_type": "code",
   "execution_count": null,
   "metadata": {},
   "outputs": [],
   "source": [
    "import numpy\n",
    "\n",
    "x = numpy.random.rand()    # A single scalar\n",
    "print(x)\n",
    "\n",
    "y = numpy.random.rand(10)  # An array of random numbers\n",
    "print(y)"
   ]
  },
  {
   "cell_type": "markdown",
   "metadata": {},
   "source": [
    "The main benefit of the NumPy version is  that you can create an array of random numbers.  The main drawback to Numpy.random is that the random number generator must be seeded in each new child process.\n",
    "\n",
    "When generating random numbers in processes forked by the multiprocessing module, we may have to seed the sub-process.  For example, the NumPy module will generate the same random number in each child process unless we seed the generator in the newly created process."
   ]
  },
  {
   "cell_type": "code",
   "execution_count": null,
   "metadata": {},
   "outputs": [],
   "source": [
    "import multiprocessing as mp\n",
    "\n",
    "def print_rand():\n",
    "    # seed the numpy random number generator\n",
    "    numpy.random.seed()        \n",
    "    x = numpy.random.rand()    # returns a scalar\n",
    "    y = random.random()\n",
    "    print(\"{:24.16f} {:24.16f}\".format(x,y))\n",
    "\n",
    "np = 4\n",
    "jobs = []\n",
    "for i in range(np):\n",
    "    p = mp.Process(target=print_rand)\n",
    "    p.start()\n",
    "    jobs.append(p)\n",
    "    \n",
    "for j in jobs:\n",
    "    j.join()"
   ]
  },
  {
   "cell_type": "markdown",
   "metadata": {},
   "source": [
    "# Storing results of  `timeit`\n",
    "\n",
    "Using the magic command `%%timeit` has many advantages, including that it gives us more robust statistics.  But if we use it to time a block of code, we may wish to return the results to a variable.  This can be done using the default underscore (\"_\") argument.   This variable stores the value of the last expression evaluated.  For example : "
   ]
  },
  {
   "cell_type": "code",
   "execution_count": null,
   "metadata": {},
   "outputs": [],
   "source": [
    "5 + 7"
   ]
  },
  {
   "cell_type": "code",
   "execution_count": null,
   "metadata": {},
   "outputs": [],
   "source": [
    "print(\"Result is {}\".format(_))    # Underscore variable stores result"
   ]
  },
  {
   "cell_type": "markdown",
   "metadata": {},
   "source": [
    "We can use this to store the results of `timeit`.  We will collect results in the variable `t`.   The \"-o\" flag tells `timeit` to return the results.  These results will be returned in a `TimeitResult` object."
   ]
  },
  {
   "cell_type": "code",
   "execution_count": null,
   "metadata": {
    "collapsed": true
   },
   "outputs": [],
   "source": [
    "time_results = []     # Store timing results in this list"
   ]
  },
  {
   "cell_type": "code",
   "execution_count": null,
   "metadata": {},
   "outputs": [],
   "source": [
    "%%timeit -n 10 -r 5 -o -p 10\n",
    "N = 100000; v = numpy.random.rand(N)   # first line is not timed.\n",
    "\n",
    "w = []\n",
    "for i in range(N):\n",
    "    w.append(v[i] + v[i])"
   ]
  },
  {
   "cell_type": "markdown",
   "metadata": {},
   "source": [
    "We can store this result in a variable (e.g. `tr`).  The result can also be appended to our `t` list of times."
   ]
  },
  {
   "cell_type": "code",
   "execution_count": null,
   "metadata": {},
   "outputs": [],
   "source": [
    "tr = _     # Store results of last expression evaluated\n",
    "time_results.append(tr.average)    "
   ]
  },
  {
   "cell_type": "markdown",
   "metadata": {},
   "source": [
    "Using the `?` help system, we can get information about the object type `TimeitResult`.   \n",
    "\n",
    "We can now time a second loop and store the timing for that loop : "
   ]
  },
  {
   "cell_type": "code",
   "execution_count": null,
   "metadata": {},
   "outputs": [],
   "source": [
    "%%timeit -n 10 -r 5 -o -p 10\n",
    "N = 100000; v = numpy.random.rand(N) \n",
    "\n",
    "w = list(map(lambda x,y : x + y, v,v))"
   ]
  },
  {
   "cell_type": "code",
   "execution_count": null,
   "metadata": {
    "collapsed": true
   },
   "outputs": [],
   "source": [
    "time_results.append(_.average)"
   ]
  },
  {
   "cell_type": "markdown",
   "metadata": {},
   "source": [
    "Two timing values are now stored in `t`"
   ]
  },
  {
   "cell_type": "code",
   "execution_count": null,
   "metadata": {},
   "outputs": [],
   "source": [
    "print(time_results)"
   ]
  },
  {
   "cell_type": "markdown",
   "metadata": {
    "collapsed": true
   },
   "source": [
    "Using the `?` help system, we can get information about `tr` (created above) and the object type `TimeitResult`.   "
   ]
  },
  {
   "cell_type": "code",
   "execution_count": null,
   "metadata": {},
   "outputs": [],
   "source": [
    "? tr"
   ]
  },
  {
   "cell_type": "code",
   "execution_count": null,
   "metadata": {
    "collapsed": true
   },
   "outputs": [],
   "source": []
  }
 ],
 "metadata": {
  "kernelspec": {
   "display_name": "Python 3",
   "language": "python",
   "name": "python3"
  },
  "language_info": {
   "codemirror_mode": {
    "name": "ipython",
    "version": 3
   },
   "file_extension": ".py",
   "mimetype": "text/x-python",
   "name": "python",
   "nbconvert_exporter": "python",
   "pygments_lexer": "ipython3",
   "version": "3.6.3"
  }
 },
 "nbformat": 4,
 "nbformat_minor": 2
}
