{
 "cells": [
  {
   "cell_type": "code",
   "execution_count": 9,
   "metadata": {},
   "outputs": [
    {
     "name": "stdout",
     "output_type": "stream",
     "text": [
      "Overwriting pool_demo1.py\n"
     ]
    }
   ],
   "source": [
    "%%file pool_demo1.py\n",
    "\n",
    "from multiprocessing import Pool, TimeoutError\n",
    "import multiprocessing\n",
    "import time\n",
    "import os\n",
    "import numpy as np\n",
    "\n",
    "def zzz(t):\n",
    "    id = os.getpid()\n",
    "    print(\"In process {};  waiting {:8.2} seconds\".format(id,t))\n",
    "    time.sleep(t)\n",
    "    return os.getpid()\n",
    "\n",
    "if __name__ == '__main__':\n",
    "    pool = Pool(processes=2)              # start 4 worker processes\n",
    "\n",
    "    print(\"I have {} cores\".format(multiprocessing.cpu_count()))\n",
    "    print(\"Main process is {}\".format(os.getpid()))\n",
    "    \n",
    "# launching multiple evaluations asynchronously *may* use more processes\n",
    "    sleep_times = 10*np.random.rand(11)\n",
    "    multiple_results = pool.map_async(zzz,sleep_times)\n",
    "    print(multiple_results.get())\n",
    "        "
   ]
  },
  {
   "cell_type": "code",
   "execution_count": null,
   "metadata": {},
   "outputs": [],
   "source": [
    "%%bash \n",
    "python pool_demo1.py"
   ]
  },
  {
   "cell_type": "code",
   "execution_count": null,
   "metadata": {
    "collapsed": true
   },
   "outputs": [],
   "source": []
  }
 ],
 "metadata": {
  "kernelspec": {
   "display_name": "Python 3",
   "language": "python",
   "name": "python3"
  },
  "language_info": {
   "codemirror_mode": {
    "name": "ipython",
    "version": 3
   },
   "file_extension": ".py",
   "mimetype": "text/x-python",
   "name": "python",
   "nbconvert_exporter": "python",
   "pygments_lexer": "ipython3",
   "version": "3.6.3"
  }
 },
 "nbformat": 4,
 "nbformat_minor": 2
}
